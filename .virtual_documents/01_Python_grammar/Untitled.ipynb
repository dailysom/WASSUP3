


def add(a, b):
    return a + b


a = 3
b = 4
add(3, 4)


c = add(3, 4)
c





# 일반적인 함수
def add(a,b):
    result = a + b
    return result


# 입력값이 없는 함수
def say():
    return 'Hi'


say()


print?


# 리턴값이 없는 함수 
def add(a,b):
    print("%d, %d의 합은 %d"입니다." % (a, b, a+b))


add(3, 4)

















## 입력값이 몇개가 될지 모를 때에는 어떻게 해야할까? 


print('dasdsa', 'sads')


def add_many(*args): 
     result = 0 
     for i in args: 
        result = result + i   # *args에 입력받은 모든 값을 더한다.
     return result 


add_many(1,3,5,7,9)


add_many(1,2,3,54,6,57,8,9,7,7,4,23,2)


print?








- value(갯수무관), 'sum'입력 -> 누적곱 





def calculator(Operator, args):    ## 으뜸님코드
    result = 0
    for i in args:
        if Operator == "+":
            result += i
        elif Operator == "":
            if result == 0:
                result = 1
            result *= i
        else:
            result = 0
    return result












































def print_kwargs(**kwargs):
    print(kwargs)


print_kwargs(a=1)


print_kwargs(name = 'est', age =20)





def add_and_mul(a,b):
    return a+b, a*b


a = add_and_mul(3,4)
a


len(a), type(a)


a, b = add_and_mul((3,4)
                   a


b


a, 








# return 의 또 다른 쓰임새



def say_nick(nick):
    if nick == "바보":
        return
    print("나의 별명은 %s 입니다.") % nick)


























def add(a,b):
    return a+b


add = lambda a, b: a+b
result = add(3,4)
print(result)





# input 사용하기
a = input()
a


# 프롬프트로 사용자 입력바디 
a = input('입력해주세요')
a





print('hi', 'hello', 'thank', 'you')


for i in range(10):
    print(i, end=' ')





f = open('새파일.txt', 'w')
f.close()


f = open('C:/workspace/WASSUP3/01_Python_grammar/output/새파일.'txt', 'w')
f.close()


pwd


f = open('output/새파일2.txt', 'w')
print(f, type)
f.close()


pwd


f = open('output/새파일2.txt', 'w')

for i in range(1,11):
    data = f'{i}번째 줄입니다.\n'
    f.write(data)
f.close()





# readline 함수
f = open("output/새파일.txt", 'r')
line = f.readline()
print(line)
f.close()








f = open("output/새파일.txt, 'r'")
lines = f.readlines()
print(lines)
f.close()





f = open("output/새파일.txt", 'r')
lines = f.readlines()
for line in lines:
    print(line.strip())
f.close()








# read함수 사용하기 
f = open("output/새파일.txt", 'r')
data = f.read()
print(len(data), type(data))
print(data)
f.close()





## 파일 객체를 for문과 함께 사용하기 
f = open("output/새파일.txt", 'r')
print(f, type(f))





























































































