


a = 123


a


a = -178
a


a = 0
a


a = 1.2
a


a = -3.45
a


a = 4


a =4.24E-10
a


a = 0o177
a


a = 0x8ff
b = 0xABC
a,b





a = 3
b = 4
a + b


a*b


a-b


a/b





a ** b


나눗셈 나머지 연산 


7 % 3


3 % 7





7 // 4


7 / 4





"Hello World"

















"Python's favorite food is perl"


'"Pyton is very easy." he says.'


'Python\'s favorite food is perl'


"Life is too short \n You need python"


mutliline = "Life is too short \n You need python"
mutliline


print(mutliline)


mutliline = '''
Life is too short
You need python
'''


mutliline





head = "Python"
tail = " is fun!"
head + tail


a = 'python'
a * 5


print('='*50)


a = "Life is too short"
len(a)





a = "Life is too short, You need Python"


len(a)


a[3]  파이썬은 0부터 시


a[13] 


a[-1]





a = "Life is too short, You need Python"
a[0]+a[1]+a[2]+a[3]


a[0:4]


a[0:3]


a[19:34]


a[19:len(a)]


a[-15:]


a[:]


a[19:-7]





a = "20240610Sunny"
date = a[:8]
weather = a[8:]
date, weather











# 숫자 바로 대입
"I ead %d apples"%3


# 문자열 바로 대입
"I ead %s apples"%"five"


"I ead %s apples"%5


"I eat %d apples "%"삼"


# 숫자 값을 나타내는 변수로 대입 
num = 3
"I eat %d apples "%num




































