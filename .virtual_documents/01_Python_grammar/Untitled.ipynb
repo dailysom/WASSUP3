a = [(1,2), (3,4), (5,6)]
for (first, last) in a:
(first + last)


marks = [90, 25, 67, 45, 80]

# marks1.py
marks = [90, 25, 67, 45, 80]   # 학생들의 시험 점수 리스트

number = 0   # 학생에게 붙여 줄 번호
for mark in marks:   # 90, 25, 67, 45, 80을 순서대로 mark에 대입
    number = number +1 
    if mark >= 60: 
        print("%d번 학생은 합격입니다." % number)
    else: 
        print("%d번 학생은 불합격입니다." % number)


scores=[90, 25, 67, 45, 80]  # 으뜸님 
합격불합격 = ""
for score in scores:
    if score >= 60:
        합격불합격 = "합격"
    else:
        합격불합격 = "불합격"
    print(score, 합격불합격)


marks = [90,25,67,45,80]   # 유진님
student = 0

for i in marks:
    student += 1
    if i >= 60:
        print(student, '번 학생: 합격')
    else : 
        print(student, '번 학생: 불합격')


marks = [90, 25, 67, 45, 80]
for i in marks:
    if i >= 60:
        print('합격')
    else :
        print('불합격') # 민수


# coni


marks = [90, 25, 67, 45, 80]

number = 0 
for mark in marks: 
    number = number +1 
    if mark < 60:
        continue 
    print("%d번 학생 축하합니다. 합격입니다. " % number)





for i in range(10):
    print(i)


for i in range(10+1):
    print(i)


sum = 0 # 템프변수 0을 만드셨음 , 날라가지 않도록 저장소 즉, sum을 만든거 
for i in range(1, 11):
    sum += i
    print(sum)
# print(sum)


marks = [90, 25, 67, 45, 80]  # 
for number in range(len(marks)): # len(marks) 여기에 5를 넣는다 그럼 변수에서 차례대로 0,1,2,3,4
    if marks[number] < 60: 
        continue # 넘어갈때 
    print("%d번 학생 축하합니다. 합격입니다." % (number+1))


for a in range(2,10):        
     for b in range(1, 10):   
         print(a*b) 


for i in range(1,10):
    for j in range(1,10):
        print((i)*(j))


for i in range(2,10):
    for u in range(1,10):
        print((i)*(u))


import time

start = time.time() 
numbers = [i for i in range(1000000)] 
end = time.time() 
print('List Comprehension Time:', end-start)

start = time.time() 
numbers = []
for i in range(1000000):
    numbers.append(i)
end = time.time() 
print('For loop Time:', end-start)
















































































































































