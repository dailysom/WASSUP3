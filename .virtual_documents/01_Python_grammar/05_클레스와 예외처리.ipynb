


# 더하기
result = 0

def add(num):
    global result
    result += num  # 결괏값(result)에 입력값(num) 더하기
    return result  # 결괏값 리턴

print(add(3))
print(add(4))


result1 = 0
result2 = 0

def add1(num):  # 계산기1
    global result1
    result1 += num
    return result1

def add2(num):  # 계산기2
    global result2
    result2 += num
    return result2

print(add1(3))
print(add1(4))
print(add2(3))
print(add2(7))


class Calculator:
    def __init__(self):
        self.result = 0

    def add(self, num):
        self.result += num
        return self.result

cal1 = Calculator()
cal2 = Calculator()

print(cal1.add(3))
print(cal1.add(4))
print(cal2.add(3))
print(cal2.add(7))





class Cookie:
    pass

type(Cookie())


a = Cookie()
print(a, type(a))


# 사칙연산 클래스 만들기


# class
class FourCal:
    def setdata (self, first, second):
        self.first = first
        self.second = second
    def add (self):
        return (self.first + self.second)
    def sub (self):
        return (self.first - self.second)
    def mul (self):
        return (self.first * self.second)
    def div (self):
        return (self.first / self.second)

#function
def setdata(self, first, second):
    self.first = first
    self.second = second


a = FourCal()
a.setdata(1, 2)


# 메서드를 호출하는 또다른 방법
a = FourCal()
FourCal.setdata(a, 4, 2)





a.first


a.second


a.setdata


a = FourCal()
b = FourCal()


a.setdata(4,2)
a.first, a.second


b.setdata(1,3)
b.first, b.second


a = FourCal()
a.setdata(4,2)

a.first, a.second, a.add(), a.sub(), a.mul(), a.div()


# class
class FourCal:
    def __init__ (self, first = 0, second = 0):
        self.first = first
        self.second = second
    # def setdata (self, first, second):
    #     self.first = first
    #     self.second = second
    def add (self):
        return (self.first + self.second)
    def sub (self):
        return (self.first - self.second)
    def mul (self):
        return (self.first * self.second)
    def div (self):
        return (self.first / self.second)


a = FourCal()
a.add()





class MoreFourCal(FourCal):
    def pow(self):
        return self.first ** self.second


a = MoreFourCal(1, 2)
a.add()


a = MoreFourCal(1, 2)
a.pow()





class SafeFourCal(FourCal):
     def div(self):
         if self.second == 0:  # 나누는 값이 0인 경우 0을 리턴하도록 수정
             return 0
         else:
             return self.first / self.second


a = SafeFourCal(3,0)
a.div()





class Family:
    lastname = "김"


Family.lastname


a = Family()
b = Family()

a.lastname, b.lastname


Family.lastname = "박"
a = Family()
b = Family()

a.lastname, b.lastname


a.lastname = "최"

a.lastname, b.lastname








f = open("a", 'r')


# 0나누기
3/0


# index 범위를 벗어났을 때
a = [1,2,3]
a[4]





# Try - Except만 쓰는 방법
try:
    4/0
except:
    print(0)


# 발생 오류만 포함한 except 문
try:
    4/0
except ZeroDivisionError:
    print(0)


try:
    4/0
except FileNotFoundError:
    print(0)


try:
    4/0
except ZeroDivisionError as e:
    print(e)





try:
    f = open('foo.txt', 'w')
    # 무언가를 수행한다.
finally:
    f.close()  # 중간에 오류가 발생하더라도 무조건 실행된다.





try:
    a = [1,2]
    print(a[3])
    4/0
except ZeroDivisionError:
    print("0으로 나눌 수 없습니다.")
except IndexError:
    print("인덱싱 할 수 없습니다.")


try:
    a = [1,2]
    print(a[3])
    4/0
except ZeroDivisionError as e:
    print(e)
except IndexError as e:
    print(e)





try:
    age=int(input('나이를 입력하세요: '))
except:
    print('입력이 정확하지 않습니다.')
else:
    if age <= 18:
        print('미성년자는 출입금지입니다.')
    else:
        print('환영합니다.')





try:
    f = open("나없는파일", 'r')
except FileNotFoundError:
    pass





class Bird:
    def fly(self):
        raise NotImplementedError


class Eagle(Bird):
    pass

eagle = Eagle()
eagle.fly()


class Eagle(Bird):
    def fly(self):
        print("very fast")

eagle = Eagle()
eagle.fly()





class MyError(Exception):
    pass


def say_nick(nick):
    if nick == '바보':
        raise MyError()
    print(nick)


say_nick("천사")
say_nick("바보")


try:
    say_nick("천사")
    say_nick("바보")
except MyError:
    print("허용되지 않는 별명입니다.")
