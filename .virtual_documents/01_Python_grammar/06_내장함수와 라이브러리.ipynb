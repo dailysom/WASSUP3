





abs(-1), abs(1), abs(-9)





all([1,2,3])


all([1,2,3,0])


all([])





any([1,2,3,4,0])


any([0, ""])


any([])





chr(97)


chr(40000)





dir(list)





divmod(3,2)





for i, name in enumerate(['body', 'foo', 'bar']):
     print(i, name)





eval('1+2')





def positive(l): 
    result = [] 
    for i in l: 
        if i > 0: 
            result.append(i) 
    return result

print(positive([1,-3,2,0,-5,6]))


def positive(x):
    return x > 0

print(list(filter(positive, [1, -3, 2, 0, -5, 6])))


list(filter(lambda x: x > 0 , [1, -3, 2, 0, -5, 6]))





int('3')


int(3.14)








class Person: pass

a = Person()
isinstance(a, Person)


b = 1
isinstance(b, Person)





list("asdfg")


list((1,2,3))





def two_times(x): 
     return x*2

list(map(two_times, [1, 2, 3, 4]))


list(map(lambda x : x*2, [1, 2, 3, 4]))





max([1, 2, 3])





min([1, 2, 3])





ord('a')


# range 해당 범위에 따른 반복가능한 리스트 리턴


range(1, 3)


list(range(1, 3))


list(range(1, 10,2))





round(1.2)


round(1.21234, 3)





sorted([3, 1, 2])


sorted(['a', 'c', 'b'])


sorted("zero")





list(zip([1, 2, 3], [4, 5, 6]))


list(zip([1, 2, 3], [4, 5, 6], [7, 8, 9]))


list(zip("abc", "def"))





import datetime


day1 = datetime.date(2024, 5, 2)
day2 = datetime.date(2024, 6, 18)

day1, day2


diff = day2 - day1
diff.days


day = datetime.date(2024, 6, 18)
day.weekday()


day.isoweekday()






import time
time.time()


time.localtime(time.time())


time.asctime(time.localtime(time.time()))


time.ctime()


time.strftime('%x', time.localtime(time.time()))


time.strftime('%c', time.localtime(time.time()))


for i in range(10):
    print(i)
    time.sleep(1)





import random


random.random()


random.randint(1, 10)


import random
로또번호 = []
while len(로또번호) < 6:
    번호 = random.randint(1, 45)
    if 번호 not in 로또번호:
        로또번호.append(번호)
        
로또번호


import random
def random_pop(data):
    number = random.randint(0, len(data)-1)
    return data.pop(number)

if __name__ == "__main__":
    data = [1, 2, 3, 4, 5]
    while data: 
        print(random_pop(data))


def random_pop(data):
    number = random.choice(data)
    data.remove(number)
    return number

import random
data = range(1, 46)
random.sample(data, 6)





import glob
list = []
list = []
for i in glob.glob("C:\\workspace\\wassup3\\01_Python_grammer\\*.ipynb"):
    print(i.split("\\", 5)[4].split(".")[0])





import os
os.environ


os.environ['PATH']


os.chdir("C:\WINDOWS")
os.chdir("C:\\workspace\\wassup3\\01_Python_grammer")
os.getcwd()


os.system("dir")
f = os.popen("dir")
print(f.read())


import time

def long_task():  # 5초의 시간이 걸리는 함수
    for i in range(5):
        time.sleep(1)  # 1초간 대기한다.
        print("working:%s\n" % i)

print("Start")

for i in range(5):  # long_task를 5회 수행한다.
    long_task()

print("End")








import json
myinfo = {
    "name": "홍길동",
    "birth": "0525",
    "age": 30
}
with open('myinfo.json', 'w') as f:
    json.dump(myinfo, f, ensure_ascii=False)

with open('myinfo.json') as f:
    data = json.load(f)
data







import urllib.request

def get_wikidocs(page):
    resource = 'https://wikidocs.net/{}'.format(page)
    with urllib.request.urlopen(resource) as s:
        with open('wikidocs_%s.html' % page, 'wb') as f:
            f.write(s.read())

get_wikidocs(33)





import webbrowser

webbrowser.open_new('http://python.org')





pip list


pip install faker


from faker import Faker

fake = Faker()

type(fake), fake

fake.name()


fake = Faker('ko-KR')

fake.name()


test_data = [(fake.name(), fake.address()) for i in range(30)]
test_data


fake.catch_phrase() 
