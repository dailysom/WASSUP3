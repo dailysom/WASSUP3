


print('Hello World')


print("Mary's cosmetics")


print('신씨가 소리질렀다. "도둑이야".')


'C:\\Windows' # 답을 못찾았다..


줄바꿈, 문자열 사이에 탭 간격을 줄 때 사용 줄바꿈, 문자열 사이에 탭 간격을 줄 때 사용 


print ("오늘은", "일요일")


("naver", "kakao", "samsung", sep=";") # 뭐가 문제일까..


print "naver", "kakao", "samsung" # 뭐가 문제일까..
sep="/"


("first", end="");("second") # 뭐가 문제일까..


5/3





삼성전자 = 50000
삼성전자*10


시가총액 = 298조 # 뭐가 문제일까..
현재가 = 50000원
PER = 15.79


s = "hello"
t = "python"
(s+"!", t)


a = 2 + 2 * 3 
a


a = "132"
(type(a))


num_str = "720"  
num_int = int(num_str)
(num_int+1, type(num_int))


ed!num = 100
result = str(num)
print(result, type(result))


data = "15.79"
data = float(data)
(data, type(data))





a = 48584
a*36
a





letters = 'python'
letters[0] + letters[2]


license_plate = "24가 2210"
license_plate[-4:]


string = "홀짝홀짝홀짝"
string[0] + string[2] + string[4]


string = "PYTHON"
(string[::-1])


phone_number = "010-1111-2222"
phone_number1 = phone_number.replace("-", " ")
(phone_number1)


phone_number = "010-1111-2222"
phone_number1 = phone_number.replace('-', '')
(phone_number1)


url = "http://sharebook.kr"
url[-2:]


lang = 'python'
lang[0] = 'P'


string = 'abcdfe2a354a32a'
string = string.replace('a', 'A')
(string)


string = 'abcd'
string.replace('b', 'B')
(string)





a = "3"
b = "4"
(a + b)


Hi3?


a = '-'
a*80


t1 = "python"
t2 = "java"
t3 = t1 + ' ' + t2 + ' '
(t3 * 4)














분기 = "2020/03(E) (IFRS연결)"
(분기[:7])


data = "   삼성전자    "
data1 = data.strip()
(data1)





ticker = "btc_krw"
ticker1 = ticker.upper()
(ticker1)


ticker = "BTC_KRW"
ticker = ticker.lower()
(ticker)


a = "hello"
a = a.capitalize()
a


file_name = "보고서.xlsx"
file_name.endswith("xlsx")


file_name = "보고서.xlsx"
file_name.endswith(("xlsx", "xls"))


file_name = "2020_보고서.xlsx"
file_name.startswith("2020")


a = "hello world"
a.split()


ticker = "btc_krw"
ticker.split("_")


date = "2020-05-01"
date.split("-")


data = "039490     "
data = data.rstrip()
data





movie_rank = ["닥터 스트레인지", "스플릿", "럭키"]
movie_rank


movie_rank = ["닥터 스트레인지", "스플릿", "럭키"]
movie_rank.append("배트맨")
movie_rank


movie_rank = ['닥터 스트레인지', '스플릿', '럭키', '배트맨']
movie_rank.insert(1, "슈퍼맨")
movie_rank


movie_rank = ['닥터 스트레인지', '슈퍼맨', '스플릿', '럭키', '배트맨']
del movie_rank[3]
movie_rank


movie_rank = ['닥터 스트레인지', '슈퍼맨', '스플릿', '배트맨']
del movie_rank[2:]
movie_rank


lang1 = ["C", "C++", "JAVA"]
lang2 = ["Python", "Go", "C#"]
langs = lang1 + lang2
langs


nums = [1, 2, 3, 4, 5, 6, 7]
("max: ", max(nums))
("min: ", min(nums))


nums = [1, 2, 3, 4, 5]
(sum(nums))


cook = ["피자", "김밥", "만두", "양념치킨", "족발", "피자", "김치만두", "쫄면", "소시지", "라면", "팥빙수", "김치전"]
(len(cook))


nums = [1, 2, 3, 4, 5]
average = sum(nums) / len(nums)
average





price = ['20180728', 100, 130, 140, 150, 160, 170]
(price[1:])


nums = [1, 2, 3, 4, 5, 6, 7, 8, 9, 10]
(nums[::2])


nums = [1, 2, 3, 4, 5, 6, 7, 8, 9, 10]
(nums[1::2])


nums = [1, 2, 3, 4, 5]
(nums[::-1])


interest = ['삼성전자', 'LG전자', 'Naver']
(interest[0], interest[2])


interest = ['삼성전자', 'LG전자', 'Naver', 'SK하이닉스', '미래에셋대우']
(" ".join(interest))


interest = ['삼성전자', 'LG전자', 'Naver', 'SK하이닉스', '미래에셋대우']
("/".join(interest))





string = "삼성전자/LG전자/Naver"
interest = string.split("/")
(interest)


data = [2, 4, 3, 1, 5, 10, 9]
data2 = sorted(data)
(data2)





my_variable = ()
type(my_variable)


>> print(type(my_variable))
<class 'tuple'>


movie_rank= ("닥터 스트레인지", "스플릿", "럭키")
movie_rank




















data = tuple(range(2, 100, 2))
( data )





scores = [8.8, 8.9, 8.7, 9.2, 9.3, 9.7, 9.9, 9.5, 7.8, 9.4]
*valid_score, _, _= scores
(valid_score)


scores = [8.8, 8.9, 8.7, 9.2, 9.3, 9.7, 9.9, 9.5, 7.8, 9.4]
a, b, *valid_score = scores
(valid_score)


scores = [8.8, 8.9, 8.7, 9.2, 9.3, 9.7, 9.9, 9.5, 7.8, 9.4]
a, *valid_score, b = scores
(valid_score)


temp = { }


ice = {"메로나": 1000, "폴라포": 1200, "빵빠레": 1800}
(ice)


ice = {"메로나": 1000, "폴라포": 1200, "빵빠레": 1800}
ice["죠스바"] = 1200
ice["월드콘"] = 1500
(ice)


ice = {'메로나': 1000,
       '폴로포': 1200,
       '빵빠레': 1800,
       '죠스바': 1200,
       '월드콘': 1500}
del '메로나'





ice = {'메로나': 1000,
       '폴로포': 1200,
       '빵빠레': 1800,
       '죠스바': 1200,
       '월드콘': 1500}
del ice["메로나"]
(ice)








inventory = {"메로나": [300, 20], 
             "비비빅": [400, 3], 
             "죠스바": [250, 100]}
(inventory)


inventory = {"메로나": [300, 20],
              "비비빅": [400, 3],
              "죠스바": [250, 100]}
(inventory["메로나"][0], "원")


inventory = {"메로나": [300, 20],
              "비비빅": [400, 3],
              "죠스바": [250, 100]}
(inventory["메로나"][1], "개")


inventory = {"메로나": [300, 20],
              "비비빅": [400, 3],
              "죠스바": [250, 100]}
inventory = {"메로나": [300, 20], 
             "비비빅": [400, 3], 
             "죠스바": [250, 100]}
inventory["월드콘"] = [500, 7]
(inventory)


icecream = {'탱크보이': 1200, '폴라포': 1200, '빵빠레': 1800, '월드콘': 1500, '메로나': 1000}

icecream = {'탱크보이': 1200, '폴라포': 1200, '빵빠레': 1800, '월드콘': 1500, '메로나': 1000}
price = list(icecream.values())
(price)




















bool 타입 입니다. 


False


True


True


True


이상한 등호식? 


if 4 < 3:
    print("Hello World")


Hi,there(else 조건을 만족하지 않아서)


1,2,4


3,5





print("안녕하세요"*2)


user = input("숫자를 입력하세요: ")
(10 + int(user))


user = input("")
if int(user) % 2 == 0:
    print("짝수")
else:
    print("홀수")








warn_investment_list = ["Microsoft", "Google", "Naver", "Kakao", "SAMSUNG", "LG"]
종목 = input("종목명: ")
if 종목 in warn_investment_list:
    print("투자 경고 종목입니다.")
else:
    print("투자 경고 종목이 아닙니다.")


fruit = {"봄" : "딸기", "여름" : "토마토", "가을" : "사과"}
user = input("제가좋아하는계절은: ")
if user in fruit:
    print("정답입니다.")
else:
    print("오답입니다.")


fruit = {"봄" : "딸기", "여름" : "토마토", "가을" : "사과"}

fruit = {"봄" : "딸기", "여름" : "토마토", "가을" : "사과"}
user = input("좋아하는 과일은?")
if user in fruit.values():
    print("정답입니다.")
else:
    print("오답입니다.")





user = input("")
if user.islower():
    print(user.upper())
else:
    print(user.lower())



























