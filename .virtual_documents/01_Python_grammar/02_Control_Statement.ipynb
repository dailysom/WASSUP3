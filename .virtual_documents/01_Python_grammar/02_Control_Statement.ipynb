


money = True
if money:
    print("택시를 타고 가라")
else:
    print("걸어 가라")


money = True
if money:
    print("택시를")
print("타고")
    print("가라")


money = True
if money:
    print("택시를")
    print("타고")
        print("가라")





# 비교연산자
x = 3
y = 2
x > y


x < y


x != y





money = 2000
if money >= 3000:
    print("택시를 타고 가라")
else:
    print("걸어 가라")





money = 2000
card = True

if money >= 3000 or card:
    print("택시를 타고 가라")
else:
    print("걸어 가라")





1 in [1, 2, 3]


1 not in [1, 2, 3]


'a' in ('a', 'b', 'c')


'j' not in 'python'


pocket = ['key', 'cellphone', 'money']

if 'money' in pocket:
    print("택시를 타고 가라")
else:
    print("걸어가라")





pocket = ['key', 'cellphone', 'money']

if 'money' in pocket:
    pass
else:
    print("걸어가라")





pocket = ['key', 'cellphone']
card = True

if 'money' in pocket:
    print('택시를 타고 가라')
else:
    if card :
        print('택시를 타고 가라')
    else : 
        print('걸어가라')


pocket = ['paper', 'cellphone']
card = True
if 'money' in pocket:
     print("택시를 타고가라")
elif card: 
     print("택시를 타고가라")
else:
     print("걸어가라")


# if 문 한줄로 작성하기
if 'money' in pocket:
    pass 
else:
    print("카드를 꺼내라")


if 'money' in pocket:pass 
else:print("카드를 꺼내라")





score = 88
if score >= 60:
    message = "success"
    # print(message)
else:
    message = "failure"
    # print(message)
print(message)


message = "success" if score >= 60 else "failure"
print(message)





treeHit = 0
while treeHit < 10:
    treeHit = treeHit +1
    print("나무를 %d번 찍었습니다." % treeHit)
    if treeHit == 10:
        print("나무 넘어갑니다.")





prompt = """
1. Add
2. Del
3. List
4. Quit

Enter number :"""


print(prompt)


number = 0
while number != 4:
    print(prompt)
    number = int(input())





coffee = 10
money = 300

while money :
    print('돈을 받았으니 커피를 줍니다.')
    coffee = coffee - 1
    print(f'남은 커피의 양은 {coffee}입니다.')
    if coffee == 0:
        print('커피가 다 떨어져서 판매를 중지합니다.')
        break





coffee = 10

while True :
    money = int(input('돈을 넣어주세요: '))
    
    if money == 300:
        print('300원을 받았습니다. 커피를 줍니다.')
        coffee = coffee - 1
        print(f'남은 커피수량은 {coffee} 입니다.')
    
    elif money > 300:
        print(f'{money-300}거스름돈을 주고 커피를 줍니다.')
        coffee = coffee - 1
        print(f'남은 커피수량은 {coffee} 입니다.')
    
    else : # money < 300
        print('돈이 부족합니다. 커피를 주지 않습니다.')
        print(f'남은 커피수량은 {coffee} 입니다.')
       
    if coffee == 0:
        print('커피가 다 떨어졌습니다. 판매를 중지합니다.')
        break


















