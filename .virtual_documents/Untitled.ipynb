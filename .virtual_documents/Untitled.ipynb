a = 123
print(a)


a = 123
print(type(a)) #어떤 타입인지 알수있다


a = 1.2
print(type(a))


a = 4.24E10
print(a) # 수학적 표현도 가능 


8진수와 16진수 # 지적 허영심... 나중에 다시 진수 공부 


# 몴구하기 //
# 나머지 구하기 %


# 이스케이프 코드(아래 4개 정도 사용만 )
a = "Life is too short, \nYou need Python" # 줄바꿈
print(a)


a = '''Life is too short,
You need Python''' # 줄바꿈
print(a)


a = "Life is too short, \tYou need Python" # 탭간격
print(a)


a = "Life is too short, \\You need Python" # \그대로 사용하고 싶을때 
print(a)


a = "Life \"is too short, You need Python" # 따옴표 자체를 보존할때 
print(a)


# multistring.py(문자열 곱하기 응용)

print("=" * 50)
print("My Program")
print("=" * 50)


#() - > 괄호안에 있는걸 함수라고 부름 공백 포함해서 길이를 나타냄 
a = "Life is too short"
len(a)


# 문자열 인덱싱 "파이썬은 0부터 숫자를 센다."(하나씩 가져오겠다)
a = "Life is too short, You need Python" # 0부터 인덱스가 시작됨 그래서 3, a의 문자열에 3번이라는 인덱스를 가져
print(a[3])


a = "Life is too short, You need Python" 
print(a[-2]) # 뒤에서 시작됨 


# 문자열 슬라이싱(덩어리를 자르겠다 어디부터 어디까지 범위를 지정해서)










































