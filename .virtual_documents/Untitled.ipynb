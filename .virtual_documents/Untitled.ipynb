a = 123
print(a)


a = 123
print(type(a)) #어떤 타입인지 알수있다


a = 1.2
print(type(a))


a = 4.24E10
print(a) # 수학적 표현도 가능 


8진수와 16진수 # 지적 허영심... 나중에 다시 진수 공부 


# 몴구하기 //
# 나머지 구하기 %


# 이스케이프 코드(아래 4개 정도 사용만 )
a = "Life is too short, \nYou need Python" # 줄바꿈
print(a)


a = '''Life is too short,
You need Python''' # 줄바꿈
print(a)


a = "Life is too short, \tYou need Python" # 탭간격
print(a)


a = "Life is too short, \\You need Python" # \그대로 사용하고 싶을때 
print(a)


a = "Life \"is too short, You need Python" # 따옴표 자체를 보존할때 
print(a)


# multistring.py(문자열 곱하기 응용)

print("=" * 50)
print("My Program")
print("=" * 50)


#() - > 괄호안에 있는걸 함수라고 부름 공백 포함해서 길이를 나타냄 
a = "Life is too short"
len(a)


# 문자열 인덱싱 "파이썬은 0부터 숫자를 센다."(하나씩 가져오겠다)
a = "Life is too short, You need Python" # 0부터 인덱스가 시작됨 그래서 3, a의 문자열에 3번이라는 인덱스를 가져
print(a[3])


a = "Life is too short, You need Python" 
print(a[-2]) # 뒤에서 시작됨 


# 문자열 슬라이싱(덩어리를 자르겠다 어디부터 어디까지 범위를 지정해서)


a[이상:미만] - 0 < x < 4 # 하일때는 이상, 미만 
a[이상:미만:간격]


a[19:] - > # 여기가 비어있으면 미만이 없으므로 곧 끝까지를 말함 
'You need Python'


a[:19] - > # 처음이 비어있으면 '처음부터'말함 
'You need Python'


a = "Life is too short, You need Python" 
print(a[::2]) # 처음부터 끝까지 2칸 간격으로 가져오라! 


a = "Life is too short, You need Python" 
print(a[::-1]) # 거꾸로 나옴 


a = "Life is too short, You need Python" 
print(a[::-2]) # 2칸씩 거꾸로 나옴 


a = "Life is too short, You need Python"
print(a[:-1])


a = "Life is too short, You need Python" 
print(a[19:-7]) 


a = "20230331Rainy"
date = a[:8]
weather = a[8:]
print(date)
print(weather)


# 슬라이싱으로 쪼개면 이렇게 나눌수있음

a = "20230331Rainy"
year = a[:4]
day = a[4:8]
weather = a[8:]


# Palindrom 
# 회문/역순으로 읽어도 같은 말
# (ex. 토마토, 기러기, 스위스, 오디오)

# s[::-1]
# 이제 이 코드가 무슨 의미인디 슬라이싱을 배워서 알거임! 


# Pithon 문자열을 Python으로 바꾸려면?

a = "Pithon"
>>> a[:1]
'P'
>>> a[2:]
'thon'
>>> a[:1] + 'y' + a[2:]
'Python'


a = "Pithon"
a[:1]
'P'
a[2:]
'thon'
a[:1] + 'y' + a[2:]
'Python'

print(a[:1] + 'y' + a[2:])


a = 'desom'
a[:1]
'd'
a[2:]
'som'
a[:1] + 'a' + a[2:]
print(a[:1] + 'a' + a[2:])


a = 'desom' # 이해했음!!!!
a[4:-1]
'm'
a[2:]
'som'
a[4:-1] + 'som' + a[2:]
print(a[4:-1] + 'som' + a[2:])


# 문자열 포매팅 - 귀찮은 반복을 줄일때 사용 - 여러방법이 있는데 그중 1개만 사용해도 무방 

a = "I eat %d apples." % 3
print(a) 


a = "I eat %s apples." % 'five' #string 약자 
print(a)


number = 3 # number에 변수를 3을 넣어서도 가능 
a = "I eat %s apples." % number
print(a)


number = 3 
day = 'three'
a = "I ate %d apples. so I was sick for %s days." % (number, day) # d와 s를 구분해서 넣어줄것 
print(a)


# 여기에서 재미있는 것은 %s 포맷 코드인데, 이 코드에는 어떤 형태의 값이든 변환해서 넣을 수 있다 

"I have %s apples" % 3 # 숫자 3이면 type이 안맞다 그런 문자열은 다 가능하다 포매팅 경우에만!


a = "I have %d%% apples" % 3 # %그대로 적용하고 싶을떄 
print(a)


# 정렬과 공백 
# 지적허영심 


"%-10sjane." % 'hi'


# 소수점 표현하기 

a = "%10.4f" % 3.4213423 # 10칸중 소수점 4자까지 표현 
print(a)


# 포매팅 
a = "I eat {0} apples".format("five") # {0}은 순서를 나타낸거라서 숫자, 문자 모두 가능 
print(a)

































