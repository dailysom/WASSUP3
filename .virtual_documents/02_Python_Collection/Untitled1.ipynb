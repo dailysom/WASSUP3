!pip install selenium


from selenium import webdriver
from selenium.webdriver.common.by import By
from selenium.webdriver.chrome.options import Options
import time

options = Options()
options


options.add_experimental_option("detach", True)


url = 'http://naver.com'
driver = webdriver.Chrome(options=options)


driver.get(url)


driver.back()


driver.





## 페이지 정보 가져오기  


title = driver.title
url = driver.current_url
handle = driver.current_window_handle
print(title, url, handle)


<input id="query" name="query" type="search" title="검색어를 입력해 주세요." placeholder="검색어를 입력해 주세요." maxlength="255" autocomplete="off" class="search_input" data-atcmp-element="">


driver.find_element?


driver.find_element(By.ID, "query")


driver.find_element(By.ID, "query").send_keys('뉴진스')





driver.find_element(By.LINK_TEXT, '쇼핑')


driver.find_element(By.LINK_TEXT, '쇼핑').click()


driver.find_element(By.PARTIAL_LINK_TEXT, '증').click()








for link in links:
    print(link.get_attribute("href")) 
    print()


url = 'file:///C:/workspace/WASSUP2/WASSUP2/02_Data_Collection/sample/signin.html'
driver = webdriver.Chrome(options=options)
driver.get(url)
time.sleep(2) 











username = driver.find_element(By.NAME, "username")
username.send_keys('korea')




























































