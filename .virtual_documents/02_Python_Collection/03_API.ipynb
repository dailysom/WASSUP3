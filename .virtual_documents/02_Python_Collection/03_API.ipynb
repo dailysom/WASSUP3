





import requests, json, pandas as pd


URL ='http://www.krei.re.kr:18181/chart/main_chart/index/kind/W/sdate/2019-01-01/edate/2019-12-31'
resp = requests.get(URL)


resp


# 텍스트
data1 = resp.text
print(type(data1), len(data1))
print(data1)


# json
data2 = resp.json()
print(type(data2), len(data2))
print(data2)


data2



# {'id': '41596',
#   'date': '20190102',
#   'symbolization': None,
#   'open': '184.63',
#   'close': '186.29',
#   'high': '187.67',
#   'low': '184.17',
#   'settlement': '186.2',
#   'volume': '91835'},
id_, date, symbol, open_, close= [], [], [], [], []

for item in data2 :
    id_.append(item['id'])
    date.append(item['date'])
    symbol.append(item['symbol'])
    open_.append(item['open'])
    close.append(item['close'])


df = pd.DataFrame({
    'id' : id_,
    'date' : date,
    'symbol' :symbol,
    'open' : open_,
    'close' : close,
})


df.head()





import requests
from bs4 import BeautifulSoup

date = '201512'
region_code = '11110'
apikey = 'QjITnZtxSg5%2Bhzh%2BWR8hYLMstCDRuf1REcb5E59648Wy77%2B7z8aQBHgv95ylOhyoP31mFZWlyiqd2TrMu7HTuw%3D%3D'

url = f'http://openapi.molit.go.kr/OpenAPI_ToolInstallPackage/service/rest/RTMSOBJSvc/getRTMSDataSvcAptTradeDev?LAWD_CD={region_code}&DEAL_YMD={date}&serviceKey={apikey}'

res = requests.get(url)
textsrc = res.text
textsrc


soup = BeautifulSoup(textsrc, 'xml')
type(soup)


items = soup.select('response > body > items > item') 
items


a = items[0].select('거래금액')
print(type(a))
print(a)


b = items[0].select_one('거래금액')
print(type(b))
print(b)


c = items[0].select_one('거래금액').text
print(type(c))
print(c)


# for i in items:
#     print(i.select_one('거래금액').text, 
#           i.select_one('건축년도').text, 
#           i.select_one('아파드').text, 
#           i.select_one('월').text, 
#           i.select_one('일').text, 
#           i.select_one('전용면적').text, 
#           i.select_one('지번').text, 
#           i.select_one('지역코드').text, 
#           i.select_one('층').text)

for item in items:
    print(item.select_one('거래금액').text.strip(),
          item.select_one('건축년도').text,
          item.select_one('년').text,
          item.select_one('법정동').text.strip(),
          item.select_one('아파트').text,
          item.select_one('월').text,
          item.select_one('일').text,
          item.select_one('전용면적').text,
          item.select_one('지번').text,
          item.select_one('지역코드').text,
          item.select_one('층').text)


# 반복되는 코드 정리
item_list = ['거래금액', '건축년도', '년', '법정동', '아파트', '월', '일', '전용면적', '지번', '지역코드', '층']

for item in items:
    for tag in item_list:
        print(item.select_one(tag).text.strip(), end=' ')
    print()





def default_text(node, text):
    if node != None:
        return node.text.strip()
    else:
        return text


item_list = ['거래금액', '건축년도', '년', '법정동', '아파트', '월', '일', '전용면적', '지번', '지역코드', '층']
for item in items:
    for tag in item_list:
        print(default_text(item.select_one(tag), ''), end=' ')
    print()


item_list = ['거래금액', '건축년도', '년', '법정동', '아파트', '월', '일', '전용면적', '지번', '지역코드', '층']
data_list = []

for item in items:
    data_list.append([ default_text(item.select_one(tag), '') for tag in item_list]) # value를 행기준으로 맞춤, 110 X 11
print(data_list)

df = pd.DataFrame(data_list, columns=item_list)
print('='*50)
print(df)
df.to_csv('./output/아파트매매실거래자료수집.csv', index=False, encoding='cp949') 


# 기존 코드
l = []
for item in items:
    print(default_text(item.select_one('거래금액'), ''),
          default_text(item.select_one('건축년도'), ''),
          default_text(item.select_one('년'), ''),
          default_text(item.select_one('법정동'), ''),
          default_text(item.select_one('아파트'), ''),
          default_text(item.select_one('월'), ''),
          default_text(item.select_one('일'), ''),
          default_text(item.select_one('전용면적'), ''),
          default_text(item.select_one('지번'), ''),
          default_text(item.select_one('지번'), ''),
          default_text(item.select_one('지역코드'), ''),
          default_text(item.select_one('층'), ''))
    l.append([default_text(item.select_one('거래금액'), ''),
          default_text(item.select_one('건축년도'), ''),
          default_text(item.select_one('년'), ''),
          default_text(item.select_one('법정동'), ''),
          default_text(item.select_one('아파트'), ''),
          default_text(item.select_one('월'), ''),
          default_text(item.select_one('일'), ''),
          default_text(item.select_one('전용면적'), ''),
          default_text(item.select_one('지번'), ''),
          default_text(item.select_one('지번'), ''),
          default_text(item.select_one('지역코드'), ''),
          default_text(item.select_one('층'), '')])
print(l)


import datetime, dateutil
start_datetime = datetime.datetime(2023, 1, 1)
start_datetime


start_datetime = start_datetime + dateutil.relativedelta.relativedelta(months=1)
start_datetime 


date = start_datetime.strftime('%Y%m') #
date


import requests, datetime, dateutil, pandas as pd
from bs4 import BeautifulSoup

def default_text(node, text):
    if node != None:
        return node.text.strip()
    else:
        return text

item_list = ['거래금액', '건축년도', '년', '법정동', '아파트', '월', '일', '전용면적', '지번', '지역코드', '층']
data_list = []

start_date = datetime.datetime(2024, 1, 1)
apikey = 'QjITnZtxSg5%2Bhzh%2BWR8hYLMstCDRuf1REcb5E59648Wy77%2B7z8aQBHgv95ylOhyoP31mFZWlyiqd2TrMu7HTuw%3D%3D'
while True:    
    date = start_date.strftime('%Y%m')
    if date >= '202404':
        break
    
    region_code = '11110'
    url = f'http://openapi.molit.go.kr/OpenAPI_ToolInstallPackage/service/rest/RTMSOBJSvc/getRTMSDataSvcAptTradeDev?LAWD_CD={region_code}&DEAL_YMD={date}&serviceKey={apikey}'
    res = requests.get(url)
    textsrc = res.text

    soup = BeautifulSoup(textsrc, 'xml')
    
    items = soup.select('response > body > items > item')
    for item in items:
        data_list.append([ default_text(item.select_one(i), '') for i in item_list])
        print(data_list)
        
    start_date = start_date + dateutil.relativedelta.relativedelta(months=1)


df = pd.DataFrame(data_list, columns=item_list)
df.to_csv('C:/workspace/wassup3/02_Python_Collection/sample/아파트매매 실거래자료1.csv', index=False, encoding='cp949') 
