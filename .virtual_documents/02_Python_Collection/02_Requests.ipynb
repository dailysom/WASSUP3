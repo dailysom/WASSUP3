pip install requests





import requests
from bs4 import BeautifulSoup


PATH = 'https://finance.naver.com/'
resp = requests.get(PATH)


resp


resp?


requests.get?


resp.text


print(resp.text)


src = resp.text


soup = BeautifulSoup(src, 'lxml') 
print(soup)


mylist = soup.select('.section_strategy>ul')
for i in mylist:
    print(i.text)


mylist = soup.select('.section_strategy li a')

for i in mylist:
    print(i['href'])


mylist[0]['href']





url = mylist[0]['href']
PATH + url


from urllib.parse import urljoin
mylist = soup.select('.section_strategy li a')
news_title = []
news_url= []
for i in mylist:
    title = i.text
    url = urljoin(PATH, i['href'])
    print(title, url)
    news_title.append(title)
    news_url.append(url)

for i in news_title:
    print(i)

for i in news_url:
    print(i)






import pandas as pd


df = pd.DataFrame({'제목':news_title, '주소':news_url})
df


print(df)





df.to_excel('output/naver.xlsx', index = False)





import time
today = time.localtime()
time.ctime()


df.to_excel(f'output/{today.tm_year}_{today.tm_mon}_{today.tm_mday}naver.xlsx', index = False)


# 스트링 포메팅으로 날짜 포멧을 바꿔보자
'%d-%02d-%02d' % (today.tm_year, today.tm_mon, today.tm_mday)


file_name = '%d-%02d-%02d' % (today.tm_year, today.tm_mon, today.tm_mday)
excel_name = file_name + '.xlsx'
csv_name = file_name + '.csv'
print(excel_name, csv_name)


df.to_csv('output/'+csv_name, index = False)
#df.to_csv?



from urllib.parse import urljoin
mylist = soup.select('.section_strategy li a')
news_title = []
news_url= []
for i in mylist:
    title = i.text
    url = urljoin(PATH, i['href'])
    print(title, url)
    news_title.append(title)
    news_url.append(url)

for i in news_title:
    print(i)

for i in news_url:
    print(i)






PATH = 'https://www.melon.com/chart/index.htm'
resp = requests.get(PATH)
resp


info = {'User-Agent':'Mozilla/5.0 (Windows NT 10.0; Win64; x64) AppleWebKit/537.36 (KHTML, like Gecko) Chrome/126.0.0.0 Safari/537.36'}
info


resp = requests.get(PATH, headers = info)
resp


html_src = resp.text
html_src


soup = BeautifulSoup(html_src, 'lxml')
soup


mylist = soup.select('.ellipsis.rank01 a')
song = []
# for i in mylist:
#     print(i)
song = [x.text for x in mylist]


artist = []
mylist = soup.select('.ellipsis.rank02>a')

for i in mylist:
    artist.append(i.text)
    
print(len(artist))
print(artist)


mylist = soup.select('.checkEllipsis')

artist = [x.text for x in mylist]

rank = range(1, 101)


# 판다스로 데이터프레임 만들기 칼럼:데이터
songDF = pd.DataFrame({'순위': rank, '노래제목':song, '가수명':artist})
file_name = '%d-%02d-%02d' % (today.tm_year, today.tm_mon, today.tm_mday)
excel_name = file_name+'_멜로_TOP_100' + '.xlsx'
songDF.to_excel('output/'+excel_name, index = False)





import requests


param = {'name':'Amy', 'age':20, 'address':'Seoul'}


resp1 = requests.get('http://httpbin.org/get', params=param)
print(resp1)
print(resp1.text)


resp2 = requests.post('http://httpbin.org/post', data=param)
print(resp2)
print(resp2.text)





from bs4 import BeautifulSoup


PATH = 'https://search.naver.com/search.naver'


Keyword = input("검색어 입력:")


resp = requests.get(PATH, params={'qeury':Keyword})
resp


hs = resp.text
hs


soup = BeautifulSoup(hs, 'lxml')
mylist = soup.select('.news_tit')
mylist
# 왜 안되누 나중에 다시 봐야겠


resp = requests.get('https://korean.visitkorea.or.kr/search/search_list.do?keyword=')
resp


hs = resp.text
print(hs)


test = []
soup = BeautifulSoup(hs, 'lxml')
test = soup.select('.popular>li')
test






