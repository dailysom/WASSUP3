


pip install bs4


pip install lxml


from bs4 import BeautifulSoup
import lxml


BeautifulSoup?


#sample
html = '''
<div id=prices >
    <table >
        <tr class=bb>
            <th class="bb lm lft">Date
            <th class="rgt bb">Open
            <th class="rgt bb">High
            <th class="rgt bb">Low
            <th class="rgt bb">Close
            <th class="rgt bb rm">Volume
        <tr>
            <td class="lm">Feb 28, 2014
            <td class="rgt">100.71
            <td class="rgt">100.71
            <td class="rgt">100.71
            <td class="rgt">100.71
            <td class="rgt rm">0
     </table>
'''


# lxml의 html 파서

BeautifulSoup(html, 'lxml')


# 파이썬 표준 html 파서
BeautifulSoup(html, 'html.parser')





html_file = open('sample/market.html', encoding='utf-8')
html_src = html_file.read()
html_file.close()


html_src


print(html_src)


soup = BeautifulSoup(html_src, 'lxml')


type(soup)


soup





soup.find?


soup.find('p')





type(soup.find('p'))


soup.find_all('p')


soup.find('p', id="orange")


soup.find_all(class_='fruit') 





soup.select?


soup.select('p')


soup.select_one('p')


# css셀렉터 문법
soup.select('#orange') # id 속성


soup.select_one('#orange')


soup.select('.price') # class 속성


soup.select('p#orange') #AND관계


# a태그 또는 스토어클래스에 해당하는 요소를 찾아줘
soup.select('a, .store')  # , = OR 관계


soup.select('.fruit.best') # 클래스값이 2개인 태그


soup.select('.fruit.best>a')


soup.select('.fruit.best > a') # > 자식관계(공백주의) )


soup.select('.fruit.best a')# 공백 자손 관계


soup.select('.fruit.best>span>a')


mylist = soup.select('.fruit.best a')
type(mylist[0])


mylist[0].text


for i in mylist :
    print(i.text)


print?


i['href']


for i in mylist :
    print(i['href'])


a = soup.select('p')

for i in a:
    print(i['title'], end = " ")
    for j in i:
        if j.text != "\n":            
            print(j.text.strip(), end = " ")
    print()
        





e = soup.find('p', id="orange")


type(e)


e.name


e.attrs


e['title']


type(e.string)


e.text


e.strings


for item in e.strings:
    print(item)





e.parent


e.parents


for item in e.parents:
    print(item.name)


e.children


e.contents


for item in e.children:
    print(item.name)


e.descendants


for item in e.descendants:
    print(item.name)


e.previous_element


for item in e.previous_siblings:
    if item.name != None:
        print(item.name)



