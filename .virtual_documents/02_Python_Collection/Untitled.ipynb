


driver.find_element(By.XPATH, '/html/body/div[3]/div/div[1]/div[14]/a[2]').click()


for i in range(1, (page_cnt+1)):
    driver.find_element(By.XPATH, f'/html/body/div[3]/div/div[1]/div[14]/a[{i}]').click()
    time.sleep(3)
    tit_xpath = '//[@id="search_result"]/ul/li[]/div[1]/div[1]/a'
    result = driver.find_elements(By.XPATH, tit_xpath)

    for i, title in enumerate(result, (1+ (10*(i-1)))):
        print(i, title.text)































































