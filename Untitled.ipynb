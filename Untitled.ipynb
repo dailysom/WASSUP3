{
 "cells": [
  {
   "cell_type": "code",
   "execution_count": 3,
   "id": "f1ae5317-374d-4e17-a698-d86874850d25",
   "metadata": {},
   "outputs": [
    {
     "name": "stdout",
     "output_type": "stream",
     "text": [
      "123\n"
     ]
    }
   ],
   "source": [
    "a = 123\n",
    "print(a)"
   ]
  },
  {
   "cell_type": "code",
   "execution_count": 7,
   "id": "13892d2a-72dd-43b0-b1bc-40d6f759282f",
   "metadata": {},
   "outputs": [
    {
     "name": "stdout",
     "output_type": "stream",
     "text": [
      "<class 'int'>\n"
     ]
    }
   ],
   "source": [
    "a = 123\n",
    "print(type(a)) #어떤 타입인지 알수있다"
   ]
  },
  {
   "cell_type": "code",
   "execution_count": 5,
   "id": "6640e8aa-69a0-4b91-a825-9acffd8b18e8",
   "metadata": {},
   "outputs": [
    {
     "name": "stdout",
     "output_type": "stream",
     "text": [
      "<class 'float'>\n"
     ]
    }
   ],
   "source": [
    "a = 1.2\n",
    "print(type(a))"
   ]
  },
  {
   "cell_type": "code",
   "execution_count": 6,
   "id": "5321b6fa-cacf-4909-9e96-138fab4430c2",
   "metadata": {},
   "outputs": [
    {
     "name": "stdout",
     "output_type": "stream",
     "text": [
      "42400000000.0\n"
     ]
    }
   ],
   "source": [
    "a = 4.24E10\n",
    "print(a) # 수학적 표현도 가능 "
   ]
  },
  {
   "cell_type": "code",
   "execution_count": null,
   "id": "54a2af57-e9b2-481f-ba1e-e552f86358a1",
   "metadata": {},
   "outputs": [],
   "source": [
    "8진수와 16진수 # 지적 허영심... 나중에 다시 진수 공부 "
   ]
  },
  {
   "cell_type": "code",
   "execution_count": null,
   "id": "5781f2ee-e7e8-4f8e-8d27-662a87c8f0ae",
   "metadata": {},
   "outputs": [],
   "source": [
    "# 몴구하기 //\n",
    "# 나머지 구하기 %"
   ]
  },
  {
   "cell_type": "code",
   "execution_count": 9,
   "id": "408378c1-accf-4e07-ac6d-d95cb0ccad83",
   "metadata": {},
   "outputs": [
    {
     "name": "stdout",
     "output_type": "stream",
     "text": [
      "Life is too short, \n",
      "You need Python\n"
     ]
    }
   ],
   "source": [
    "# 이스케이프 코드(아래 4개 정도 사용만 )\n",
    "a = \"Life is too short, \\nYou need Python\" # 줄바꿈\n",
    "print(a)"
   ]
  },
  {
   "cell_type": "code",
   "execution_count": 10,
   "id": "d726a674-aa08-480d-a264-80ba2223e81a",
   "metadata": {},
   "outputs": [
    {
     "name": "stdout",
     "output_type": "stream",
     "text": [
      "Life is too short,\n",
      "You need Python\n"
     ]
    }
   ],
   "source": [
    "a = '''Life is too short,\n",
    "You need Python''' # 줄바꿈\n",
    "print(a)"
   ]
  },
  {
   "cell_type": "code",
   "execution_count": 12,
   "id": "195dda56-b20b-4035-b97d-aa3d07a613d9",
   "metadata": {},
   "outputs": [
    {
     "name": "stdout",
     "output_type": "stream",
     "text": [
      "Life is too short, \tYou need Python\n"
     ]
    }
   ],
   "source": [
    "a = \"Life is too short, \\tYou need Python\" # 탭간격\n",
    "print(a)"
   ]
  },
  {
   "cell_type": "code",
   "execution_count": 13,
   "id": "55c599dd-ad17-483e-b7d4-c3077fc51aad",
   "metadata": {},
   "outputs": [
    {
     "name": "stdout",
     "output_type": "stream",
     "text": [
      "Life is too short, \\You need Python\n"
     ]
    }
   ],
   "source": [
    "a = \"Life is too short, \\\\You need Python\" # \\그대로 사용하고 싶을때 \n",
    "print(a)"
   ]
  },
  {
   "cell_type": "code",
   "execution_count": 14,
   "id": "37e696fb-9714-4b25-af5d-98922ab7974a",
   "metadata": {},
   "outputs": [
    {
     "name": "stdout",
     "output_type": "stream",
     "text": [
      "Life \"is too short, You need Python\n"
     ]
    }
   ],
   "source": [
    "a = \"Life \\\"is too short, You need Python\" # 따옴표 자체를 보존할때 \n",
    "print(a)"
   ]
  },
  {
   "cell_type": "code",
   "execution_count": 15,
   "id": "8aebacc6-5aad-49e6-b7ae-d432950b2f71",
   "metadata": {},
   "outputs": [
    {
     "name": "stdout",
     "output_type": "stream",
     "text": [
      "==================================================\n",
      "My Program\n",
      "==================================================\n"
     ]
    }
   ],
   "source": [
    "# multistring.py(문자열 곱하기 응용)\n",
    "\n",
    "print(\"=\" * 50)\n",
    "print(\"My Program\")\n",
    "print(\"=\" * 50)"
   ]
  },
  {
   "cell_type": "code",
   "execution_count": 16,
   "id": "c4cba8af-5058-4d1e-8573-2d183fff5c97",
   "metadata": {},
   "outputs": [
    {
     "data": {
      "text/plain": [
       "17"
      ]
     },
     "execution_count": 16,
     "metadata": {},
     "output_type": "execute_result"
    }
   ],
   "source": [
    "#() - > 괄호안에 있는걸 함수라고 부름 공백 포함해서 길이를 나타냄 \n",
    "a = \"Life is too short\"\n",
    "len(a)"
   ]
  },
  {
   "cell_type": "code",
   "execution_count": 18,
   "id": "9b520637-a929-4cd5-ac7b-e1abea682130",
   "metadata": {},
   "outputs": [
    {
     "name": "stdout",
     "output_type": "stream",
     "text": [
      "e\n"
     ]
    }
   ],
   "source": [
    "# 문자열 인덱싱 \"파이썬은 0부터 숫자를 센다.\"(하나씩 가져오겠다)\n",
    "a = \"Life is too short, You need Python\" # 0부터 인덱스가 시작됨 그래서 3, a의 문자열에 3번이라는 인덱스를 가져\n",
    "print(a[3])"
   ]
  },
  {
   "cell_type": "code",
   "execution_count": 19,
   "id": "8ca23476-9487-416b-a3c6-52ce3eb58c51",
   "metadata": {},
   "outputs": [
    {
     "name": "stdout",
     "output_type": "stream",
     "text": [
      "o\n"
     ]
    }
   ],
   "source": [
    "a = \"Life is too short, You need Python\" \n",
    "print(a[-2]) # 뒤에서 시작됨 "
   ]
  },
  {
   "cell_type": "code",
   "execution_count": null,
   "id": "42d8cc8b-4ddf-42b9-8f0c-b851f64dcd18",
   "metadata": {},
   "outputs": [],
   "source": [
    "# 문자열 슬라이싱(덩어리를 자르겠다 어디부터 어디까지 범위를 지정해서)"
   ]
  },
  {
   "cell_type": "code",
   "execution_count": null,
   "id": "893f8897-2713-4182-bc2c-87694c51d172",
   "metadata": {},
   "outputs": [],
   "source": [
    "a[이상:미만] - 0 < x < 4 # 하일때는 이상, 미만 \n",
    "a[이상:미만:간격]"
   ]
  },
  {
   "cell_type": "code",
   "execution_count": null,
   "id": "0ea28ccd-411b-480d-bcfc-fa9c0f851b8b",
   "metadata": {},
   "outputs": [],
   "source": [
    "a[19:] - > # 여기가 비어있으면 미만이 없으므로 곧 끝까지를 말함 \n",
    "'You need Python'"
   ]
  },
  {
   "cell_type": "code",
   "execution_count": null,
   "id": "c1bef2ef-bbd9-4a58-88c3-154d09f4841d",
   "metadata": {},
   "outputs": [],
   "source": [
    "a[:19] - > # 처음이 비어있으면 '처음부터'말함 \n",
    "'You need Python'"
   ]
  },
  {
   "cell_type": "code",
   "execution_count": 30,
   "id": "4e014d3e-732f-42a9-8662-8b5d273b446b",
   "metadata": {},
   "outputs": [
    {
     "name": "stdout",
     "output_type": "stream",
     "text": [
      "Lf stosot o edPto\n"
     ]
    }
   ],
   "source": [
    "a = \"Life is too short, You need Python\" \n",
    "print(a[::2]) # 처음부터 끝까지 2칸 간격으로 가져오라! "
   ]
  },
  {
   "cell_type": "code",
   "execution_count": 31,
   "id": "a5a0401f-beb5-4c69-b394-2dc1bcc117c9",
   "metadata": {},
   "outputs": [
    {
     "name": "stdout",
     "output_type": "stream",
     "text": [
      "nohtyP deen uoY ,trohs oot si efiL\n"
     ]
    }
   ],
   "source": [
    "a = \"Life is too short, You need Python\" \n",
    "print(a[::-1]) # 거꾸로 나옴 "
   ]
  },
  {
   "cell_type": "code",
   "execution_count": 32,
   "id": "5a4e6e0e-2914-465e-88b0-656002d0b933",
   "metadata": {},
   "outputs": [
    {
     "name": "stdout",
     "output_type": "stream",
     "text": [
      "nhy enuY,rh o iei\n"
     ]
    }
   ],
   "source": [
    "a = \"Life is too short, You need Python\" \n",
    "print(a[::-2]) # 2칸씩 거꾸로 나옴 "
   ]
  },
  {
   "cell_type": "code",
   "execution_count": 29,
   "id": "5d79e03c-0ada-4b7c-9fd6-bf7dcce1f760",
   "metadata": {},
   "outputs": [
    {
     "name": "stdout",
     "output_type": "stream",
     "text": [
      "Life is too short, You need Pytho\n"
     ]
    }
   ],
   "source": [
    "a = \"Life is too short, You need Python\"\n",
    "print(a[:-1])"
   ]
  },
  {
   "cell_type": "code",
   "execution_count": 33,
   "id": "cfaebd06-35c5-4cdf-b540-bdc7fff0b016",
   "metadata": {},
   "outputs": [
    {
     "name": "stdout",
     "output_type": "stream",
     "text": [
      "You need\n"
     ]
    }
   ],
   "source": [
    "a = \"Life is too short, You need Python\" \n",
    "print(a[19:-7]) "
   ]
  },
  {
   "cell_type": "code",
   "execution_count": 22,
   "id": "91a9dfe4-d7ec-4687-807a-a6cdb24f6850",
   "metadata": {},
   "outputs": [
    {
     "name": "stdout",
     "output_type": "stream",
     "text": [
      "20230331\n",
      "Rainy\n"
     ]
    }
   ],
   "source": [
    "a = \"20230331Rainy\"\n",
    "date = a[:8]\n",
    "weather = a[8:]\n",
    "print(date)\n",
    "print(weather)"
   ]
  },
  {
   "cell_type": "code",
   "execution_count": 35,
   "id": "08c0e2e6-107f-4d56-8307-c139a8c4b9ff",
   "metadata": {},
   "outputs": [],
   "source": [
    "# 슬라이싱으로 쪼개면 이렇게 나눌수있음\n",
    "\n",
    "a = \"20230331Rainy\"\n",
    "year = a[:4]\n",
    "day = a[4:8]\n",
    "weather = a[8:]"
   ]
  },
  {
   "cell_type": "code",
   "execution_count": null,
   "id": "db7851a5-cad0-4df3-a4d1-1b5744d0ead8",
   "metadata": {},
   "outputs": [],
   "source": [
    "# Palindrom \n",
    "# 회문/역순으로 읽어도 같은 말\n",
    "# (ex. 토마토, 기러기, 스위스, 오디오)\n",
    "\n",
    "# s[::-1]\n",
    "# 이제 이 코드가 무슨 의미인디 슬라이싱을 배워서 알거임! "
   ]
  },
  {
   "cell_type": "code",
   "execution_count": 39,
   "id": "41bb7cc8-3432-4033-90c0-c03dcf6edaef",
   "metadata": {},
   "outputs": [
    {
     "ename": "SyntaxError",
     "evalue": "invalid syntax (1092203192.py, line 4)",
     "output_type": "error",
     "traceback": [
      "\u001b[1;36m  Cell \u001b[1;32mIn[39], line 4\u001b[1;36m\u001b[0m\n\u001b[1;33m    >>> a[:1]\u001b[0m\n\u001b[1;37m    ^\u001b[0m\n\u001b[1;31mSyntaxError\u001b[0m\u001b[1;31m:\u001b[0m invalid syntax\n"
     ]
    }
   ],
   "source": [
    "# Pithon 문자열을 Python으로 바꾸려면?\n",
    "\n",
    "a = \"Pithon\"\n",
    ">>> a[:1]\n",
    "'P'\n",
    ">>> a[2:]\n",
    "'thon'\n",
    ">>> a[:1] + 'y' + a[2:]\n",
    "'Python'"
   ]
  },
  {
   "cell_type": "code",
   "execution_count": 54,
   "id": "107a8932-9beb-4300-aa6f-e52ff57ef54d",
   "metadata": {},
   "outputs": [
    {
     "name": "stdout",
     "output_type": "stream",
     "text": [
      "Python\n"
     ]
    }
   ],
   "source": [
    "a = \"Pithon\"\n",
    "a[:1]\n",
    "'P'\n",
    "a[2:]\n",
    "'thon'\n",
    "a[:1] + 'y' + a[2:]\n",
    "'Python'\n",
    "\n",
    "print(a[:1] + 'y' + a[2:])"
   ]
  },
  {
   "cell_type": "code",
   "execution_count": 55,
   "id": "3bd1c2fa-b75f-4c84-bf24-9df3f349d69f",
   "metadata": {},
   "outputs": [
    {
     "name": "stdout",
     "output_type": "stream",
     "text": [
      "dasom\n"
     ]
    }
   ],
   "source": [
    "a = 'desom'\n",
    "a[:1]\n",
    "'d'\n",
    "a[2:]\n",
    "'som'\n",
    "a[:1] + 'a' + a[2:]\n",
    "print(a[:1] + 'a' + a[2:])"
   ]
  },
  {
   "cell_type": "code",
   "execution_count": 58,
   "id": "5bae8c52-55ee-4163-b6b1-8c7c59f064c7",
   "metadata": {},
   "outputs": [
    {
     "name": "stdout",
     "output_type": "stream",
     "text": [
      "somsom\n"
     ]
    }
   ],
   "source": [
    "a = 'desom' # 이해했음!!!!\n",
    "a[4:-1]\n",
    "'m'\n",
    "a[2:]\n",
    "'som'\n",
    "a[4:-1] + 'som' + a[2:]\n",
    "print(a[4:-1] + 'som' + a[2:])"
   ]
  },
  {
   "cell_type": "code",
   "execution_count": 1,
   "id": "161c43a9-6cce-4c5c-b6a8-20ece6e6f5aa",
   "metadata": {},
   "outputs": [
    {
     "name": "stdout",
     "output_type": "stream",
     "text": [
      "I eat 3 apples.\n"
     ]
    }
   ],
   "source": [
    "# 문자열 포매팅 - 귀찮은 반복을 줄일때 사용 - 여러방법이 있는데 그중 1개만 사용해도 무방 \n",
    "\n",
    "a = \"I eat %d apples.\" % 3\n",
    "print(a) "
   ]
  },
  {
   "cell_type": "code",
   "execution_count": 2,
   "id": "f52c203d-924b-4825-abab-31e7217cde94",
   "metadata": {},
   "outputs": [
    {
     "name": "stdout",
     "output_type": "stream",
     "text": [
      "I eat five apples.\n"
     ]
    }
   ],
   "source": [
    "a = \"I eat %s apples.\" % 'five' #string 약자 \n",
    "print(a)"
   ]
  },
  {
   "cell_type": "code",
   "execution_count": 3,
   "id": "7d43fb6a-4906-4c8c-ac4e-c0f26c014420",
   "metadata": {},
   "outputs": [
    {
     "name": "stdout",
     "output_type": "stream",
     "text": [
      "I eat 3 apples.\n"
     ]
    }
   ],
   "source": [
    "number = 3 # number에 변수를 3을 넣어서도 가능 \n",
    "a = \"I eat %s apples.\" % number\n",
    "print(a)"
   ]
  },
  {
   "cell_type": "code",
   "execution_count": 4,
   "id": "a9622658-6b71-4d4c-9029-634a871ccc72",
   "metadata": {},
   "outputs": [
    {
     "name": "stdout",
     "output_type": "stream",
     "text": [
      "I ate 3 apples. so I was sick for three days.\n"
     ]
    }
   ],
   "source": [
    "number = 3 \n",
    "day = 'three'\n",
    "a = \"I ate %d apples. so I was sick for %s days.\" % (number, day) # d와 s를 구분해서 넣어줄것 \n",
    "print(a)"
   ]
  },
  {
   "cell_type": "code",
   "execution_count": null,
   "id": "5935a977-0830-4742-a1c1-0182297d7325",
   "metadata": {},
   "outputs": [],
   "source": [
    "# 여기에서 재미있는 것은 %s 포맷 코드인데, 이 코드에는 어떤 형태의 값이든 변환해서 넣을 수 있다 \n",
    "\n",
    "\"I have %s apples\" % 3 # 숫자 3이면 type이 안맞다 그런 문자열은 다 가능하다 포매팅 경우에만!"
   ]
  },
  {
   "cell_type": "code",
   "execution_count": 5,
   "id": "b3063c65-27dc-498a-a92f-31c7a37c6efb",
   "metadata": {},
   "outputs": [
    {
     "name": "stdout",
     "output_type": "stream",
     "text": [
      "I have 3% apples\n"
     ]
    }
   ],
   "source": [
    "a = \"I have %d%% apples\" % 3 # %그대로 적용하고 싶을떄 \n",
    "print(a)"
   ]
  },
  {
   "cell_type": "code",
   "execution_count": null,
   "id": "67415aff-ba06-4d19-82bf-412cd1505610",
   "metadata": {},
   "outputs": [],
   "source": [
    "# 정렬과 공백 \n",
    "# 지적허영심 \n",
    "\n",
    "\n",
    "\"%-10sjane.\" % 'hi'"
   ]
  },
  {
   "cell_type": "code",
   "execution_count": 8,
   "id": "0ab97fd2-ef0f-40bf-a749-78d7cc525078",
   "metadata": {},
   "outputs": [
    {
     "name": "stdout",
     "output_type": "stream",
     "text": [
      "    3.4213\n"
     ]
    }
   ],
   "source": [
    "# 소수점 표현하기 \n",
    "\n",
    "a = \"%10.4f\" % 3.4213423 # 10칸중 소수점 4자까지 표현 \n",
    "print(a)"
   ]
  },
  {
   "cell_type": "code",
   "execution_count": 9,
   "id": "54d080eb-c54c-464d-b7c7-7770a4fa2957",
   "metadata": {},
   "outputs": [
    {
     "name": "stdout",
     "output_type": "stream",
     "text": [
      "I eat five apples\n"
     ]
    }
   ],
   "source": [
    "# 포매팅 \n",
    "a = \"I eat {0} apples\".format(\"five\") # {0}은 순서를 나타낸거라서 숫자, 문자 모두 가능 \n",
    "print(a)"
   ]
  },
  {
   "cell_type": "code",
   "execution_count": null,
   "id": "5f31c88a-1fef-4122-80a4-57d4e8c65b44",
   "metadata": {},
   "outputs": [],
   "source": []
  },
  {
   "cell_type": "code",
   "execution_count": null,
   "id": "79e698f7-4e12-4484-82a3-df0e210422fb",
   "metadata": {},
   "outputs": [],
   "source": []
  },
  {
   "cell_type": "code",
   "execution_count": null,
   "id": "f37ab2ef-0d91-45f3-8c25-2f9fc7d194d1",
   "metadata": {},
   "outputs": [],
   "source": []
  },
  {
   "cell_type": "code",
   "execution_count": null,
   "id": "974d6db9-fa0f-4209-b725-7dda84498102",
   "metadata": {},
   "outputs": [],
   "source": []
  },
  {
   "cell_type": "code",
   "execution_count": null,
   "id": "3546e064-53a7-4b89-a907-5e46a5d70e05",
   "metadata": {},
   "outputs": [],
   "source": []
  },
  {
   "cell_type": "code",
   "execution_count": null,
   "id": "c8f3928b-a0cd-4134-b5f6-47802bd0b65b",
   "metadata": {},
   "outputs": [],
   "source": []
  },
  {
   "cell_type": "code",
   "execution_count": null,
   "id": "30ed4d97-378b-424e-b8d2-23f0d5cacabd",
   "metadata": {},
   "outputs": [],
   "source": []
  },
  {
   "cell_type": "code",
   "execution_count": null,
   "id": "e5443dca-892c-4007-8faf-f1083d476364",
   "metadata": {},
   "outputs": [],
   "source": []
  },
  {
   "cell_type": "code",
   "execution_count": null,
   "id": "65c3da10-21df-40fb-bb6f-d51dac37397f",
   "metadata": {},
   "outputs": [],
   "source": []
  },
  {
   "cell_type": "code",
   "execution_count": null,
   "id": "331a5540-cff6-4e63-9ea6-13bfff8acc9e",
   "metadata": {},
   "outputs": [],
   "source": []
  },
  {
   "cell_type": "code",
   "execution_count": null,
   "id": "b8419308-9144-495c-a808-b1e9eb7c5c20",
   "metadata": {},
   "outputs": [],
   "source": []
  }
 ],
 "metadata": {
  "kernelspec": {
   "display_name": "Python 3 (ipykernel)",
   "language": "python",
   "name": "python3"
  },
  "language_info": {
   "codemirror_mode": {
    "name": "ipython",
    "version": 3
   },
   "file_extension": ".py",
   "mimetype": "text/x-python",
   "name": "python",
   "nbconvert_exporter": "python",
   "pygments_lexer": "ipython3",
   "version": "3.11.7"
  }
 },
 "nbformat": 4,
 "nbformat_minor": 5
}
