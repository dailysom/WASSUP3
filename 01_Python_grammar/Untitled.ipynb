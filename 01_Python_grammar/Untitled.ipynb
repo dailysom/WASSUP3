{
 "cells": [
  {
   "cell_type": "markdown",
   "id": "59a02427-09c6-4ed0-956a-5c692e13d8df",
   "metadata": {},
   "source": [
    "## 01 ~ 10"
   ]
  },
  {
   "cell_type": "code",
   "execution_count": 1,
   "id": "ecfa7d56-da7b-40c5-94d1-20fe37853dcb",
   "metadata": {},
   "outputs": [
    {
     "name": "stdout",
     "output_type": "stream",
     "text": [
      "Hello World\n"
     ]
    }
   ],
   "source": [
    "print('Hello World')"
   ]
  },
  {
   "cell_type": "code",
   "execution_count": 2,
   "id": "603e898f-d8d1-44cf-b3b0-ba00eae1f711",
   "metadata": {},
   "outputs": [
    {
     "name": "stdout",
     "output_type": "stream",
     "text": [
      "Mary's cosmetics\n"
     ]
    }
   ],
   "source": [
    "print(\"Mary's cosmetics\")"
   ]
  },
  {
   "cell_type": "code",
   "execution_count": 3,
   "id": "1f45ab08-8f50-4281-b95b-7b841515ec3e",
   "metadata": {},
   "outputs": [
    {
     "name": "stdout",
     "output_type": "stream",
     "text": [
      "신씨가 소리질렀다. \"도둑이야\".\n"
     ]
    }
   ],
   "source": [
    "print('신씨가 소리질렀다. \"도둑이야\".')"
   ]
  },
  {
   "cell_type": "code",
   "execution_count": null,
   "id": "1297866c-f7e6-4d79-b90b-06de18cdb2ee",
   "metadata": {},
   "outputs": [],
   "source": [
    "줄바꿈, 문자열 사이에 탭 간격을 줄 때 사용 줄바꿈, 문자열 사이에 탭 간격을 줄 때 사용 "
   ]
  },
  {
   "cell_type": "code",
   "execution_count": null,
   "id": "8e285b46-d13a-4d15-96dd-4f499bf1f137",
   "metadata": {},
   "outputs": [],
   "source": []
  },
  {
   "cell_type": "code",
   "execution_count": 4,
   "id": "b49a7a82-0d8a-4f21-9b6b-815a23e6ab86",
   "metadata": {},
   "outputs": [
    {
     "name": "stdout",
     "output_type": "stream",
     "text": [
      "오늘은 일요일\n"
     ]
    }
   ],
   "source": [
    "print (\"오늘은\", \"일요일\")"
   ]
  },
  {
   "cell_type": "code",
   "execution_count": null,
   "id": "a93de842-902f-45bd-b51c-04e035964941",
   "metadata": {},
   "outputs": [],
   "source": []
  },
  {
   "cell_type": "code",
   "execution_count": null,
   "id": "ab9bbac7-4251-4631-91a9-acbabbd69301",
   "metadata": {},
   "outputs": [],
   "source": []
  },
  {
   "cell_type": "code",
   "execution_count": null,
   "id": "6e1b0055-196e-48f4-b607-ae33a6b9fa8b",
   "metadata": {},
   "outputs": [],
   "source": []
  },
  {
   "cell_type": "code",
   "execution_count": 5,
   "id": "da0d957e-0d7f-4ad9-b15d-825856b981c9",
   "metadata": {},
   "outputs": [
    {
     "data": {
      "text/plain": [
       "1.6666666666666667"
      ]
     },
     "execution_count": 5,
     "metadata": {},
     "output_type": "execute_result"
    }
   ],
   "source": [
    "5/3"
   ]
  },
  {
   "cell_type": "markdown",
   "id": "3666756e-795f-4ae1-8dc2-c87ed8454fff",
   "metadata": {},
   "source": [
    "## 11 ~ 20"
   ]
  },
  {
   "cell_type": "code",
   "execution_count": 12,
   "id": "2490aee6-1331-4296-890e-deae14e29b9a",
   "metadata": {},
   "outputs": [
    {
     "data": {
      "text/plain": [
       "500000"
      ]
     },
     "execution_count": 12,
     "metadata": {},
     "output_type": "execute_result"
    }
   ],
   "source": [
    "삼성전자 = 50000\n",
    "삼성전자*10"
   ]
  },
  {
   "cell_type": "code",
   "execution_count": null,
   "id": "1e1f6de5-a631-4c44-a6cb-beeec5c51a73",
   "metadata": {},
   "outputs": [],
   "source": [
    "시가총액 = 298조\n",
    "현재가 = 50000원\n",
    "PER = 15.79"
   ]
  },
  {
   "cell_type": "code",
   "execution_count": 66,
   "id": "52cff1d2-af9c-4adc-949c-55e8df5938f4",
   "metadata": {},
   "outputs": [
    {
     "data": {
      "text/plain": [
       "('hello', 'python')"
      ]
     },
     "execution_count": 66,
     "metadata": {},
     "output_type": "execute_result"
    }
   ],
   "source": [
    "s = \"hello\"\n",
    "t = \"python\"\n",
    "(s , t)"
   ]
  },
  {
   "cell_type": "code",
   "execution_count": null,
   "id": "49494a90-cea6-4c29-99b1-01851748ae91",
   "metadata": {},
   "outputs": [],
   "source": [
    "12"
   ]
  },
  {
   "cell_type": "code",
   "execution_count": null,
   "id": "54c8d115-d51d-43b0-868e-1dfdd4e97c42",
   "metadata": {},
   "outputs": [],
   "source": [
    "String"
   ]
  },
  {
   "cell_type": "code",
   "execution_count": null,
   "id": "5079de7f-15d0-4089-8510-ea0e1cc0d4f3",
   "metadata": {},
   "outputs": [],
   "source": [
    "num_int = 720"
   ]
  },
  {
   "cell_type": "code",
   "execution_count": null,
   "id": "abb07888-6547-46ef-a6a5-2a5b7e1e8568",
   "metadata": {},
   "outputs": [],
   "source": []
  },
  {
   "cell_type": "code",
   "execution_count": null,
   "id": "b861535f-d575-4a7e-bab7-ab10f2ada95f",
   "metadata": {},
   "outputs": [],
   "source": []
  },
  {
   "cell_type": "code",
   "execution_count": null,
   "id": "5723b53a-b7e2-4151-9859-ce6f69dc9c32",
   "metadata": {},
   "outputs": [],
   "source": []
  },
  {
   "cell_type": "code",
   "execution_count": null,
   "id": "75aebc2d-9e29-40bb-a261-13aca112d977",
   "metadata": {},
   "outputs": [],
   "source": []
  },
  {
   "cell_type": "markdown",
   "id": "3681a144-9659-4e1c-9203-61fe661e3bcd",
   "metadata": {},
   "source": [
    "## 21 ~ 30"
   ]
  },
  {
   "cell_type": "code",
   "execution_count": 126,
   "id": "f0789047-497f-4b78-b386-5c2573adfb13",
   "metadata": {},
   "outputs": [
    {
     "data": {
      "text/plain": [
       "'pt'"
      ]
     },
     "execution_count": 126,
     "metadata": {},
     "output_type": "execute_result"
    }
   ],
   "source": [
    "letters = 'python'\n",
    "letters[0] + letters[2]"
   ]
  },
  {
   "cell_type": "code",
   "execution_count": 103,
   "id": "51e9c02c-eff0-4901-9dc6-4e5cb8ca8cbb",
   "metadata": {},
   "outputs": [
    {
     "data": {
      "text/plain": [
       "'2210'"
      ]
     },
     "execution_count": 103,
     "metadata": {},
     "output_type": "execute_result"
    }
   ],
   "source": [
    "license_plate = \"24가 2210\"\n",
    "license_plate[-4:]"
   ]
  },
  {
   "cell_type": "code",
   "execution_count": 125,
   "id": "94be0dcb-3745-42a7-b34c-d107e0ecac28",
   "metadata": {},
   "outputs": [
    {
     "data": {
      "text/plain": [
       "'홀홀홀'"
      ]
     },
     "execution_count": 125,
     "metadata": {},
     "output_type": "execute_result"
    }
   ],
   "source": [
    "string = \"홀짝홀짝홀짝\"\n",
    "string[0] + string[2] + string[4]"
   ]
  },
  {
   "cell_type": "code",
   "execution_count": null,
   "id": "2919bc80-f5ad-4eee-b8cd-909df27c5dee",
   "metadata": {},
   "outputs": [],
   "source": []
  },
  {
   "cell_type": "code",
   "execution_count": null,
   "id": "0adab4b1-304e-4f96-8e62-fb54adfd2d40",
   "metadata": {},
   "outputs": [],
   "source": []
  },
  {
   "cell_type": "code",
   "execution_count": null,
   "id": "7adeefd2-ce7c-44c6-9f70-55555c611f0c",
   "metadata": {},
   "outputs": [],
   "source": []
  },
  {
   "cell_type": "code",
   "execution_count": null,
   "id": "bd7a6976-eed8-4c93-9c41-cc037c33bb1d",
   "metadata": {},
   "outputs": [],
   "source": []
  },
  {
   "cell_type": "code",
   "execution_count": null,
   "id": "be8cc603-f0d3-4527-8a69-f1d3847e756b",
   "metadata": {},
   "outputs": [],
   "source": []
  },
  {
   "cell_type": "code",
   "execution_count": null,
   "id": "8a8e7aa2-26bd-4f58-80c6-5837de688b73",
   "metadata": {},
   "outputs": [],
   "source": []
  },
  {
   "cell_type": "code",
   "execution_count": null,
   "id": "7d2ccd2d-0f98-4ced-bc67-2d8d63742f4d",
   "metadata": {},
   "outputs": [],
   "source": []
  },
  {
   "cell_type": "code",
   "execution_count": null,
   "id": "b0a6ca45-2647-41c8-bf33-b05edb26cde2",
   "metadata": {},
   "outputs": [],
   "source": []
  },
  {
   "cell_type": "code",
   "execution_count": null,
   "id": "75859070-da4b-4f3a-891c-527ee6761fd9",
   "metadata": {},
   "outputs": [],
   "source": []
  },
  {
   "cell_type": "code",
   "execution_count": null,
   "id": "2d86688c-8f7b-4129-8b6f-fd24a193af34",
   "metadata": {},
   "outputs": [],
   "source": []
  },
  {
   "cell_type": "code",
   "execution_count": null,
   "id": "aecf5274-7bf0-4f4b-b951-1c09a3d1f15d",
   "metadata": {},
   "outputs": [],
   "source": []
  },
  {
   "cell_type": "code",
   "execution_count": null,
   "id": "4584df24-daa4-4ac8-95cc-fb3a0695dda2",
   "metadata": {},
   "outputs": [],
   "source": []
  },
  {
   "cell_type": "code",
   "execution_count": null,
   "id": "cf9c063e-7ce0-4546-b46f-7f77b6b6585d",
   "metadata": {},
   "outputs": [],
   "source": []
  },
  {
   "cell_type": "code",
   "execution_count": null,
   "id": "6ca70d09-e335-4c70-9e12-c1b1d1c5730e",
   "metadata": {},
   "outputs": [],
   "source": []
  },
  {
   "cell_type": "code",
   "execution_count": null,
   "id": "6732a6ea-5568-401a-88f3-f8f4d56379e4",
   "metadata": {},
   "outputs": [],
   "source": []
  },
  {
   "cell_type": "markdown",
   "id": "affa7e83-39bd-4488-a060-52f562ce42c4",
   "metadata": {},
   "source": [
    "## 31 ~ 40"
   ]
  },
  {
   "cell_type": "code",
   "execution_count": null,
   "id": "e7bf3772-b6cf-4d25-a83b-7e081294c7fc",
   "metadata": {},
   "outputs": [],
   "source": [
    "34"
   ]
  },
  {
   "cell_type": "code",
   "execution_count": null,
   "id": "0951c419-7794-4e40-95a8-87b3b53eebbf",
   "metadata": {},
   "outputs": [],
   "source": [
    "Hi3?"
   ]
  },
  {
   "cell_type": "code",
   "execution_count": 68,
   "id": "1093c6c3-b9cd-4dbf-a564-9f03669bbb62",
   "metadata": {},
   "outputs": [
    {
     "ename": "TypeError",
     "evalue": "'int' object is not callable",
     "output_type": "error",
     "traceback": [
      "\u001b[1;31m---------------------------------------------------------------------------\u001b[0m",
      "\u001b[1;31mTypeError\u001b[0m                                 Traceback (most recent call last)",
      "Cell \u001b[1;32mIn[68], line 1\u001b[0m\n\u001b[1;32m----> 1\u001b[0m \u001b[38;5;28mprint\u001b[39m(\u001b[38;5;124m'\u001b[39m\u001b[38;5;124m=\u001b[39m\u001b[38;5;124m'\u001b[39m \u001b[38;5;241m*\u001b[39m \u001b[38;5;241m50\u001b[39m)\n",
      "\u001b[1;31mTypeError\u001b[0m: 'int' object is not callable"
     ]
    }
   ],
   "source": [
    "print('=' * 50)"
   ]
  },
  {
   "cell_type": "code",
   "execution_count": 120,
   "id": "52eeeeda-b627-46ee-a4bd-6d3a497d4620",
   "metadata": {},
   "outputs": [
    {
     "data": {
      "text/plain": [
       "('python', 'java', 'python', 'java', 'python', 'java', 'python', 'java')"
      ]
     },
     "execution_count": 120,
     "metadata": {},
     "output_type": "execute_result"
    }
   ],
   "source": [
    "t1 = 'python'\n",
    "t2 = 'java'\n",
    "(t1, t2) * 4"
   ]
  },
  {
   "cell_type": "code",
   "execution_count": null,
   "id": "cd03838f-4249-488d-8fd2-c801fcc8f09d",
   "metadata": {},
   "outputs": [],
   "source": []
  },
  {
   "cell_type": "code",
   "execution_count": null,
   "id": "adb6577b-6e50-416a-a78e-d56d3b4dbff2",
   "metadata": {},
   "outputs": [],
   "source": []
  },
  {
   "cell_type": "code",
   "execution_count": null,
   "id": "7430aa04-5b78-4de6-85d8-7c6ac8a03a22",
   "metadata": {},
   "outputs": [],
   "source": []
  },
  {
   "cell_type": "code",
   "execution_count": null,
   "id": "f52f64c1-5cf5-4cd3-8d3d-6e8e4fcbbd2d",
   "metadata": {},
   "outputs": [],
   "source": []
  },
  {
   "cell_type": "code",
   "execution_count": null,
   "id": "cabe34b3-9318-4823-8ee8-93f3490c88d6",
   "metadata": {},
   "outputs": [],
   "source": []
  },
  {
   "cell_type": "code",
   "execution_count": null,
   "id": "76923275-123c-4ae1-9ff3-8090187a1d3b",
   "metadata": {},
   "outputs": [],
   "source": []
  },
  {
   "cell_type": "markdown",
   "id": "e13dab3a-4fb4-483c-831b-1309fe134137",
   "metadata": {},
   "source": [
    "## 51 ~ 60"
   ]
  },
  {
   "cell_type": "code",
   "execution_count": 127,
   "id": "0c4d1257-ef11-44e4-87ac-a7dd3dd369a5",
   "metadata": {},
   "outputs": [],
   "source": [
    "movie_rank = ['닥터 스트레인지', '스플릿', '럭키']"
   ]
  },
  {
   "cell_type": "code",
   "execution_count": 129,
   "id": "e43f2841-b5a0-41be-b1bf-9fb433135384",
   "metadata": {},
   "outputs": [
    {
     "ename": "TypeError",
     "evalue": "'int' object is not callable",
     "output_type": "error",
     "traceback": [
      "\u001b[1;31m---------------------------------------------------------------------------\u001b[0m",
      "\u001b[1;31mTypeError\u001b[0m                                 Traceback (most recent call last)",
      "Cell \u001b[1;32mIn[129], line 3\u001b[0m\n\u001b[0;32m      1\u001b[0m movie_rank \u001b[38;5;241m=\u001b[39m [\u001b[38;5;124m\"\u001b[39m\u001b[38;5;124m닥터 스트레인지\u001b[39m\u001b[38;5;124m\"\u001b[39m, \u001b[38;5;124m\"\u001b[39m\u001b[38;5;124m스플릿\u001b[39m\u001b[38;5;124m\"\u001b[39m, \u001b[38;5;124m\"\u001b[39m\u001b[38;5;124m럭키\u001b[39m\u001b[38;5;124m\"\u001b[39m]\n\u001b[0;32m      2\u001b[0m movie_rank\u001b[38;5;241m.\u001b[39mappend(\u001b[38;5;124m\"\u001b[39m\u001b[38;5;124m배트맨\u001b[39m\u001b[38;5;124m\"\u001b[39m)\n\u001b[1;32m----> 3\u001b[0m \u001b[38;5;28mprint\u001b[39m(movie_rank)\n",
      "\u001b[1;31mTypeError\u001b[0m: 'int' object is not callable"
     ]
    }
   ],
   "source": [
    "movie_rank = [\"닥터 스트레인지\", \"스플릿\", \"럭키\"]\n",
    "movie_rank.append(\"배트맨\")\n",
    "print(movie_rank)"
   ]
  },
  {
   "cell_type": "code",
   "execution_count": null,
   "id": "400fdd33-8503-4cd1-a655-2e21149dcf0f",
   "metadata": {},
   "outputs": [],
   "source": []
  },
  {
   "cell_type": "code",
   "execution_count": null,
   "id": "c7779138-601d-422b-806f-35a24a97f2d1",
   "metadata": {},
   "outputs": [],
   "source": []
  },
  {
   "cell_type": "code",
   "execution_count": null,
   "id": "b94e9c8a-f327-45db-af5a-e2b48853f4d8",
   "metadata": {},
   "outputs": [],
   "source": []
  },
  {
   "cell_type": "code",
   "execution_count": null,
   "id": "6cc020ba-c9e1-4cbe-b929-c51d2c2ff919",
   "metadata": {},
   "outputs": [],
   "source": []
  },
  {
   "cell_type": "code",
   "execution_count": null,
   "id": "efd59047-253e-4a7e-b1d8-3d2f3105e28c",
   "metadata": {},
   "outputs": [],
   "source": []
  },
  {
   "cell_type": "code",
   "execution_count": null,
   "id": "cef10d98-6305-4207-88f6-0ebdf064fe8f",
   "metadata": {},
   "outputs": [],
   "source": []
  },
  {
   "cell_type": "code",
   "execution_count": null,
   "id": "a578a8fa-fcbf-42ba-b400-13e57fcb5180",
   "metadata": {},
   "outputs": [],
   "source": []
  },
  {
   "cell_type": "code",
   "execution_count": null,
   "id": "66465e82-7db7-41ae-a4d8-e963381561ce",
   "metadata": {},
   "outputs": [],
   "source": []
  },
  {
   "cell_type": "code",
   "execution_count": null,
   "id": "9e96f480-ac1f-4f30-bbce-fb9b09458ee0",
   "metadata": {},
   "outputs": [],
   "source": []
  },
  {
   "cell_type": "code",
   "execution_count": null,
   "id": "e6f0c579-470a-4e91-b1fd-6693f7240234",
   "metadata": {},
   "outputs": [],
   "source": []
  },
  {
   "cell_type": "code",
   "execution_count": null,
   "id": "2bbb6879-58a1-48fb-abe5-911cf4b7ef4b",
   "metadata": {},
   "outputs": [],
   "source": []
  },
  {
   "cell_type": "code",
   "execution_count": null,
   "id": "934f37e9-8cb9-4db5-ab2a-c6fa8bb66a66",
   "metadata": {},
   "outputs": [],
   "source": []
  },
  {
   "cell_type": "code",
   "execution_count": null,
   "id": "9c456d06-025e-4213-b488-eb97279360ee",
   "metadata": {},
   "outputs": [],
   "source": []
  },
  {
   "cell_type": "code",
   "execution_count": null,
   "id": "0222a76f-2576-478e-8a2f-47e0f72ce1cf",
   "metadata": {},
   "outputs": [],
   "source": []
  },
  {
   "cell_type": "code",
   "execution_count": null,
   "id": "4c24041d-0f77-4967-9d8c-5d9f5be42a26",
   "metadata": {},
   "outputs": [],
   "source": []
  },
  {
   "cell_type": "code",
   "execution_count": null,
   "id": "7a310bd4-4442-477e-a6c5-299da317277f",
   "metadata": {},
   "outputs": [],
   "source": []
  },
  {
   "cell_type": "code",
   "execution_count": null,
   "id": "63377da4-5903-4d8d-ad5d-cb1a7409413b",
   "metadata": {},
   "outputs": [],
   "source": []
  },
  {
   "cell_type": "code",
   "execution_count": null,
   "id": "ce14c81d-f41a-42e9-84ba-a85238dc7971",
   "metadata": {},
   "outputs": [],
   "source": []
  },
  {
   "cell_type": "code",
   "execution_count": null,
   "id": "29038070-9b1c-42c2-a4b9-201c61a9e2bc",
   "metadata": {},
   "outputs": [],
   "source": []
  },
  {
   "cell_type": "code",
   "execution_count": null,
   "id": "cb3dc675-7f8f-4f22-822a-ec0ea5d4c261",
   "metadata": {},
   "outputs": [],
   "source": []
  },
  {
   "cell_type": "code",
   "execution_count": null,
   "id": "fa71ee35-d752-4884-849f-978946312046",
   "metadata": {},
   "outputs": [],
   "source": []
  },
  {
   "cell_type": "code",
   "execution_count": null,
   "id": "e0f15667-6fe1-450e-a0b5-d49c718b4d44",
   "metadata": {},
   "outputs": [],
   "source": []
  },
  {
   "cell_type": "code",
   "execution_count": null,
   "id": "b097323f-e792-462f-9782-6756df908aef",
   "metadata": {},
   "outputs": [],
   "source": []
  },
  {
   "cell_type": "code",
   "execution_count": null,
   "id": "d12b3204-780f-44e7-b12c-5bfdea33afca",
   "metadata": {},
   "outputs": [],
   "source": []
  },
  {
   "cell_type": "code",
   "execution_count": null,
   "id": "496cb136-8421-4c0b-9f53-4b678b3b2e48",
   "metadata": {},
   "outputs": [],
   "source": []
  },
  {
   "cell_type": "code",
   "execution_count": null,
   "id": "ee1f825f-2b13-49c4-ac25-1c341f3c74cc",
   "metadata": {},
   "outputs": [],
   "source": []
  }
 ],
 "metadata": {
  "kernelspec": {
   "display_name": "Python 3 (ipykernel)",
   "language": "python",
   "name": "python3"
  },
  "language_info": {
   "codemirror_mode": {
    "name": "ipython",
    "version": 3
   },
   "file_extension": ".py",
   "mimetype": "text/x-python",
   "name": "python",
   "nbconvert_exporter": "python",
   "pygments_lexer": "ipython3",
   "version": "3.11.7"
  }
 },
 "nbformat": 4,
 "nbformat_minor": 5
}
