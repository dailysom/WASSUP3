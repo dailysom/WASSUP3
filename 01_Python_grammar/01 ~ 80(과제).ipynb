{
 "cells": [
  {
   "cell_type": "markdown",
   "id": "59a02427-09c6-4ed0-956a-5c692e13d8df",
   "metadata": {},
   "source": [
    "## 01 ~ 10"
   ]
  },
  {
   "cell_type": "code",
   "execution_count": 1,
   "id": "ecfa7d56-da7b-40c5-94d1-20fe37853dcb",
   "metadata": {},
   "outputs": [
    {
     "name": "stdout",
     "output_type": "stream",
     "text": [
      "Hello World\n"
     ]
    }
   ],
   "source": [
    "print('Hello World')"
   ]
  },
  {
   "cell_type": "code",
   "execution_count": 2,
   "id": "603e898f-d8d1-44cf-b3b0-ba00eae1f711",
   "metadata": {},
   "outputs": [
    {
     "name": "stdout",
     "output_type": "stream",
     "text": [
      "Mary's cosmetics\n"
     ]
    }
   ],
   "source": [
    "print(\"Mary's cosmetics\")"
   ]
  },
  {
   "cell_type": "code",
   "execution_count": 3,
   "id": "1f45ab08-8f50-4281-b95b-7b841515ec3e",
   "metadata": {},
   "outputs": [
    {
     "name": "stdout",
     "output_type": "stream",
     "text": [
      "신씨가 소리질렀다. \"도둑이야\".\n"
     ]
    }
   ],
   "source": [
    "print('신씨가 소리질렀다. \"도둑이야\".')"
   ]
  },
  {
   "cell_type": "code",
   "execution_count": 224,
   "id": "9f7f1d8b-e392-4eac-8dbe-3d24bcacd4e7",
   "metadata": {},
   "outputs": [
    {
     "data": {
      "text/plain": [
       "'C:\\\\Windows'"
      ]
     },
     "execution_count": 224,
     "metadata": {},
     "output_type": "execute_result"
    }
   ],
   "source": [
    "'C:\\\\Windows' # 답을 못찾았다.."
   ]
  },
  {
   "cell_type": "code",
   "execution_count": null,
   "id": "1297866c-f7e6-4d79-b90b-06de18cdb2ee",
   "metadata": {},
   "outputs": [],
   "source": [
    "줄바꿈, 문자열 사이에 탭 간격을 줄 때 사용 줄바꿈, 문자열 사이에 탭 간격을 줄 때 사용 "
   ]
  },
  {
   "cell_type": "code",
   "execution_count": 4,
   "id": "b49a7a82-0d8a-4f21-9b6b-815a23e6ab86",
   "metadata": {},
   "outputs": [
    {
     "name": "stdout",
     "output_type": "stream",
     "text": [
      "오늘은 일요일\n"
     ]
    }
   ],
   "source": [
    "print (\"오늘은\", \"일요일\")"
   ]
  },
  {
   "cell_type": "code",
   "execution_count": 230,
   "id": "a93de842-902f-45bd-b51c-04e035964941",
   "metadata": {},
   "outputs": [
    {
     "ename": "SyntaxError",
     "evalue": "invalid syntax. Maybe you meant '==' or ':=' instead of '='? (2297555300.py, line 1)",
     "output_type": "error",
     "traceback": [
      "\u001b[1;36m  Cell \u001b[1;32mIn[230], line 1\u001b[1;36m\u001b[0m\n\u001b[1;33m    (\"naver\", \"kakao\", \"samsung\", sep=\";\")\u001b[0m\n\u001b[1;37m                                  ^\u001b[0m\n\u001b[1;31mSyntaxError\u001b[0m\u001b[1;31m:\u001b[0m invalid syntax. Maybe you meant '==' or ':=' instead of '='?\n"
     ]
    }
   ],
   "source": [
    "(\"naver\", \"kakao\", \"samsung\", sep=\";\") # 뭐가 문제일까.."
   ]
  },
  {
   "cell_type": "code",
   "execution_count": 237,
   "id": "ab9bbac7-4251-4631-91a9-acbabbd69301",
   "metadata": {},
   "outputs": [
    {
     "ename": "SyntaxError",
     "evalue": "Missing parentheses in call to 'print'. Did you mean print(...)? (1502186730.py, line 1)",
     "output_type": "error",
     "traceback": [
      "\u001b[1;36m  Cell \u001b[1;32mIn[237], line 1\u001b[1;36m\u001b[0m\n\u001b[1;33m    print \"naver\", \"kakao\", \"samsung\"\u001b[0m\n\u001b[1;37m    ^\u001b[0m\n\u001b[1;31mSyntaxError\u001b[0m\u001b[1;31m:\u001b[0m Missing parentheses in call to 'print'. Did you mean print(...)?\n"
     ]
    }
   ],
   "source": [
    "print \"naver\", \"kakao\", \"samsung\" # 뭐가 문제일까..\n",
    "sep=\"/\""
   ]
  },
  {
   "cell_type": "code",
   "execution_count": 239,
   "id": "6e1b0055-196e-48f4-b607-ae33a6b9fa8b",
   "metadata": {},
   "outputs": [
    {
     "ename": "SyntaxError",
     "evalue": "invalid syntax. Maybe you meant '==' or ':=' instead of '='? (1573640566.py, line 1)",
     "output_type": "error",
     "traceback": [
      "\u001b[1;36m  Cell \u001b[1;32mIn[239], line 1\u001b[1;36m\u001b[0m\n\u001b[1;33m    (\"first\", end=\"\");(\"second\")\u001b[0m\n\u001b[1;37m              ^\u001b[0m\n\u001b[1;31mSyntaxError\u001b[0m\u001b[1;31m:\u001b[0m invalid syntax. Maybe you meant '==' or ':=' instead of '='?\n"
     ]
    }
   ],
   "source": [
    "(\"first\", end=\"\");(\"second\") # 뭐가 문제일까.."
   ]
  },
  {
   "cell_type": "code",
   "execution_count": 5,
   "id": "da0d957e-0d7f-4ad9-b15d-825856b981c9",
   "metadata": {},
   "outputs": [
    {
     "data": {
      "text/plain": [
       "1.6666666666666667"
      ]
     },
     "execution_count": 5,
     "metadata": {},
     "output_type": "execute_result"
    }
   ],
   "source": [
    "5/3"
   ]
  },
  {
   "cell_type": "markdown",
   "id": "3666756e-795f-4ae1-8dc2-c87ed8454fff",
   "metadata": {},
   "source": [
    "## 11 ~ 20"
   ]
  },
  {
   "cell_type": "code",
   "execution_count": 12,
   "id": "2490aee6-1331-4296-890e-deae14e29b9a",
   "metadata": {},
   "outputs": [
    {
     "data": {
      "text/plain": [
       "500000"
      ]
     },
     "execution_count": 12,
     "metadata": {},
     "output_type": "execute_result"
    }
   ],
   "source": [
    "삼성전자 = 50000\n",
    "삼성전자*10"
   ]
  },
  {
   "cell_type": "code",
   "execution_count": 240,
   "id": "1e1f6de5-a631-4c44-a6cb-beeec5c51a73",
   "metadata": {},
   "outputs": [
    {
     "ename": "SyntaxError",
     "evalue": "invalid syntax (2457288526.py, line 1)",
     "output_type": "error",
     "traceback": [
      "\u001b[1;36m  Cell \u001b[1;32mIn[240], line 1\u001b[1;36m\u001b[0m\n\u001b[1;33m    시가총액 = 298조\u001b[0m\n\u001b[1;37m              ^\u001b[0m\n\u001b[1;31mSyntaxError\u001b[0m\u001b[1;31m:\u001b[0m invalid syntax\n"
     ]
    }
   ],
   "source": [
    "시가총액 = 298조 # 뭐가 문제일까..\n",
    "현재가 = 50000원\n",
    "PER = 15.79"
   ]
  },
  {
   "cell_type": "code",
   "execution_count": 241,
   "id": "52cff1d2-af9c-4adc-949c-55e8df5938f4",
   "metadata": {},
   "outputs": [
    {
     "data": {
      "text/plain": [
       "('hello!', 'python')"
      ]
     },
     "execution_count": 241,
     "metadata": {},
     "output_type": "execute_result"
    }
   ],
   "source": [
    "s = \"hello\"\n",
    "t = \"python\"\n",
    "(s+\"!\", t)"
   ]
  },
  {
   "cell_type": "code",
   "execution_count": 242,
   "id": "49494a90-cea6-4c29-99b1-01851748ae91",
   "metadata": {},
   "outputs": [
    {
     "data": {
      "text/plain": [
       "8"
      ]
     },
     "execution_count": 242,
     "metadata": {},
     "output_type": "execute_result"
    }
   ],
   "source": [
    "a = 2 + 2 * 3 \n",
    "a"
   ]
  },
  {
   "cell_type": "code",
   "execution_count": 243,
   "id": "54c8d115-d51d-43b0-868e-1dfdd4e97c42",
   "metadata": {},
   "outputs": [
    {
     "data": {
      "text/plain": [
       "str"
      ]
     },
     "execution_count": 243,
     "metadata": {},
     "output_type": "execute_result"
    }
   ],
   "source": [
    "a = \"132\"\n",
    "(type(a))"
   ]
  },
  {
   "cell_type": "code",
   "execution_count": 244,
   "id": "5079de7f-15d0-4089-8510-ea0e1cc0d4f3",
   "metadata": {},
   "outputs": [
    {
     "data": {
      "text/plain": [
       "(721, int)"
      ]
     },
     "execution_count": 244,
     "metadata": {},
     "output_type": "execute_result"
    }
   ],
   "source": [
    "num_str = \"720\"  \n",
    "num_int = int(num_str)\n",
    "(num_int+1, type(num_int))"
   ]
  },
  {
   "cell_type": "code",
   "execution_count": 247,
   "id": "abb07888-6547-46ef-a6a5-2a5b7e1e8568",
   "metadata": {},
   "outputs": [
    {
     "ename": "SyntaxError",
     "evalue": "invalid syntax (1229286870.py, line 1)",
     "output_type": "error",
     "traceback": [
      "\u001b[1;36m  Cell \u001b[1;32mIn[247], line 1\u001b[1;36m\u001b[0m\n\u001b[1;33m    ed!num = 100\u001b[0m\n\u001b[1;37m      ^\u001b[0m\n\u001b[1;31mSyntaxError\u001b[0m\u001b[1;31m:\u001b[0m invalid syntax\n"
     ]
    }
   ],
   "source": [
    "ed!num = 100\n",
    "result = str(num)\n",
    "print(result, type(result))"
   ]
  },
  {
   "cell_type": "code",
   "execution_count": 268,
   "id": "b861535f-d575-4a7e-bab7-ab10f2ada95f",
   "metadata": {},
   "outputs": [
    {
     "data": {
      "text/plain": [
       "(15.79, float)"
      ]
     },
     "execution_count": 268,
     "metadata": {},
     "output_type": "execute_result"
    }
   ],
   "source": [
    "data = \"15.79\"\n",
    "data = float(data)\n",
    "(data, type(data))"
   ]
  },
  {
   "cell_type": "code",
   "execution_count": null,
   "id": "5723b53a-b7e2-4151-9859-ce6f69dc9c32",
   "metadata": {},
   "outputs": [],
   "source": []
  },
  {
   "cell_type": "code",
   "execution_count": 248,
   "id": "75aebc2d-9e29-40bb-a261-13aca112d977",
   "metadata": {},
   "outputs": [
    {
     "data": {
      "text/plain": [
       "48584"
      ]
     },
     "execution_count": 248,
     "metadata": {},
     "output_type": "execute_result"
    }
   ],
   "source": [
    "a = 48584\n",
    "a*36\n",
    "a"
   ]
  },
  {
   "cell_type": "markdown",
   "id": "3681a144-9659-4e1c-9203-61fe661e3bcd",
   "metadata": {},
   "source": [
    "## 21 ~ 30"
   ]
  },
  {
   "cell_type": "code",
   "execution_count": 126,
   "id": "f0789047-497f-4b78-b386-5c2573adfb13",
   "metadata": {},
   "outputs": [
    {
     "data": {
      "text/plain": [
       "'pt'"
      ]
     },
     "execution_count": 126,
     "metadata": {},
     "output_type": "execute_result"
    }
   ],
   "source": [
    "letters = 'python'\n",
    "letters[0] + letters[2]"
   ]
  },
  {
   "cell_type": "code",
   "execution_count": 103,
   "id": "51e9c02c-eff0-4901-9dc6-4e5cb8ca8cbb",
   "metadata": {},
   "outputs": [
    {
     "data": {
      "text/plain": [
       "'2210'"
      ]
     },
     "execution_count": 103,
     "metadata": {},
     "output_type": "execute_result"
    }
   ],
   "source": [
    "license_plate = \"24가 2210\"\n",
    "license_plate[-4:]"
   ]
  },
  {
   "cell_type": "code",
   "execution_count": 125,
   "id": "94be0dcb-3745-42a7-b34c-d107e0ecac28",
   "metadata": {},
   "outputs": [
    {
     "data": {
      "text/plain": [
       "'홀홀홀'"
      ]
     },
     "execution_count": 125,
     "metadata": {},
     "output_type": "execute_result"
    }
   ],
   "source": [
    "string = \"홀짝홀짝홀짝\"\n",
    "string[0] + string[2] + string[4]"
   ]
  },
  {
   "cell_type": "code",
   "execution_count": 249,
   "id": "2919bc80-f5ad-4eee-b8cd-909df27c5dee",
   "metadata": {},
   "outputs": [
    {
     "data": {
      "text/plain": [
       "'NOHTYP'"
      ]
     },
     "execution_count": 249,
     "metadata": {},
     "output_type": "execute_result"
    }
   ],
   "source": [
    "string = \"PYTHON\"\n",
    "(string[::-1])"
   ]
  },
  {
   "cell_type": "code",
   "execution_count": 250,
   "id": "0adab4b1-304e-4f96-8e62-fb54adfd2d40",
   "metadata": {},
   "outputs": [
    {
     "data": {
      "text/plain": [
       "'010 1111 2222'"
      ]
     },
     "execution_count": 250,
     "metadata": {},
     "output_type": "execute_result"
    }
   ],
   "source": [
    "phone_number = \"010-1111-2222\"\n",
    "phone_number1 = phone_number.replace(\"-\", \" \")\n",
    "(phone_number1)"
   ]
  },
  {
   "cell_type": "code",
   "execution_count": 252,
   "id": "7adeefd2-ce7c-44c6-9f70-55555c611f0c",
   "metadata": {},
   "outputs": [
    {
     "data": {
      "text/plain": [
       "'01011112222'"
      ]
     },
     "execution_count": 252,
     "metadata": {},
     "output_type": "execute_result"
    }
   ],
   "source": [
    "phone_number = \"010-1111-2222\"\n",
    "phone_number1 = phone_number.replace('-', '')\n",
    "(phone_number1)"
   ]
  },
  {
   "cell_type": "code",
   "execution_count": 256,
   "id": "bd7a6976-eed8-4c93-9c41-cc037c33bb1d",
   "metadata": {},
   "outputs": [
    {
     "data": {
      "text/plain": [
       "'kr'"
      ]
     },
     "execution_count": 256,
     "metadata": {},
     "output_type": "execute_result"
    }
   ],
   "source": [
    "url = \"http://sharebook.kr\"\n",
    "url[-2:]"
   ]
  },
  {
   "cell_type": "code",
   "execution_count": 267,
   "id": "be8cc603-f0d3-4527-8a69-f1d3847e756b",
   "metadata": {},
   "outputs": [
    {
     "ename": "TypeError",
     "evalue": "'str' object does not support item assignment",
     "output_type": "error",
     "traceback": [
      "\u001b[1;31m---------------------------------------------------------------------------\u001b[0m",
      "\u001b[1;31mTypeError\u001b[0m                                 Traceback (most recent call last)",
      "Cell \u001b[1;32mIn[267], line 2\u001b[0m\n\u001b[0;32m      1\u001b[0m lang \u001b[38;5;241m=\u001b[39m \u001b[38;5;124m'\u001b[39m\u001b[38;5;124mpython\u001b[39m\u001b[38;5;124m'\u001b[39m\n\u001b[1;32m----> 2\u001b[0m lang[\u001b[38;5;241m0\u001b[39m] \u001b[38;5;241m=\u001b[39m \u001b[38;5;124m'\u001b[39m\u001b[38;5;124mP\u001b[39m\u001b[38;5;124m'\u001b[39m\n",
      "\u001b[1;31mTypeError\u001b[0m: 'str' object does not support item assignment"
     ]
    }
   ],
   "source": [
    "lang = 'python'\n",
    "lang[0] = 'P'"
   ]
  },
  {
   "cell_type": "code",
   "execution_count": 264,
   "id": "8a8e7aa2-26bd-4f58-80c6-5837de688b73",
   "metadata": {},
   "outputs": [
    {
     "data": {
      "text/plain": [
       "'Abcdfe2A354A32A'"
      ]
     },
     "execution_count": 264,
     "metadata": {},
     "output_type": "execute_result"
    }
   ],
   "source": [
    "string = 'abcdfe2a354a32a'\n",
    "string = string.replace('a', 'A')\n",
    "(string)"
   ]
  },
  {
   "cell_type": "code",
   "execution_count": 265,
   "id": "7d2ccd2d-0f98-4ced-bc67-2d8d63742f4d",
   "metadata": {},
   "outputs": [
    {
     "data": {
      "text/plain": [
       "'abcd'"
      ]
     },
     "execution_count": 265,
     "metadata": {},
     "output_type": "execute_result"
    }
   ],
   "source": [
    "string = 'abcd'\n",
    "string.replace('b', 'B')\n",
    "(string)"
   ]
  },
  {
   "cell_type": "markdown",
   "id": "affa7e83-39bd-4488-a060-52f562ce42c4",
   "metadata": {},
   "source": [
    "## 31 ~ 40"
   ]
  },
  {
   "cell_type": "code",
   "execution_count": 270,
   "id": "e7bf3772-b6cf-4d25-a83b-7e081294c7fc",
   "metadata": {},
   "outputs": [
    {
     "data": {
      "text/plain": [
       "'34'"
      ]
     },
     "execution_count": 270,
     "metadata": {},
     "output_type": "execute_result"
    }
   ],
   "source": [
    "a = \"3\"\n",
    "b = \"4\"\n",
    "(a + b)"
   ]
  },
  {
   "cell_type": "code",
   "execution_count": null,
   "id": "0951c419-7794-4e40-95a8-87b3b53eebbf",
   "metadata": {},
   "outputs": [],
   "source": [
    "Hi3?"
   ]
  },
  {
   "cell_type": "code",
   "execution_count": 273,
   "id": "1093c6c3-b9cd-4dbf-a564-9f03669bbb62",
   "metadata": {},
   "outputs": [
    {
     "data": {
      "text/plain": [
       "'--------------------------------------------------------------------------------'"
      ]
     },
     "execution_count": 273,
     "metadata": {},
     "output_type": "execute_result"
    }
   ],
   "source": [
    "a = '-'\n",
    "a*80"
   ]
  },
  {
   "cell_type": "code",
   "execution_count": 274,
   "id": "52eeeeda-b627-46ee-a4bd-6d3a497d4620",
   "metadata": {},
   "outputs": [
    {
     "data": {
      "text/plain": [
       "'python java python java python java python java '"
      ]
     },
     "execution_count": 274,
     "metadata": {},
     "output_type": "execute_result"
    }
   ],
   "source": [
    "t1 = \"python\"\n",
    "t2 = \"java\"\n",
    "t3 = t1 + ' ' + t2 + ' '\n",
    "(t3 * 4)"
   ]
  },
  {
   "cell_type": "code",
   "execution_count": null,
   "id": "cd03838f-4249-488d-8fd2-c801fcc8f09d",
   "metadata": {},
   "outputs": [],
   "source": []
  },
  {
   "cell_type": "code",
   "execution_count": null,
   "id": "adb6577b-6e50-416a-a78e-d56d3b4dbff2",
   "metadata": {},
   "outputs": [],
   "source": []
  },
  {
   "cell_type": "code",
   "execution_count": null,
   "id": "7430aa04-5b78-4de6-85d8-7c6ac8a03a22",
   "metadata": {},
   "outputs": [],
   "source": []
  },
  {
   "cell_type": "code",
   "execution_count": null,
   "id": "f52f64c1-5cf5-4cd3-8d3d-6e8e4fcbbd2d",
   "metadata": {},
   "outputs": [],
   "source": []
  },
  {
   "cell_type": "code",
   "execution_count": 278,
   "id": "cabe34b3-9318-4823-8ee8-93f3490c88d6",
   "metadata": {},
   "outputs": [
    {
     "data": {
      "text/plain": [
       "'2020/03'"
      ]
     },
     "execution_count": 278,
     "metadata": {},
     "output_type": "execute_result"
    }
   ],
   "source": [
    "분기 = \"2020/03(E) (IFRS연결)\"\n",
    "(분기[:7])"
   ]
  },
  {
   "cell_type": "code",
   "execution_count": 275,
   "id": "76923275-123c-4ae1-9ff3-8090187a1d3b",
   "metadata": {},
   "outputs": [
    {
     "data": {
      "text/plain": [
       "'삼성전자'"
      ]
     },
     "execution_count": 275,
     "metadata": {},
     "output_type": "execute_result"
    }
   ],
   "source": [
    "data = \"   삼성전자    \"\n",
    "data1 = data.strip()\n",
    "(data1)"
   ]
  },
  {
   "cell_type": "markdown",
   "id": "9a0c5e22-e51e-44ed-b3fe-4586cdaccf96",
   "metadata": {},
   "source": [
    "## 41 ~ 50 "
   ]
  },
  {
   "cell_type": "code",
   "execution_count": 280,
   "id": "adea6ef4-a3a0-47cb-8fcf-374f414ece0c",
   "metadata": {},
   "outputs": [
    {
     "data": {
      "text/plain": [
       "'BTC_KRW'"
      ]
     },
     "execution_count": 280,
     "metadata": {},
     "output_type": "execute_result"
    }
   ],
   "source": [
    "ticker = \"btc_krw\"\n",
    "ticker1 = ticker.upper()\n",
    "(ticker1)"
   ]
  },
  {
   "cell_type": "code",
   "execution_count": 281,
   "id": "8cb7847f-be57-44d9-bdbc-1972f7802168",
   "metadata": {},
   "outputs": [
    {
     "data": {
      "text/plain": [
       "'btc_krw'"
      ]
     },
     "execution_count": 281,
     "metadata": {},
     "output_type": "execute_result"
    }
   ],
   "source": [
    "ticker = \"BTC_KRW\"\n",
    "ticker = ticker.lower()\n",
    "(ticker)"
   ]
  },
  {
   "cell_type": "code",
   "execution_count": 283,
   "id": "2d55baf9-fbeb-4ec9-9d97-b5f10014e265",
   "metadata": {},
   "outputs": [
    {
     "data": {
      "text/plain": [
       "'Hello'"
      ]
     },
     "execution_count": 283,
     "metadata": {},
     "output_type": "execute_result"
    }
   ],
   "source": [
    "a = \"hello\"\n",
    "a = a.capitalize()\n",
    "a"
   ]
  },
  {
   "cell_type": "code",
   "execution_count": 284,
   "id": "11a0ca23-207a-4262-8f2c-5103931776f7",
   "metadata": {},
   "outputs": [
    {
     "data": {
      "text/plain": [
       "True"
      ]
     },
     "execution_count": 284,
     "metadata": {},
     "output_type": "execute_result"
    }
   ],
   "source": [
    "file_name = \"보고서.xlsx\"\n",
    "file_name.endswith(\"xlsx\")"
   ]
  },
  {
   "cell_type": "code",
   "execution_count": 285,
   "id": "921edc34-a25b-4f24-8e56-83a9f44dfe72",
   "metadata": {},
   "outputs": [
    {
     "data": {
      "text/plain": [
       "True"
      ]
     },
     "execution_count": 285,
     "metadata": {},
     "output_type": "execute_result"
    }
   ],
   "source": [
    "file_name = \"보고서.xlsx\"\n",
    "file_name.endswith((\"xlsx\", \"xls\"))"
   ]
  },
  {
   "cell_type": "code",
   "execution_count": 286,
   "id": "37e6ce62-bb57-4d25-9813-e19e6008f833",
   "metadata": {},
   "outputs": [
    {
     "data": {
      "text/plain": [
       "True"
      ]
     },
     "execution_count": 286,
     "metadata": {},
     "output_type": "execute_result"
    }
   ],
   "source": [
    "file_name = \"2020_보고서.xlsx\"\n",
    "file_name.startswith(\"2020\")"
   ]
  },
  {
   "cell_type": "code",
   "execution_count": 287,
   "id": "0bbad2cf-04be-4a7a-8908-b29d8fdc89bf",
   "metadata": {},
   "outputs": [
    {
     "data": {
      "text/plain": [
       "['hello', 'world']"
      ]
     },
     "execution_count": 287,
     "metadata": {},
     "output_type": "execute_result"
    }
   ],
   "source": [
    "a = \"hello world\"\n",
    "a.split()"
   ]
  },
  {
   "cell_type": "code",
   "execution_count": 288,
   "id": "9c0046a5-d3fe-4287-8d4d-93bfab36606b",
   "metadata": {},
   "outputs": [
    {
     "data": {
      "text/plain": [
       "['btc', 'krw']"
      ]
     },
     "execution_count": 288,
     "metadata": {},
     "output_type": "execute_result"
    }
   ],
   "source": [
    "ticker = \"btc_krw\"\n",
    "ticker.split(\"_\")"
   ]
  },
  {
   "cell_type": "code",
   "execution_count": 289,
   "id": "2e6d5815-930c-4362-9c8a-e9f207522602",
   "metadata": {},
   "outputs": [
    {
     "data": {
      "text/plain": [
       "['2020', '05', '01']"
      ]
     },
     "execution_count": 289,
     "metadata": {},
     "output_type": "execute_result"
    }
   ],
   "source": [
    "date = \"2020-05-01\"\n",
    "date.split(\"-\")"
   ]
  },
  {
   "cell_type": "code",
   "execution_count": 291,
   "id": "304ec4d9-ce44-4747-86df-e0d42c5bfba7",
   "metadata": {},
   "outputs": [
    {
     "data": {
      "text/plain": [
       "'039490'"
      ]
     },
     "execution_count": 291,
     "metadata": {},
     "output_type": "execute_result"
    }
   ],
   "source": [
    "data = \"039490     \"\n",
    "data = data.rstrip()\n",
    "data"
   ]
  },
  {
   "cell_type": "markdown",
   "id": "e13dab3a-4fb4-483c-831b-1309fe134137",
   "metadata": {},
   "source": [
    "## 51 ~ 60"
   ]
  },
  {
   "cell_type": "code",
   "execution_count": 151,
   "id": "0c4d1257-ef11-44e4-87ac-a7dd3dd369a5",
   "metadata": {},
   "outputs": [
    {
     "data": {
      "text/plain": [
       "['닥터 스트레인지', '스플릿', '럭키']"
      ]
     },
     "execution_count": 151,
     "metadata": {},
     "output_type": "execute_result"
    }
   ],
   "source": [
    "movie_rank = [\"닥터 스트레인지\", \"스플릿\", \"럭키\"]\n",
    "movie_rank"
   ]
  },
  {
   "cell_type": "code",
   "execution_count": 194,
   "id": "e43f2841-b5a0-41be-b1bf-9fb433135384",
   "metadata": {},
   "outputs": [
    {
     "data": {
      "text/plain": [
       "['닥터 스트레인지', '스플릿', '럭키', '배트맨']"
      ]
     },
     "execution_count": 194,
     "metadata": {},
     "output_type": "execute_result"
    }
   ],
   "source": [
    "movie_rank = [\"닥터 스트레인지\", \"스플릿\", \"럭키\"]\n",
    "movie_rank.append(\"배트맨\")\n",
    "movie_rank"
   ]
  },
  {
   "cell_type": "code",
   "execution_count": 195,
   "id": "400fdd33-8503-4cd1-a655-2e21149dcf0f",
   "metadata": {},
   "outputs": [
    {
     "data": {
      "text/plain": [
       "['닥터 스트레인지', '슈퍼맨', '스플릿', '럭키', '배트맨']"
      ]
     },
     "execution_count": 195,
     "metadata": {},
     "output_type": "execute_result"
    }
   ],
   "source": [
    "movie_rank = ['닥터 스트레인지', '스플릿', '럭키', '배트맨']\n",
    "movie_rank.insert(1, \"슈퍼맨\")\n",
    "movie_rank"
   ]
  },
  {
   "cell_type": "code",
   "execution_count": 201,
   "id": "c7779138-601d-422b-806f-35a24a97f2d1",
   "metadata": {},
   "outputs": [
    {
     "data": {
      "text/plain": [
       "['닥터 스트레인지', '슈퍼맨', '스플릿', '배트맨']"
      ]
     },
     "execution_count": 201,
     "metadata": {},
     "output_type": "execute_result"
    }
   ],
   "source": [
    "movie_rank = ['닥터 스트레인지', '슈퍼맨', '스플릿', '럭키', '배트맨']\n",
    "del movie_rank[3]\n",
    "movie_rank"
   ]
  },
  {
   "cell_type": "code",
   "execution_count": 204,
   "id": "6cc020ba-c9e1-4cbe-b929-c51d2c2ff919",
   "metadata": {},
   "outputs": [
    {
     "data": {
      "text/plain": [
       "['닥터 스트레인지', '슈퍼맨']"
      ]
     },
     "execution_count": 204,
     "metadata": {},
     "output_type": "execute_result"
    }
   ],
   "source": [
    "movie_rank = ['닥터 스트레인지', '슈퍼맨', '스플릿', '배트맨']\n",
    "del movie_rank[2:]\n",
    "movie_rank"
   ]
  },
  {
   "cell_type": "code",
   "execution_count": 208,
   "id": "81ddbc2c-fd29-449c-bfd3-e57ac6572ce4",
   "metadata": {},
   "outputs": [
    {
     "data": {
      "text/plain": [
       "['C', 'C++', 'JAVA', 'Python', 'Go', 'C#']"
      ]
     },
     "execution_count": 208,
     "metadata": {},
     "output_type": "execute_result"
    }
   ],
   "source": [
    "lang1 = [\"C\", \"C++\", \"JAVA\"]\n",
    "lang2 = [\"Python\", \"Go\", \"C#\"]\n",
    "langs = lang1 + lang2\n",
    "langs"
   ]
  },
  {
   "cell_type": "code",
   "execution_count": 294,
   "id": "6dbe3fd0-ba7e-44f0-87d8-87508f989c3e",
   "metadata": {},
   "outputs": [
    {
     "data": {
      "text/plain": [
       "('min: ', 1)"
      ]
     },
     "execution_count": 294,
     "metadata": {},
     "output_type": "execute_result"
    }
   ],
   "source": [
    "nums = [1, 2, 3, 4, 5, 6, 7]\n",
    "(\"max: \", max(nums))\n",
    "(\"min: \", min(nums))"
   ]
  },
  {
   "cell_type": "code",
   "execution_count": 179,
   "id": "cef10d98-6305-4207-88f6-0ebdf064fe8f",
   "metadata": {},
   "outputs": [
    {
     "data": {
      "text/plain": [
       "15"
      ]
     },
     "execution_count": 179,
     "metadata": {},
     "output_type": "execute_result"
    }
   ],
   "source": [
    "nums = [1, 2, 3, 4, 5]\n",
    "(sum(nums))"
   ]
  },
  {
   "cell_type": "code",
   "execution_count": 189,
   "id": "a578a8fa-fcbf-42ba-b400-13e57fcb5180",
   "metadata": {},
   "outputs": [
    {
     "data": {
      "text/plain": [
       "12"
      ]
     },
     "execution_count": 189,
     "metadata": {},
     "output_type": "execute_result"
    }
   ],
   "source": [
    "cook = [\"피자\", \"김밥\", \"만두\", \"양념치킨\", \"족발\", \"피자\", \"김치만두\", \"쫄면\", \"소시지\", \"라면\", \"팥빙수\", \"김치전\"]\n",
    "(len(cook))"
   ]
  },
  {
   "cell_type": "code",
   "execution_count": 192,
   "id": "66465e82-7db7-41ae-a4d8-e963381561ce",
   "metadata": {},
   "outputs": [
    {
     "data": {
      "text/plain": [
       "3.0"
      ]
     },
     "execution_count": 192,
     "metadata": {},
     "output_type": "execute_result"
    }
   ],
   "source": [
    "nums = [1, 2, 3, 4, 5]\n",
    "average = sum(nums) / len(nums)\n",
    "average"
   ]
  },
  {
   "cell_type": "markdown",
   "id": "99ded480-f31f-4fba-93ae-3ea3c9e13052",
   "metadata": {},
   "source": [
    "## 61 ~ 70"
   ]
  },
  {
   "cell_type": "code",
   "execution_count": 295,
   "id": "4c24041d-0f77-4967-9d8c-5d9f5be42a26",
   "metadata": {},
   "outputs": [
    {
     "data": {
      "text/plain": [
       "[100, 130, 140, 150, 160, 170]"
      ]
     },
     "execution_count": 295,
     "metadata": {},
     "output_type": "execute_result"
    }
   ],
   "source": [
    "price = ['20180728', 100, 130, 140, 150, 160, 170]\n",
    "(price[1:])"
   ]
  },
  {
   "cell_type": "code",
   "execution_count": 296,
   "id": "7a310bd4-4442-477e-a6c5-299da317277f",
   "metadata": {},
   "outputs": [
    {
     "data": {
      "text/plain": [
       "[1, 3, 5, 7, 9]"
      ]
     },
     "execution_count": 296,
     "metadata": {},
     "output_type": "execute_result"
    }
   ],
   "source": [
    "nums = [1, 2, 3, 4, 5, 6, 7, 8, 9, 10]\n",
    "(nums[::2])"
   ]
  },
  {
   "cell_type": "code",
   "execution_count": 297,
   "id": "63377da4-5903-4d8d-ad5d-cb1a7409413b",
   "metadata": {},
   "outputs": [
    {
     "data": {
      "text/plain": [
       "[2, 4, 6, 8, 10]"
      ]
     },
     "execution_count": 297,
     "metadata": {},
     "output_type": "execute_result"
    }
   ],
   "source": [
    "nums = [1, 2, 3, 4, 5, 6, 7, 8, 9, 10]\n",
    "(nums[1::2])"
   ]
  },
  {
   "cell_type": "code",
   "execution_count": 298,
   "id": "ce14c81d-f41a-42e9-84ba-a85238dc7971",
   "metadata": {},
   "outputs": [
    {
     "data": {
      "text/plain": [
       "[5, 4, 3, 2, 1]"
      ]
     },
     "execution_count": 298,
     "metadata": {},
     "output_type": "execute_result"
    }
   ],
   "source": [
    "nums = [1, 2, 3, 4, 5]\n",
    "(nums[::-1])"
   ]
  },
  {
   "cell_type": "code",
   "execution_count": 299,
   "id": "29038070-9b1c-42c2-a4b9-201c61a9e2bc",
   "metadata": {},
   "outputs": [
    {
     "data": {
      "text/plain": [
       "('삼성전자', 'Naver')"
      ]
     },
     "execution_count": 299,
     "metadata": {},
     "output_type": "execute_result"
    }
   ],
   "source": [
    "interest = ['삼성전자', 'LG전자', 'Naver']\n",
    "(interest[0], interest[2])"
   ]
  },
  {
   "cell_type": "code",
   "execution_count": 300,
   "id": "cb3dc675-7f8f-4f22-822a-ec0ea5d4c261",
   "metadata": {},
   "outputs": [
    {
     "data": {
      "text/plain": [
       "'삼성전자 LG전자 Naver SK하이닉스 미래에셋대우'"
      ]
     },
     "execution_count": 300,
     "metadata": {},
     "output_type": "execute_result"
    }
   ],
   "source": [
    "interest = ['삼성전자', 'LG전자', 'Naver', 'SK하이닉스', '미래에셋대우']\n",
    "(\" \".join(interest))"
   ]
  },
  {
   "cell_type": "code",
   "execution_count": 301,
   "id": "fa71ee35-d752-4884-849f-978946312046",
   "metadata": {},
   "outputs": [
    {
     "data": {
      "text/plain": [
       "'삼성전자/LG전자/Naver/SK하이닉스/미래에셋대우'"
      ]
     },
     "execution_count": 301,
     "metadata": {},
     "output_type": "execute_result"
    }
   ],
   "source": [
    "interest = ['삼성전자', 'LG전자', 'Naver', 'SK하이닉스', '미래에셋대우']\n",
    "(\"/\".join(interest))"
   ]
  },
  {
   "cell_type": "code",
   "execution_count": null,
   "id": "aad4cf8a-d5b3-4b30-bf7c-71bde39834c3",
   "metadata": {},
   "outputs": [],
   "source": []
  },
  {
   "cell_type": "code",
   "execution_count": 303,
   "id": "1573c64b-858c-4932-bad6-37d7b59345a9",
   "metadata": {},
   "outputs": [
    {
     "data": {
      "text/plain": [
       "['삼성전자', 'LG전자', 'Naver']"
      ]
     },
     "execution_count": 303,
     "metadata": {},
     "output_type": "execute_result"
    }
   ],
   "source": [
    "string = \"삼성전자/LG전자/Naver\"\n",
    "interest = string.split(\"/\")\n",
    "(interest)"
   ]
  },
  {
   "cell_type": "code",
   "execution_count": 302,
   "id": "d853e756-3c06-4086-a801-edc251dbdf38",
   "metadata": {},
   "outputs": [
    {
     "data": {
      "text/plain": [
       "[1, 2, 3, 4, 5, 9, 10]"
      ]
     },
     "execution_count": 302,
     "metadata": {},
     "output_type": "execute_result"
    }
   ],
   "source": [
    "data = [2, 4, 3, 1, 5, 10, 9]\n",
    "data2 = sorted(data)\n",
    "(data2)"
   ]
  },
  {
   "cell_type": "markdown",
   "id": "c8ee15c5-4816-47e5-9064-a76223b25b38",
   "metadata": {},
   "source": [
    "## 71 ~ 80"
   ]
  },
  {
   "cell_type": "code",
   "execution_count": 217,
   "id": "ba2887fd-42e5-4a3a-ad91-99ec849766ec",
   "metadata": {},
   "outputs": [
    {
     "data": {
      "text/plain": [
       "tuple"
      ]
     },
     "execution_count": 217,
     "metadata": {},
     "output_type": "execute_result"
    }
   ],
   "source": [
    "my_variable = ()\n",
    "type(my_variable)"
   ]
  },
  {
   "cell_type": "code",
   "execution_count": 304,
   "id": "34b5c86b-724d-428c-a228-c99baaebd5b8",
   "metadata": {},
   "outputs": [
    {
     "ename": "SyntaxError",
     "evalue": "invalid syntax (2819058406.py, line 1)",
     "output_type": "error",
     "traceback": [
      "\u001b[1;36m  Cell \u001b[1;32mIn[304], line 1\u001b[1;36m\u001b[0m\n\u001b[1;33m    >> print(type(my_variable))\u001b[0m\n\u001b[1;37m    ^\u001b[0m\n\u001b[1;31mSyntaxError\u001b[0m\u001b[1;31m:\u001b[0m invalid syntax\n"
     ]
    }
   ],
   "source": [
    ">> print(type(my_variable))\n",
    "<class 'tuple'>"
   ]
  },
  {
   "cell_type": "code",
   "execution_count": 306,
   "id": "86afe1bb-b96c-4d62-abb6-e3623e1bc2c3",
   "metadata": {},
   "outputs": [
    {
     "data": {
      "text/plain": [
       "('닥터 스트레인지', '스플릿', '럭키')"
      ]
     },
     "execution_count": 306,
     "metadata": {},
     "output_type": "execute_result"
    }
   ],
   "source": [
    "movie_rank= (\"닥터 스트레인지\", \"스플릿\", \"럭키\")\n",
    "movie_rank"
   ]
  },
  {
   "cell_type": "code",
   "execution_count": null,
   "id": "7f70c299-9ed6-401c-8d56-9d9bced7df2b",
   "metadata": {},
   "outputs": [],
   "source": []
  },
  {
   "cell_type": "code",
   "execution_count": null,
   "id": "9839fc17-c61d-478c-b98a-bd98a3b59de6",
   "metadata": {},
   "outputs": [],
   "source": []
  },
  {
   "cell_type": "code",
   "execution_count": null,
   "id": "1191e349-b8ee-434b-95ba-b3950c41065a",
   "metadata": {},
   "outputs": [],
   "source": []
  },
  {
   "cell_type": "code",
   "execution_count": null,
   "id": "328518d4-18d9-42ef-973a-59d30b2f864d",
   "metadata": {},
   "outputs": [],
   "source": []
  },
  {
   "cell_type": "code",
   "execution_count": null,
   "id": "e0f15667-6fe1-450e-a0b5-d49c718b4d44",
   "metadata": {},
   "outputs": [],
   "source": []
  },
  {
   "cell_type": "code",
   "execution_count": null,
   "id": "b097323f-e792-462f-9782-6756df908aef",
   "metadata": {},
   "outputs": [],
   "source": []
  },
  {
   "cell_type": "code",
   "execution_count": 307,
   "id": "d12b3204-780f-44e7-b12c-5bfdea33afca",
   "metadata": {},
   "outputs": [
    {
     "data": {
      "text/plain": [
       "(2,\n",
       " 4,\n",
       " 6,\n",
       " 8,\n",
       " 10,\n",
       " 12,\n",
       " 14,\n",
       " 16,\n",
       " 18,\n",
       " 20,\n",
       " 22,\n",
       " 24,\n",
       " 26,\n",
       " 28,\n",
       " 30,\n",
       " 32,\n",
       " 34,\n",
       " 36,\n",
       " 38,\n",
       " 40,\n",
       " 42,\n",
       " 44,\n",
       " 46,\n",
       " 48,\n",
       " 50,\n",
       " 52,\n",
       " 54,\n",
       " 56,\n",
       " 58,\n",
       " 60,\n",
       " 62,\n",
       " 64,\n",
       " 66,\n",
       " 68,\n",
       " 70,\n",
       " 72,\n",
       " 74,\n",
       " 76,\n",
       " 78,\n",
       " 80,\n",
       " 82,\n",
       " 84,\n",
       " 86,\n",
       " 88,\n",
       " 90,\n",
       " 92,\n",
       " 94,\n",
       " 96,\n",
       " 98)"
      ]
     },
     "execution_count": 307,
     "metadata": {},
     "output_type": "execute_result"
    }
   ],
   "source": [
    "data = tuple(range(2, 100, 2))\n",
    "( data )"
   ]
  }
 ],
 "metadata": {
  "kernelspec": {
   "display_name": "Python 3 (ipykernel)",
   "language": "python",
   "name": "python3"
  },
  "language_info": {
   "codemirror_mode": {
    "name": "ipython",
    "version": 3
   },
   "file_extension": ".py",
   "mimetype": "text/x-python",
   "name": "python",
   "nbconvert_exporter": "python",
   "pygments_lexer": "ipython3",
   "version": "3.11.7"
  }
 },
 "nbformat": 4,
 "nbformat_minor": 5
}
