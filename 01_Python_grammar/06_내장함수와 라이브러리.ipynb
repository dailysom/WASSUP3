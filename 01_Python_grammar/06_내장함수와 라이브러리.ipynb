{
 "cells": [
  {
   "cell_type": "markdown",
   "id": "3da5cf11-972e-427c-99c1-b4b6222f8217",
   "metadata": {},
   "source": [
    "# 내장 함수"
   ]
  },
  {
   "cell_type": "markdown",
   "id": "e560c06c-cf93-4130-83c9-b218705de078",
   "metadata": {},
   "source": [
    "# abs 절대값"
   ]
  },
  {
   "cell_type": "code",
   "execution_count": 1,
   "id": "39b26baf-6de7-450f-ba8a-2fb4ffd5c67e",
   "metadata": {},
   "outputs": [
    {
     "data": {
      "text/plain": [
       "(1, 1, 9)"
      ]
     },
     "execution_count": 1,
     "metadata": {},
     "output_type": "execute_result"
    }
   ],
   "source": [
    "abs(-1), abs(1), abs(-9)"
   ]
  },
  {
   "cell_type": "markdown",
   "id": "e93a0bc2-634e-44f7-96a2-9d4e16a044ca",
   "metadata": {},
   "source": [
    "# all 요소가 모두 참이면 참"
   ]
  },
  {
   "cell_type": "code",
   "execution_count": 2,
   "id": "32082c4f-7259-4122-8d46-bc26fb96401b",
   "metadata": {},
   "outputs": [
    {
     "data": {
      "text/plain": [
       "True"
      ]
     },
     "execution_count": 2,
     "metadata": {},
     "output_type": "execute_result"
    }
   ],
   "source": [
    "all([1,2,3])"
   ]
  },
  {
   "cell_type": "code",
   "execution_count": 3,
   "id": "0818ac2d-e38d-4ab3-99ca-e095f3b4e55d",
   "metadata": {},
   "outputs": [
    {
     "data": {
      "text/plain": [
       "False"
      ]
     },
     "execution_count": 3,
     "metadata": {},
     "output_type": "execute_result"
    }
   ],
   "source": [
    "all([1,2,3,0])"
   ]
  },
  {
   "cell_type": "code",
   "execution_count": 5,
   "id": "8d510677-1406-4582-bcad-ac4b916daa02",
   "metadata": {},
   "outputs": [
    {
     "data": {
      "text/plain": [
       "True"
      ]
     },
     "execution_count": 5,
     "metadata": {},
     "output_type": "execute_result"
    }
   ],
   "source": [
    "all([])"
   ]
  },
  {
   "cell_type": "markdown",
   "id": "11c4eb67-996c-430d-8f04-8f8c135c6139",
   "metadata": {},
   "source": [
    "# any 요소 중에 하나라도 참이 있으면 참"
   ]
  },
  {
   "cell_type": "code",
   "execution_count": 6,
   "id": "d69d2581-809d-4870-b7ce-7ba79303ceff",
   "metadata": {},
   "outputs": [
    {
     "data": {
      "text/plain": [
       "True"
      ]
     },
     "execution_count": 6,
     "metadata": {},
     "output_type": "execute_result"
    }
   ],
   "source": [
    "any([1,2,3,4,0])"
   ]
  },
  {
   "cell_type": "code",
   "execution_count": 7,
   "id": "6f11c4b8-98a3-4bce-84fa-4d59cb3b937d",
   "metadata": {},
   "outputs": [
    {
     "data": {
      "text/plain": [
       "False"
      ]
     },
     "execution_count": 7,
     "metadata": {},
     "output_type": "execute_result"
    }
   ],
   "source": [
    "any([0, \"\"])"
   ]
  },
  {
   "cell_type": "code",
   "execution_count": 8,
   "id": "25c4e157-6609-4b5c-bb17-9c669185bac4",
   "metadata": {},
   "outputs": [
    {
     "data": {
      "text/plain": [
       "False"
      ]
     },
     "execution_count": 8,
     "metadata": {},
     "output_type": "execute_result"
    }
   ],
   "source": [
    "any([])"
   ]
  },
  {
   "cell_type": "markdown",
   "id": "29e6e60d-3a17-4822-85e1-267c1726fb2b",
   "metadata": {},
   "source": [
    "# chr 유니코드 -> 문자"
   ]
  },
  {
   "cell_type": "code",
   "execution_count": 9,
   "id": "a823f648-1732-4dea-8c71-f60b6b7764a5",
   "metadata": {},
   "outputs": [
    {
     "data": {
      "text/plain": [
       "'a'"
      ]
     },
     "execution_count": 9,
     "metadata": {},
     "output_type": "execute_result"
    }
   ],
   "source": [
    "chr(97)"
   ]
  },
  {
   "cell_type": "code",
   "execution_count": 10,
   "id": "748741c7-b2cc-4efa-9fcf-70742d982f83",
   "metadata": {},
   "outputs": [
    {
     "data": {
      "text/plain": [
       "'鱀'"
      ]
     },
     "execution_count": 10,
     "metadata": {},
     "output_type": "execute_result"
    }
   ],
   "source": [
    "chr(40000)"
   ]
  },
  {
   "cell_type": "markdown",
   "id": "b63758fb-c0b9-4e4a-af24-7d307cdc807e",
   "metadata": {},
   "source": [
    "# dir 객체가 지닌 변수와 함수를 보여줌"
   ]
  },
  {
   "cell_type": "code",
   "execution_count": 12,
   "id": "2d85c94a-d1d4-4b12-8d52-1beed9381b2b",
   "metadata": {},
   "outputs": [
    {
     "data": {
      "text/plain": [
       "['__add__',\n",
       " '__class__',\n",
       " '__class_getitem__',\n",
       " '__contains__',\n",
       " '__delattr__',\n",
       " '__delitem__',\n",
       " '__dir__',\n",
       " '__doc__',\n",
       " '__eq__',\n",
       " '__format__',\n",
       " '__ge__',\n",
       " '__getattribute__',\n",
       " '__getitem__',\n",
       " '__getstate__',\n",
       " '__gt__',\n",
       " '__hash__',\n",
       " '__iadd__',\n",
       " '__imul__',\n",
       " '__init__',\n",
       " '__init_subclass__',\n",
       " '__iter__',\n",
       " '__le__',\n",
       " '__len__',\n",
       " '__lt__',\n",
       " '__mul__',\n",
       " '__ne__',\n",
       " '__new__',\n",
       " '__reduce__',\n",
       " '__reduce_ex__',\n",
       " '__repr__',\n",
       " '__reversed__',\n",
       " '__rmul__',\n",
       " '__setattr__',\n",
       " '__setitem__',\n",
       " '__sizeof__',\n",
       " '__str__',\n",
       " '__subclasshook__',\n",
       " 'append',\n",
       " 'clear',\n",
       " 'copy',\n",
       " 'count',\n",
       " 'extend',\n",
       " 'index',\n",
       " 'insert',\n",
       " 'pop',\n",
       " 'remove',\n",
       " 'reverse',\n",
       " 'sort']"
      ]
     },
     "execution_count": 12,
     "metadata": {},
     "output_type": "execute_result"
    }
   ],
   "source": [
    "dir(list)"
   ]
  },
  {
   "cell_type": "markdown",
   "id": "a95b5a77-617a-492d-874b-074df11609a1",
   "metadata": {},
   "source": [
    "# divmod a를 b로 나눈 몫과 나머지를 튜플로 반환"
   ]
  },
  {
   "cell_type": "code",
   "execution_count": 13,
   "id": "acddfd93-60cb-48d6-a334-6453f83665b8",
   "metadata": {},
   "outputs": [
    {
     "data": {
      "text/plain": [
       "(1, 1)"
      ]
     },
     "execution_count": 13,
     "metadata": {},
     "output_type": "execute_result"
    }
   ],
   "source": [
    "divmod(3,2)"
   ]
  },
  {
   "cell_type": "markdown",
   "id": "c53547fd-9243-4708-9006-9cfabde912dc",
   "metadata": {},
   "source": [
    "# enumerate 순서가 있는 데이터를 입력 받아 인덱스 값을 포함하는 enumerate 객체를 리턴"
   ]
  },
  {
   "cell_type": "code",
   "execution_count": 15,
   "id": "e90b304f-450d-4c21-bf87-b2e6201cc01f",
   "metadata": {},
   "outputs": [
    {
     "name": "stdout",
     "output_type": "stream",
     "text": [
      "0 body\n",
      "1 foo\n",
      "2 bar\n"
     ]
    }
   ],
   "source": [
    "for i, name in enumerate(['body', 'foo', 'bar']):\n",
    "     print(i, name)"
   ]
  },
  {
   "cell_type": "markdown",
   "id": "738c3e62-3b25-42fc-b3b1-bbefec39a30f",
   "metadata": {},
   "source": [
    "# eval 문자열로 구성된 표현식을 입력으로 받아 해당 문자열을 실행항 결과값을 리턴"
   ]
  },
  {
   "cell_type": "code",
   "execution_count": 17,
   "id": "d15b31c7-f17f-409c-be6d-a74ad988303a",
   "metadata": {},
   "outputs": [
    {
     "data": {
      "text/plain": [
       "3"
      ]
     },
     "execution_count": 17,
     "metadata": {},
     "output_type": "execute_result"
    }
   ],
   "source": [
    "eval('1+2')"
   ]
  },
  {
   "cell_type": "markdown",
   "id": "2db4b5f0-c9e5-4585-a7e3-465581536fbc",
   "metadata": {},
   "source": [
    "# filter 두 번째 인자인 리스트형의 데이터를 하나씩 첫 번째 인자인 함수로 넘겨 리턴값을 기중으로 true pass, false면 걸러냄"
   ]
  },
  {
   "cell_type": "code",
   "execution_count": 18,
   "id": "97bcb997-576d-443c-8bb2-f75deada11d8",
   "metadata": {},
   "outputs": [
    {
     "name": "stdout",
     "output_type": "stream",
     "text": [
      "[1, 2, 6]\n"
     ]
    }
   ],
   "source": [
    "def positive(l): \n",
    "    result = [] \n",
    "    for i in l: \n",
    "        if i > 0: \n",
    "            result.append(i) \n",
    "    return result\n",
    "\n",
    "print(positive([1,-3,2,0,-5,6]))"
   ]
  },
  {
   "cell_type": "code",
   "execution_count": 20,
   "id": "e2277af2-b364-4891-b285-a3eda48f222f",
   "metadata": {},
   "outputs": [
    {
     "name": "stdout",
     "output_type": "stream",
     "text": [
      "[1, 2, 6]\n"
     ]
    }
   ],
   "source": [
    "def positive(x):\n",
    "    return x > 0\n",
    "\n",
    "print(list(filter(positive, [1, -3, 2, 0, -5, 6])))"
   ]
  },
  {
   "cell_type": "code",
   "execution_count": 24,
   "id": "44757556-57dc-4b9b-ad63-0c2f3c7a6b6c",
   "metadata": {},
   "outputs": [
    {
     "data": {
      "text/plain": [
       "[1, 2, 6]"
      ]
     },
     "execution_count": 24,
     "metadata": {},
     "output_type": "execute_result"
    }
   ],
   "source": [
    "list(filter(lambda x: x > 0 , [1, -3, 2, 0, -5, 6]))"
   ]
  },
  {
   "cell_type": "markdown",
   "id": "0b9a62d4-7f8b-404d-a552-caa7c55437fc",
   "metadata": {},
   "source": [
    "# int 정수형으로 형변환"
   ]
  },
  {
   "cell_type": "code",
   "execution_count": 26,
   "id": "01bc94f8-7fe0-4716-b9b5-6eca14abe976",
   "metadata": {},
   "outputs": [
    {
     "data": {
      "text/plain": [
       "3"
      ]
     },
     "execution_count": 26,
     "metadata": {},
     "output_type": "execute_result"
    }
   ],
   "source": [
    "int('3')"
   ]
  },
  {
   "cell_type": "code",
   "execution_count": 27,
   "id": "b30f8365-3f13-4546-bca8-cdcc4e571c10",
   "metadata": {},
   "outputs": [
    {
     "data": {
      "text/plain": [
       "3"
      ]
     },
     "execution_count": 27,
     "metadata": {},
     "output_type": "execute_result"
    }
   ],
   "source": [
    "int(3.14)"
   ]
  },
  {
   "cell_type": "markdown",
   "id": "6745d9a0-56fd-4339-9b91-01abf94c8b8d",
   "metadata": {},
   "source": [
    "int('11', 2)"
   ]
  },
  {
   "cell_type": "markdown",
   "id": "b196814f-1a10-47b5-89e3-9992fc7646a7",
   "metadata": {},
   "source": [
    "# instance 입력으로 받은 객체가 그 클래스의 인스턴스인지를 판단하여 참이면 True, 거짓이면 False"
   ]
  },
  {
   "cell_type": "code",
   "execution_count": 31,
   "id": "8ef9d9df-44c6-4a27-a4ee-bc5756c7e24f",
   "metadata": {},
   "outputs": [
    {
     "data": {
      "text/plain": [
       "True"
      ]
     },
     "execution_count": 31,
     "metadata": {},
     "output_type": "execute_result"
    }
   ],
   "source": [
    "class Person: pass\n",
    "\n",
    "a = Person()\n",
    "isinstance(a, Person)"
   ]
  },
  {
   "cell_type": "code",
   "execution_count": 32,
   "id": "e507754a-39b6-44e3-9973-b7c05392983e",
   "metadata": {},
   "outputs": [
    {
     "data": {
      "text/plain": [
       "False"
      ]
     },
     "execution_count": 32,
     "metadata": {},
     "output_type": "execute_result"
    }
   ],
   "source": [
    "b = 1\n",
    "isinstance(b, Person)"
   ]
  },
  {
   "cell_type": "markdown",
   "id": "50f11610-05c6-45b2-a8f4-3fb77f29c0f1",
   "metadata": {},
   "source": [
    "# list 반복 가능한 데이터를 받았을 때, 리스트로 형변환"
   ]
  },
  {
   "cell_type": "code",
   "execution_count": 36,
   "id": "e62efcfd-6818-4c6b-a7bf-df1cfb4769dd",
   "metadata": {},
   "outputs": [
    {
     "data": {
      "text/plain": [
       "['a', 's', 'd', 'f', 'g']"
      ]
     },
     "execution_count": 36,
     "metadata": {},
     "output_type": "execute_result"
    }
   ],
   "source": [
    "list(\"asdfg\")"
   ]
  },
  {
   "cell_type": "code",
   "execution_count": 38,
   "id": "e011e0e4-da73-4fec-9939-364a987c7269",
   "metadata": {},
   "outputs": [
    {
     "data": {
      "text/plain": [
       "[1, 2, 3]"
      ]
     },
     "execution_count": 38,
     "metadata": {},
     "output_type": "execute_result"
    }
   ],
   "source": [
    "list((1,2,3))"
   ]
  },
  {
   "cell_type": "markdown",
   "id": "748a0ca6-da34-48ac-8fe1-588b99a57eb2",
   "metadata": {},
   "source": [
    "# map map은 입력받은 데이터의 각 요소에 함수 f를 적용한 결과를 리턴하는 함수"
   ]
  },
  {
   "cell_type": "code",
   "execution_count": 39,
   "id": "09b5b18f-3894-4a23-8f60-29c6570791f1",
   "metadata": {},
   "outputs": [
    {
     "data": {
      "text/plain": [
       "[2, 4, 6, 8]"
      ]
     },
     "execution_count": 39,
     "metadata": {},
     "output_type": "execute_result"
    }
   ],
   "source": [
    "def two_times(x): \n",
    "     return x*2\n",
    "\n",
    "list(map(two_times, [1, 2, 3, 4]))"
   ]
  },
  {
   "cell_type": "code",
   "execution_count": 40,
   "id": "27ec8e38-5951-487a-8bde-28a8abd6da9e",
   "metadata": {},
   "outputs": [
    {
     "data": {
      "text/plain": [
       "[2, 4, 6, 8]"
      ]
     },
     "execution_count": 40,
     "metadata": {},
     "output_type": "execute_result"
    }
   ],
   "source": [
    "list(map(lambda x : x*2, [1, 2, 3, 4]))"
   ]
  },
  {
   "cell_type": "markdown",
   "id": "da1a7cca-08e4-4a05-83fc-e8d5ae253b05",
   "metadata": {},
   "source": [
    "# max 인수로 반복 가능한 데이터를 입력받아 그 최댓값을 리턴하는 함수"
   ]
  },
  {
   "cell_type": "code",
   "execution_count": 41,
   "id": "b2c45ee1-1f63-4c6f-9bf1-c802fac8e22b",
   "metadata": {},
   "outputs": [
    {
     "data": {
      "text/plain": [
       "3"
      ]
     },
     "execution_count": 41,
     "metadata": {},
     "output_type": "execute_result"
    }
   ],
   "source": [
    "max([1, 2, 3])"
   ]
  },
  {
   "cell_type": "markdown",
   "id": "a80c42fd-bbad-4601-9166-68164f38f7dc",
   "metadata": {},
   "source": [
    "# min 인수로 반복 가능한 데이터를 입력받아 그 최솟값을 리턴하는 함수"
   ]
  },
  {
   "cell_type": "code",
   "execution_count": 43,
   "id": "c1db69ba-307f-4edb-b4d7-f76fb5bab097",
   "metadata": {},
   "outputs": [
    {
     "data": {
      "text/plain": [
       "1"
      ]
     },
     "execution_count": 43,
     "metadata": {},
     "output_type": "execute_result"
    }
   ],
   "source": [
    "min([1, 2, 3])"
   ]
  },
  {
   "cell_type": "markdown",
   "id": "f53e101b-2bb4-46f1-895c-9c2c78b7122a",
   "metadata": {},
   "source": [
    "# ord 문자 -> 유니코드"
   ]
  },
  {
   "cell_type": "code",
   "execution_count": 44,
   "id": "26799229-267b-46b6-9150-3bf20555c033",
   "metadata": {},
   "outputs": [
    {
     "data": {
      "text/plain": [
       "97"
      ]
     },
     "execution_count": 44,
     "metadata": {},
     "output_type": "execute_result"
    }
   ],
   "source": [
    "ord('a')"
   ]
  },
  {
   "cell_type": "code",
   "execution_count": null,
   "id": "3b57fe1e-ca7e-405b-9b23-8747d327d7ce",
   "metadata": {},
   "outputs": [],
   "source": [
    "# range 해당 범위에 따른 반복가능한 리스트 리턴"
   ]
  },
  {
   "cell_type": "code",
   "execution_count": 45,
   "id": "2c231d28-d582-457e-b7f2-9c7f9ae7d9e1",
   "metadata": {},
   "outputs": [
    {
     "data": {
      "text/plain": [
       "range(1, 3)"
      ]
     },
     "execution_count": 45,
     "metadata": {},
     "output_type": "execute_result"
    }
   ],
   "source": [
    "range(1, 3)"
   ]
  },
  {
   "cell_type": "code",
   "execution_count": 47,
   "id": "6f9763f2-2c46-48a7-b9bd-a1131eee43d5",
   "metadata": {},
   "outputs": [
    {
     "data": {
      "text/plain": [
       "[1, 2]"
      ]
     },
     "execution_count": 47,
     "metadata": {},
     "output_type": "execute_result"
    }
   ],
   "source": [
    "list(range(1, 3))"
   ]
  },
  {
   "cell_type": "code",
   "execution_count": 48,
   "id": "027206e9-5f72-4361-94ca-dd8b5573390b",
   "metadata": {},
   "outputs": [
    {
     "data": {
      "text/plain": [
       "[1, 3, 5, 7, 9]"
      ]
     },
     "execution_count": 48,
     "metadata": {},
     "output_type": "execute_result"
    }
   ],
   "source": [
    "list(range(1, 10,2))"
   ]
  },
  {
   "cell_type": "markdown",
   "id": "975c3a44-015a-4a09-a006-63e392a7724b",
   "metadata": {},
   "source": [
    "# round 지정된 소술점 자릿수에서 반올림, 지정하지 않으면 소숫점 첫 번째 자리에서 반올림"
   ]
  },
  {
   "cell_type": "code",
   "execution_count": 50,
   "id": "e6659b1b-0375-4b42-9b30-34340df1ff0e",
   "metadata": {},
   "outputs": [
    {
     "data": {
      "text/plain": [
       "1"
      ]
     },
     "execution_count": 50,
     "metadata": {},
     "output_type": "execute_result"
    }
   ],
   "source": [
    "round(1.2)"
   ]
  },
  {
   "cell_type": "code",
   "execution_count": 51,
   "id": "b198f5ec-23b2-426d-ba42-f143e38fefc8",
   "metadata": {},
   "outputs": [
    {
     "data": {
      "text/plain": [
       "1.212"
      ]
     },
     "execution_count": 51,
     "metadata": {},
     "output_type": "execute_result"
    }
   ],
   "source": [
    "round(1.21234, 3)"
   ]
  },
  {
   "cell_type": "markdown",
   "id": "f2ca9cd9-a4b8-41db-a7b0-222bc860821e",
   "metadata": {},
   "source": [
    "# sorted 입력 데이터를 정렬한 후 그 결과를 리스트로 리턴"
   ]
  },
  {
   "cell_type": "code",
   "execution_count": 52,
   "id": "c2f1a4d3-b238-4a7f-abb8-1f5380d8f1ca",
   "metadata": {},
   "outputs": [
    {
     "data": {
      "text/plain": [
       "[1, 2, 3]"
      ]
     },
     "execution_count": 52,
     "metadata": {},
     "output_type": "execute_result"
    }
   ],
   "source": [
    "sorted([3, 1, 2])"
   ]
  },
  {
   "cell_type": "code",
   "execution_count": 53,
   "id": "55f3f940-79ae-4684-954f-8fcf7f688c83",
   "metadata": {},
   "outputs": [
    {
     "data": {
      "text/plain": [
       "['a', 'b', 'c']"
      ]
     },
     "execution_count": 53,
     "metadata": {},
     "output_type": "execute_result"
    }
   ],
   "source": [
    "sorted(['a', 'c', 'b'])"
   ]
  },
  {
   "cell_type": "code",
   "execution_count": 54,
   "id": "16157694-7020-4f7d-8d19-7a86241026e0",
   "metadata": {},
   "outputs": [
    {
     "data": {
      "text/plain": [
       "['e', 'o', 'r', 'z']"
      ]
     },
     "execution_count": 54,
     "metadata": {},
     "output_type": "execute_result"
    }
   ],
   "source": [
    "sorted(\"zero\")"
   ]
  },
  {
   "cell_type": "markdown",
   "id": "cc720b39-2995-42ac-9cce-71808b1ed26c",
   "metadata": {},
   "source": [
    "# zip 동일한 개수로 이루어진 데이터들을 묶어서 리턴하는 함수"
   ]
  },
  {
   "cell_type": "code",
   "execution_count": 55,
   "id": "f9ccccf1-de99-47f4-8596-cf94a399d0d5",
   "metadata": {},
   "outputs": [
    {
     "data": {
      "text/plain": [
       "[(1, 4), (2, 5), (3, 6)]"
      ]
     },
     "execution_count": 55,
     "metadata": {},
     "output_type": "execute_result"
    }
   ],
   "source": [
    "list(zip([1, 2, 3], [4, 5, 6]))"
   ]
  },
  {
   "cell_type": "code",
   "execution_count": 56,
   "id": "5423799e-faf1-46e3-9eef-421a6d23bdc8",
   "metadata": {},
   "outputs": [
    {
     "data": {
      "text/plain": [
       "[(1, 4, 7), (2, 5, 8), (3, 6, 9)]"
      ]
     },
     "execution_count": 56,
     "metadata": {},
     "output_type": "execute_result"
    }
   ],
   "source": [
    "list(zip([1, 2, 3], [4, 5, 6], [7, 8, 9]))"
   ]
  },
  {
   "cell_type": "code",
   "execution_count": 57,
   "id": "ca66cb3f-6612-4579-b068-e3658c304ecf",
   "metadata": {},
   "outputs": [
    {
     "data": {
      "text/plain": [
       "[('a', 'd'), ('b', 'e'), ('c', 'f')]"
      ]
     },
     "execution_count": 57,
     "metadata": {},
     "output_type": "execute_result"
    }
   ],
   "source": [
    "list(zip(\"abc\", \"def\"))"
   ]
  },
  {
   "cell_type": "markdown",
   "id": "d97194a1-dfe8-4364-8e05-458f9c17d48e",
   "metadata": {},
   "source": [
    "# datetime.date 연, 월, 일로 날짜를 표현할 때 사용하는 함수"
   ]
  },
  {
   "cell_type": "code",
   "execution_count": 58,
   "id": "1973eb59-21d6-49a1-bec1-1abeffc37e1c",
   "metadata": {},
   "outputs": [],
   "source": [
    "import datetime"
   ]
  },
  {
   "cell_type": "code",
   "execution_count": 62,
   "id": "739d9aa8-64b7-4840-80c8-b0bf3f652572",
   "metadata": {},
   "outputs": [
    {
     "data": {
      "text/plain": [
       "(datetime.date(2024, 5, 2), datetime.date(2024, 6, 18))"
      ]
     },
     "execution_count": 62,
     "metadata": {},
     "output_type": "execute_result"
    }
   ],
   "source": [
    "day1 = datetime.date(2024, 5, 2)\n",
    "day2 = datetime.date(2024, 6, 18)\n",
    "\n",
    "day1, day2"
   ]
  },
  {
   "cell_type": "code",
   "execution_count": 63,
   "id": "c2967cdb-8956-4ac1-a55b-8fe96397e5ce",
   "metadata": {},
   "outputs": [
    {
     "data": {
      "text/plain": [
       "47"
      ]
     },
     "execution_count": 63,
     "metadata": {},
     "output_type": "execute_result"
    }
   ],
   "source": [
    "diff = day2 - day1\n",
    "diff.days"
   ]
  },
  {
   "cell_type": "code",
   "execution_count": 66,
   "id": "6387e008-7767-43d8-8eca-3ec447b5d08e",
   "metadata": {},
   "outputs": [
    {
     "data": {
      "text/plain": [
       "1"
      ]
     },
     "execution_count": 66,
     "metadata": {},
     "output_type": "execute_result"
    }
   ],
   "source": [
    "day = datetime.date(2024, 6, 18)\n",
    "day.weekday()"
   ]
  },
  {
   "cell_type": "code",
   "execution_count": 67,
   "id": "856cf3c3-bb13-4467-9b38-52252288d963",
   "metadata": {},
   "outputs": [
    {
     "data": {
      "text/plain": [
       "2"
      ]
     },
     "execution_count": 67,
     "metadata": {},
     "output_type": "execute_result"
    }
   ],
   "source": [
    "day.isoweekday()\n"
   ]
  },
  {
   "cell_type": "markdown",
   "id": "157b0b0a-6d6f-4342-a4f6-d5297172cf18",
   "metadata": {},
   "source": [
    "# time 시간과 관련된 모듈"
   ]
  },
  {
   "cell_type": "code",
   "execution_count": 68,
   "id": "dee53b94-fd0a-40f1-9858-9ea347982fdd",
   "metadata": {},
   "outputs": [
    {
     "data": {
      "text/plain": [
       "1718691013.19354"
      ]
     },
     "execution_count": 68,
     "metadata": {},
     "output_type": "execute_result"
    }
   ],
   "source": [
    "import time\n",
    "time.time()"
   ]
  },
  {
   "cell_type": "code",
   "execution_count": 69,
   "id": "66761cfb-ee73-4aa5-8901-13d0bc51fbf1",
   "metadata": {},
   "outputs": [
    {
     "data": {
      "text/plain": [
       "time.struct_time(tm_year=2024, tm_mon=6, tm_mday=18, tm_hour=15, tm_min=12, tm_sec=6, tm_wday=1, tm_yday=170, tm_isdst=0)"
      ]
     },
     "execution_count": 69,
     "metadata": {},
     "output_type": "execute_result"
    }
   ],
   "source": [
    "time.localtime(time.time())"
   ]
  },
  {
   "cell_type": "code",
   "execution_count": 70,
   "id": "57f845bf-c527-4d81-a06a-36c26946c8c2",
   "metadata": {},
   "outputs": [
    {
     "data": {
      "text/plain": [
       "'Tue Jun 18 15:12:12 2024'"
      ]
     },
     "execution_count": 70,
     "metadata": {},
     "output_type": "execute_result"
    }
   ],
   "source": [
    "time.asctime(time.localtime(time.time()))"
   ]
  },
  {
   "cell_type": "code",
   "execution_count": 71,
   "id": "a13438cd-3682-45cd-82a1-eb1098c38187",
   "metadata": {},
   "outputs": [
    {
     "data": {
      "text/plain": [
       "'Tue Jun 18 15:12:20 2024'"
      ]
     },
     "execution_count": 71,
     "metadata": {},
     "output_type": "execute_result"
    }
   ],
   "source": [
    "time.ctime()"
   ]
  },
  {
   "cell_type": "code",
   "execution_count": 72,
   "id": "01a29a29-192d-4e26-aeb1-0c10fb2282d6",
   "metadata": {},
   "outputs": [
    {
     "data": {
      "text/plain": [
       "'06/18/24'"
      ]
     },
     "execution_count": 72,
     "metadata": {},
     "output_type": "execute_result"
    }
   ],
   "source": [
    "time.strftime('%x', time.localtime(time.time()))"
   ]
  },
  {
   "cell_type": "code",
   "execution_count": 73,
   "id": "319890ac-8793-4834-a752-4fe3a20ccc1f",
   "metadata": {},
   "outputs": [
    {
     "data": {
      "text/plain": [
       "'Tue Jun 18 15:13:45 2024'"
      ]
     },
     "execution_count": 73,
     "metadata": {},
     "output_type": "execute_result"
    }
   ],
   "source": [
    "time.strftime('%c', time.localtime(time.time()))"
   ]
  },
  {
   "cell_type": "code",
   "execution_count": 74,
   "id": "40dae44c-701b-468b-80a4-685dacacfe7b",
   "metadata": {},
   "outputs": [
    {
     "name": "stdout",
     "output_type": "stream",
     "text": [
      "0\n",
      "1\n",
      "2\n",
      "3\n",
      "4\n",
      "5\n",
      "6\n",
      "7\n",
      "8\n",
      "9\n"
     ]
    }
   ],
   "source": [
    "for i in range(10):\n",
    "    print(i)\n",
    "    time.sleep(1)"
   ]
  },
  {
   "cell_type": "markdown",
   "id": "85d675c5-2d53-4749-b7c7-710f7eb0ad7e",
   "metadata": {},
   "source": [
    "# random 난수(규칙이 없는 임의의 수)를 발생시키는 모듈"
   ]
  },
  {
   "cell_type": "code",
   "execution_count": 75,
   "id": "06d80411-5262-4b29-83a1-95dea8cd384c",
   "metadata": {},
   "outputs": [],
   "source": [
    "import random"
   ]
  },
  {
   "cell_type": "code",
   "execution_count": 84,
   "id": "5fe6c98e-c419-498b-8923-d2c45a241f1d",
   "metadata": {},
   "outputs": [
    {
     "data": {
      "text/plain": [
       "0.419933633513487"
      ]
     },
     "execution_count": 84,
     "metadata": {},
     "output_type": "execute_result"
    }
   ],
   "source": [
    "random.random()"
   ]
  },
  {
   "cell_type": "code",
   "execution_count": 85,
   "id": "32eb12ae-de6c-4562-955b-78809535a41f",
   "metadata": {},
   "outputs": [
    {
     "data": {
      "text/plain": [
       "3"
      ]
     },
     "execution_count": 85,
     "metadata": {},
     "output_type": "execute_result"
    }
   ],
   "source": [
    "random.randint(1, 10)"
   ]
  },
  {
   "cell_type": "code",
   "execution_count": 87,
   "id": "db926305-a988-4417-bc43-bc4eb2f16fa5",
   "metadata": {},
   "outputs": [
    {
     "data": {
      "text/plain": [
       "[11, 34, 7, 15, 38, 33]"
      ]
     },
     "execution_count": 87,
     "metadata": {},
     "output_type": "execute_result"
    }
   ],
   "source": [
    "import random\n",
    "로또번호 = []\n",
    "while len(로또번호) < 6:\n",
    "    번호 = random.randint(1, 45)\n",
    "    if 번호 not in 로또번호:\n",
    "        로또번호.append(번호)\n",
    "        \n",
    "로또번호"
   ]
  },
  {
   "cell_type": "code",
   "execution_count": 89,
   "id": "da4fb5a6-0cbf-4475-b8de-e7f726263c3b",
   "metadata": {},
   "outputs": [
    {
     "name": "stdout",
     "output_type": "stream",
     "text": [
      "5\n",
      "4\n",
      "2\n",
      "1\n",
      "3\n"
     ]
    }
   ],
   "source": [
    "import random\n",
    "def random_pop(data):\n",
    "    number = random.randint(0, len(data)-1)\n",
    "    return data.pop(number)\n",
    "\n",
    "if __name__ == \"__main__\":\n",
    "    data = [1, 2, 3, 4, 5]\n",
    "    while data: \n",
    "        print(random_pop(data))"
   ]
  },
  {
   "cell_type": "code",
   "execution_count": 137,
   "id": "8b731fa0-16ff-467a-80a1-b97cccdb5bcf",
   "metadata": {},
   "outputs": [
    {
     "data": {
      "text/plain": [
       "[24, 36, 3, 27, 20, 18]"
      ]
     },
     "execution_count": 137,
     "metadata": {},
     "output_type": "execute_result"
    }
   ],
   "source": [
    "def random_pop(data):\n",
    "    number = random.choice(data)\n",
    "    data.remove(number)\n",
    "    return number\n",
    "\n",
    "import random\n",
    "data = range(1, 46)\n",
    "random.sample(data, 6)"
   ]
  },
  {
   "cell_type": "markdown",
   "id": "b57e1267-1cb0-4e87-ace3-3489f15f9db0",
   "metadata": {},
   "source": [
    "# glob 특정 디렉터리에 있는 파일 이름 모두를 알아야 할 때"
   ]
  },
  {
   "cell_type": "code",
   "execution_count": 173,
   "id": "e020c0a6-b8b4-4f77-804c-4b15a231d379",
   "metadata": {},
   "outputs": [
    {
     "name": "stdout",
     "output_type": "stream",
     "text": [
      "01_DatatypeVariable_practice\n",
      "01_자료형과 변수\n",
      "02_Control_Statement\n",
      "02_Control_Statement_Practice\n",
      "03_Coding_Practice_PhoneBookProgram\n",
      "04_Function\n",
      "04_Function__IO_Practice\n",
      "04_IO\n",
      "05_Class_Module_Practice\n",
      "05_Class_Module_Practice_Answer\n",
      "05_클레스와 예외처리\n",
      "06_내장함수와 라이브러리\n",
      "20240611_과제\n",
      "20240612_과제\n",
      "20240613_과제\n",
      "20240614_과제\n",
      "20240617_과제\n"
     ]
    }
   ],
   "source": [
    "import glob\n",
    "list = []\n",
    "list = []\n",
    "for i in glob.glob(\"C:\\\\workspace\\\\wassup3\\\\01_Python_grammer\\\\*.ipynb\"):\n",
    "    print(i.split(\"\\\\\", 5)[4].split(\".\")[0])"
   ]
  },
  {
   "cell_type": "markdown",
   "id": "567648c8-7f47-4d6d-b473-2de5ca8dbe10",
   "metadata": {},
   "source": [
    "# os  OS 자원을 제어할 수 있게 해 주는 모듈"
   ]
  },
  {
   "cell_type": "code",
   "execution_count": 174,
   "id": "baf97eb3-bfc0-45b9-a230-8f8083083d92",
   "metadata": {},
   "outputs": [
    {
     "data": {
      "text/plain": [
       "environ{'ACSETUPSVCPORT': '23210',\n",
       "        'ACSVCPORT': '17532',\n",
       "        'ALLUSERSPROFILE': 'C:\\\\ProgramData',\n",
       "        'AMDRMPATH': 'C:\\\\Program Files\\\\AMD\\\\RyzenMaster\\\\',\n",
       "        'APPDATA': 'C:\\\\Users\\\\gkdme\\\\AppData\\\\Roaming',\n",
       "        'COMMONPROGRAMFILES': 'C:\\\\Program Files\\\\Common Files',\n",
       "        'COMMONPROGRAMFILES(X86)': 'C:\\\\Program Files (x86)\\\\Common Files',\n",
       "        'COMMONPROGRAMW6432': 'C:\\\\Program Files\\\\Common Files',\n",
       "        'COMPUTERNAME': 'HA',\n",
       "        'COMSPEC': 'C:\\\\Windows\\\\system32\\\\cmd.exe',\n",
       "        'DRIVERDATA': 'C:\\\\Windows\\\\System32\\\\Drivers\\\\DriverData',\n",
       "        'EFC_3876': '1',\n",
       "        'FPS_BROWSER_APP_PROFILE_STRING': 'Internet Explorer',\n",
       "        'FPS_BROWSER_USER_PROFILE_STRING': 'Default',\n",
       "        'HOMEDRIVE': 'C:',\n",
       "        'HOMEPATH': '\\\\Users\\\\gkdme',\n",
       "        'LOCALAPPDATA': 'C:\\\\Users\\\\gkdme\\\\AppData\\\\Local',\n",
       "        'LOGONSERVER': '\\\\\\\\HA',\n",
       "        'NUMBER_OF_PROCESSORS': '16',\n",
       "        'ONEDRIVE': 'C:\\\\Users\\\\gkdme\\\\OneDrive',\n",
       "        'OS': 'Windows_NT',\n",
       "        'PATH': 'C:\\\\Users\\\\gkdme\\\\anaconda3;C:\\\\Users\\\\gkdme\\\\anaconda3\\\\Library\\\\mingw-w64\\\\bin;C:\\\\Users\\\\gkdme\\\\anaconda3\\\\Library\\\\usr\\\\bin;C:\\\\Users\\\\gkdme\\\\anaconda3\\\\Library\\\\bin;C:\\\\Users\\\\gkdme\\\\anaconda3\\\\Scripts;C:\\\\Windows\\\\system32;C:\\\\Windows;C:\\\\Windows\\\\System32\\\\Wbem;C:\\\\Windows\\\\System32\\\\WindowsPowerShell\\\\v1.0\\\\;C:\\\\Windows\\\\System32\\\\OpenSSH\\\\;C:\\\\Program Files (x86)\\\\NVIDIA Corporation\\\\PhysX\\\\Common;C:\\\\Program Files\\\\Bandizip\\\\;C:\\\\Program Files\\\\Microsoft SQL Server\\\\Client SDK\\\\ODBC\\\\170\\\\Tools\\\\Binn\\\\;C:\\\\Program Files\\\\dotnet\\\\;C:\\\\Program Files (x86)\\\\Windows Kits\\\\10\\\\Windows Performance Toolkit\\\\;C:\\\\Program Files\\\\MySQL\\\\MySQL Server 8.0\\\\bin;C:\\\\Program Files\\\\Git\\\\cmd;C:\\\\Users\\\\gkdme\\\\anaconda3;C:\\\\Users\\\\gkdme\\\\anaconda3\\\\Library\\\\mingw-w64\\\\bin;C:\\\\Users\\\\gkdme\\\\anaconda3\\\\Library\\\\usr\\\\bin;C:\\\\Users\\\\gkdme\\\\anaconda3\\\\Library\\\\bin;C:\\\\Users\\\\gkdme\\\\anaconda3\\\\Scripts;C:\\\\Users\\\\gkdme\\\\AppData\\\\Local\\\\Microsoft\\\\WindowsApps;C:\\\\Users\\\\gkdme\\\\.dotnet\\\\tools',\n",
       "        'PATHEXT': '.COM;.EXE;.BAT;.CMD;.VBS;.VBE;.JS;.JSE;.WSF;.WSH;.MSC',\n",
       "        'PROCESSOR_ARCHITECTURE': 'AMD64',\n",
       "        'PROCESSOR_IDENTIFIER': 'AMD64 Family 23 Model 113 Stepping 0, AuthenticAMD',\n",
       "        'PROCESSOR_LEVEL': '23',\n",
       "        'PROCESSOR_REVISION': '7100',\n",
       "        'PROGRAMDATA': 'C:\\\\ProgramData',\n",
       "        'PROGRAMFILES': 'C:\\\\Program Files',\n",
       "        'PROGRAMFILES(X86)': 'C:\\\\Program Files (x86)',\n",
       "        'PROGRAMW6432': 'C:\\\\Program Files',\n",
       "        'PSMODULEPATH': 'C:\\\\Program Files\\\\WindowsPowerShell\\\\Modules;C:\\\\Windows\\\\system32\\\\WindowsPowerShell\\\\v1.0\\\\Modules',\n",
       "        'PUBLIC': 'C:\\\\Users\\\\Public',\n",
       "        'RLSSVCPORT': '22112',\n",
       "        'SESSIONNAME': 'Console',\n",
       "        'SYSTEMDRIVE': 'C:',\n",
       "        'SYSTEMROOT': 'C:\\\\Windows',\n",
       "        'TEMP': 'C:\\\\Users\\\\gkdme\\\\AppData\\\\Local\\\\Temp',\n",
       "        'TMP': 'C:\\\\Users\\\\gkdme\\\\AppData\\\\Local\\\\Temp',\n",
       "        'USERDOMAIN': 'HA',\n",
       "        'USERDOMAIN_ROAMINGPROFILE': 'HA',\n",
       "        'USERNAME': 'gkdme',\n",
       "        'USERPROFILE': 'C:\\\\Users\\\\gkdme',\n",
       "        'WINDIR': 'C:\\\\Windows',\n",
       "        'CONDA_PREFIX': 'C:\\\\Users\\\\gkdme\\\\anaconda3',\n",
       "        'PYDEVD_USE_FRAME_EVAL': 'NO',\n",
       "        'PYTHONUNBUFFERED': '1',\n",
       "        'JPY_SESSION_NAME': 'C:\\\\workspace\\\\wassup3\\\\01_Python_grammer\\\\Untitled.ipynb',\n",
       "        'JPY_INTERRUPT_EVENT': '4936',\n",
       "        'IPY_INTERRUPT_EVENT': '4936',\n",
       "        'JPY_PARENT_PID': '4808',\n",
       "        'TERM': 'xterm-color',\n",
       "        'CLICOLOR': '1',\n",
       "        'FORCE_COLOR': '1',\n",
       "        'CLICOLOR_FORCE': '1',\n",
       "        'PAGER': 'cat',\n",
       "        'GIT_PAGER': 'cat',\n",
       "        'MPLBACKEND': 'module://matplotlib_inline.backend_inline'}"
      ]
     },
     "execution_count": 174,
     "metadata": {},
     "output_type": "execute_result"
    }
   ],
   "source": [
    "import os\n",
    "os.environ"
   ]
  },
  {
   "cell_type": "code",
   "execution_count": 175,
   "id": "1406ff69-8274-4329-8e2f-b1a18b12bd87",
   "metadata": {},
   "outputs": [
    {
     "data": {
      "text/plain": [
       "'C:\\\\Users\\\\gkdme\\\\anaconda3;C:\\\\Users\\\\gkdme\\\\anaconda3\\\\Library\\\\mingw-w64\\\\bin;C:\\\\Users\\\\gkdme\\\\anaconda3\\\\Library\\\\usr\\\\bin;C:\\\\Users\\\\gkdme\\\\anaconda3\\\\Library\\\\bin;C:\\\\Users\\\\gkdme\\\\anaconda3\\\\Scripts;C:\\\\Windows\\\\system32;C:\\\\Windows;C:\\\\Windows\\\\System32\\\\Wbem;C:\\\\Windows\\\\System32\\\\WindowsPowerShell\\\\v1.0\\\\;C:\\\\Windows\\\\System32\\\\OpenSSH\\\\;C:\\\\Program Files (x86)\\\\NVIDIA Corporation\\\\PhysX\\\\Common;C:\\\\Program Files\\\\Bandizip\\\\;C:\\\\Program Files\\\\Microsoft SQL Server\\\\Client SDK\\\\ODBC\\\\170\\\\Tools\\\\Binn\\\\;C:\\\\Program Files\\\\dotnet\\\\;C:\\\\Program Files (x86)\\\\Windows Kits\\\\10\\\\Windows Performance Toolkit\\\\;C:\\\\Program Files\\\\MySQL\\\\MySQL Server 8.0\\\\bin;C:\\\\Program Files\\\\Git\\\\cmd;C:\\\\Users\\\\gkdme\\\\anaconda3;C:\\\\Users\\\\gkdme\\\\anaconda3\\\\Library\\\\mingw-w64\\\\bin;C:\\\\Users\\\\gkdme\\\\anaconda3\\\\Library\\\\usr\\\\bin;C:\\\\Users\\\\gkdme\\\\anaconda3\\\\Library\\\\bin;C:\\\\Users\\\\gkdme\\\\anaconda3\\\\Scripts;C:\\\\Users\\\\gkdme\\\\AppData\\\\Local\\\\Microsoft\\\\WindowsApps;C:\\\\Users\\\\gkdme\\\\.dotnet\\\\tools'"
      ]
     },
     "execution_count": 175,
     "metadata": {},
     "output_type": "execute_result"
    }
   ],
   "source": [
    "os.environ['PATH']"
   ]
  },
  {
   "cell_type": "code",
   "execution_count": 182,
   "id": "7719c8b7-26cc-4461-a4ba-9bf7d54303cb",
   "metadata": {},
   "outputs": [
    {
     "data": {
      "text/plain": [
       "'C:\\\\workspace\\\\wassup3\\\\01_Python_grammer'"
      ]
     },
     "execution_count": 182,
     "metadata": {},
     "output_type": "execute_result"
    }
   ],
   "source": [
    "os.chdir(\"C:\\WINDOWS\")\n",
    "os.chdir(\"C:\\\\workspace\\\\wassup3\\\\01_Python_grammer\")\n",
    "os.getcwd()"
   ]
  },
  {
   "cell_type": "code",
   "execution_count": 179,
   "id": "142bbf90-fa5b-49f1-a77a-05546e51e84b",
   "metadata": {},
   "outputs": [
    {
     "name": "stdout",
     "output_type": "stream",
     "text": [
      " C 드라이브의 볼륨에는 이름이 없습니다.\n",
      " 볼륨 일련 번호: 9E65-E401\n",
      "\n",
      " C:\\Windows 디렉터리\n",
      "\n",
      "2024-06-13  오후 10:50    <DIR>          .\n",
      "2017-06-14  오전 03:13            51,168 AddCat.exe\n",
      "2023-09-18  오전 01:41    <DIR>          appcompat\n",
      "2024-06-13  오후 10:48    <DIR>          apppatch\n",
      "2024-06-17  오후 06:30    <DIR>          AppReadiness\n",
      "2024-05-06  오전 09:14    <DIR>          assembly\n",
      "2024-06-13  오후 10:48    <DIR>          bcastdvr\n",
      "2024-06-13  오전 08:26           118,784 bfsvc.exe\n",
      "2024-04-10  오후 08:34    <DIR>          Boot\n",
      "2022-05-07  오후 02:24    <DIR>          Branding\n",
      "2024-06-13  오후 10:48    <DIR>          BrowserCore\n",
      "2024-06-13  오전 08:30    <DIR>          CbsTemp\n",
      "2022-05-07  오후 07:53    <DIR>          Containers\n",
      "2023-09-17  오전 08:47    <DIR>          CSC\n",
      "2006-10-06  오후 01:17            53,248 Ctregrun.exe\n",
      "2022-05-07  오후 02:24    <DIR>          Cursors\n",
      "2023-09-17  오후 07:41    <DIR>          debug\n",
      "2022-05-07  오후 02:42    <DIR>          diagnostics\n",
      "2023-11-16  오전 09:23    <DIR>          DiagTrack\n",
      "2022-05-07  오후 07:42    <DIR>          DigitalLocker\n",
      "2023-09-17  오전 09:52            10,372 DirectX.log\n",
      "2023-09-17  오전 09:26           404,946 DPINST.LOG\n",
      "2024-06-13  오후 10:50             4,027 DtcInstall.log\n",
      "2022-07-07  오후 02:58           607,168 D_TENXWGuard32.dl_\n",
      "2022-07-07  오후 02:58           620,480 D_TENXWGuard64.dl_\n",
      "2022-07-07  오후 02:58         2,903,448 D_TEWeb64.ex_\n",
      "2024-01-13  오후 05:25            38,320 D_TNXNet64.SY_\n",
      "2022-05-07  오후 07:42    <DIR>          en-US\n",
      "2024-06-13  오전 08:26         5,472,312 explorer.exe\n",
      "2022-05-07  오후 02:24    <DIR>          GameBarPresenceWriter\n",
      "2022-05-07  오후 02:42    <DIR>          Globalization\n",
      "2024-01-17  오후 06:23    <DIR>          HancomIME\n",
      "2022-05-07  오후 07:42    <DIR>          Help\n",
      "2024-06-13  오전 08:27         1,093,632 HelpPane.exe\n",
      "2022-05-07  오후 02:20            36,864 hh.exe\n",
      "2022-05-07  오후 02:42    <DIR>          IdentityCRL\n",
      "2022-05-07  오후 07:42    <DIR>          IME\n",
      "2024-06-13  오후 10:48    <DIR>          ImmersiveControlPanel\n",
      "2024-06-13  오후 10:48    <DIR>          InboxApps\n",
      "2024-06-15  오후 03:40    <DIR>          INF\n",
      "2023-08-02  오후 02:27             8,305 Info.xml\n",
      "2022-05-07  오후 02:42    <DIR>          InputMethod\n",
      "2024-03-23  오후 05:05    <DIR>          ko-KR\n",
      "2016-10-10  오후 06:12            63,072 ksaudENG.reg\n",
      "2017-06-14  오전 03:13           739,432 KSUSBAIM64.exe\n",
      "2017-06-14  오전 12:07            17,367 KSUSBAPO32.hda\n",
      "2017-06-14  오전 12:07            18,927 KSUSBAPO64.hda\n",
      "2017-06-14  오전 12:07             5,441 KSUSBDGFX32.hda\n",
      "2017-06-14  오전 12:07             5,513 KSUSBDGFX64.hda\n",
      "2017-06-14  오전 12:07             5,441 KSUSBWrap32.hda\n",
      "2017-06-14  오전 12:07             5,537 KSUSBWrap64.hda\n",
      "2022-05-07  오후 02:24    <DIR>          L2Schemas\n",
      "2023-11-16  오전 09:26    <DIR>          LiveKernelReports\n",
      "2024-06-12  오전 08:58    <DIR>          Logs\n",
      "2023-09-17  오전 08:44             1,412 lsasetup.log\n",
      "2022-05-07  오후 02:42    <DIR>          Media\n",
      "2022-05-07  오후 02:19            43,131 mib.bin\n",
      "2024-06-17  오후 07:35    <DIR>          Microsoft.NET\n",
      "2022-05-07  오후 02:24    <DIR>          Migration\n",
      "2022-05-07  오후 02:24    <DIR>          ModemLogs\n",
      "2024-06-13  오전 08:28           360,448 notepad.exe\n",
      "2022-05-07  오후 07:43    <DIR>          OCR\n",
      "2022-05-07  오후 02:24    <DIR>          Offline Web Pages\n",
      "2023-09-20  오후 06:53    <DIR>          Panther\n",
      "2022-05-07  오후 02:24    <DIR>          Performance\n",
      "2024-06-17  오후 06:31           147,120 PFRO.log\n",
      "2023-05-17  오전 03:30             5,168 PidVid_List\n",
      "2022-05-07  오후 02:42    <DIR>          PLA\n",
      "2024-06-13  오후 10:48    <DIR>          PolicyDefinitions\n",
      "2024-06-18  오후 12:35    <DIR>          Prefetch\n",
      "2024-06-13  오후 10:48    <DIR>          PrintDialog\n",
      "2022-05-07  오후 02:21            24,935 Professional.xml\n",
      "2024-04-10  오후 08:34    <DIR>          Provisioning\n",
      "2024-05-15  오전 10:23           552,960 regedit.exe\n",
      "2022-05-07  오후 02:42    <DIR>          Registration\n",
      "2022-05-07  오후 07:51    <DIR>          RemotePackages\n",
      "2022-05-07  오후 02:24    <DIR>          rescache\n",
      "2017-06-14  오전 03:13            21,992 ResDefE.exe\n",
      "2022-05-07  오후 02:42    <DIR>          Resources\n",
      "2023-05-17  오전 03:30            42,620 rtl8761b_mp_chip_bt40_fw_asic_rom_patch_new\n",
      "2022-05-07  오후 02:24    <DIR>          SchCache\n",
      "2022-05-07  오후 07:51    <DIR>          schemas\n",
      "2022-05-07  오후 07:51    <DIR>          security\n",
      "2023-09-17  오전 08:44    <DIR>          ServiceProfiles\n",
      "2023-09-17  오전 08:47    <DIR>          ServiceState\n",
      "2024-06-13  오후 10:48    <DIR>          servicing\n",
      "2022-05-07  오후 02:28    <DIR>          Setup\n",
      "2024-06-15  오후 01:22             4,812 setupact.log\n",
      "2023-09-17  오전 08:44                 0 setuperr.log\n",
      "2024-06-13  오후 10:48    <DIR>          ShellComponents\n",
      "2024-06-13  오후 10:48    <DIR>          ShellExperiences\n",
      "2022-05-07  오후 02:42    <DIR>          SKB\n",
      "2023-09-17  오전 08:46    <DIR>          SoftwareDistribution\n",
      "2022-05-07  오후 02:24    <DIR>          Speech\n",
      "2022-05-07  오후 02:24    <DIR>          Speech_OneCore\n",
      "2024-06-13  오전 08:26           192,512 splwow64.exe\n",
      "2024-04-18  오후 03:52    <DIR>          symbols\n",
      "2022-05-07  오후 02:24    <DIR>          System\n",
      "2022-05-07  오후 02:22               219 system.ini\n",
      "2024-06-15  오후 01:22    <DIR>          System32\n",
      "2024-05-15  오전 11:56    <DIR>          SystemApps\n",
      "2024-06-13  오후 10:48    <DIR>          SystemResources\n",
      "2024-06-18  오후 03:31    <DIR>          SystemTemp\n",
      "2024-06-13  오후 10:48    <DIR>          SysWOW64\n",
      "2022-05-07  오후 02:24    <DIR>          TAPI\n",
      "2023-09-17  오전 08:44    <DIR>          Tasks\n",
      "2024-06-18  오후 02:31    <DIR>          Temp\n",
      "2022-07-07  오후 02:58           607,168 TENXWGuard32.d__\n",
      "2022-07-07  오후 02:58           620,480 TENXWGuard64.d__\n",
      "2022-05-07  오후 02:24    <DIR>          tracing\n",
      "2022-05-07  오후 02:25    <DIR>          twain_32\n",
      "2024-06-13  오전 08:28            83,968 twain_32.dll\n",
      "2024-06-13  오후 10:48    <DIR>          UUS\n",
      "2022-05-07  오후 02:24    <DIR>          Vss\n",
      "2022-05-07  오후 02:24    <DIR>          WaaS\n",
      "2022-05-07  오후 02:42    <DIR>          Web\n",
      "2022-05-07  오후 02:22                92 win.ini\n",
      "2024-06-18  오후 12:31               276 WindowsUpdate.log\n",
      "2022-05-07  오후 02:20            12,288 winhlp32.exe\n",
      "2024-06-14  오후 05:58    <DIR>          WinSxS\n",
      "2022-05-07  오후 07:51           316,640 WMSysPr9.prx\n",
      "2022-05-07  오전 05:16            28,672 write.exe\n",
      "2023-09-18  오전 01:41    <DIR>          WUModels\n",
      "2024-06-16  오후 02:07           215,864 xhunter1.sys\n",
      "2023-11-26  오전 08:40             3,341 xhunters.log\n",
      "              45개 파일          15,569,922 바이트\n",
      "              80개 디렉터리  623,840,542,720 바이트 남음\n",
      "\n"
     ]
    }
   ],
   "source": [
    "os.system(\"dir\")\n",
    "f = os.popen(\"dir\")\n",
    "print(f.read())"
   ]
  },
  {
   "cell_type": "code",
   "execution_count": 180,
   "id": "cd2afe8d-2618-49bc-9a36-818a5804a5a6",
   "metadata": {},
   "outputs": [
    {
     "name": "stdout",
     "output_type": "stream",
     "text": [
      "Start\n",
      "working:0\n",
      "\n",
      "working:1\n",
      "\n",
      "working:2\n",
      "\n",
      "working:3\n",
      "\n",
      "working:4\n",
      "\n",
      "working:0\n",
      "\n",
      "working:1\n",
      "\n",
      "working:2\n",
      "\n",
      "working:3\n",
      "\n",
      "working:4\n",
      "\n",
      "working:0\n",
      "\n",
      "working:1\n",
      "\n",
      "working:2\n",
      "\n",
      "working:3\n",
      "\n",
      "working:4\n",
      "\n",
      "working:0\n",
      "\n",
      "working:1\n",
      "\n",
      "working:2\n",
      "\n",
      "working:3\n",
      "\n",
      "working:4\n",
      "\n",
      "working:0\n",
      "\n",
      "working:1\n",
      "\n",
      "working:2\n",
      "\n",
      "working:3\n",
      "\n",
      "working:4\n",
      "\n",
      "End\n"
     ]
    }
   ],
   "source": [
    "import time\n",
    "\n",
    "def long_task():  # 5초의 시간이 걸리는 함수\n",
    "    for i in range(5):\n",
    "        time.sleep(1)  # 1초간 대기한다.\n",
    "        print(\"working:%s\\n\" % i)\n",
    "\n",
    "print(\"Start\")\n",
    "\n",
    "for i in range(5):  # long_task를 5회 수행한다.\n",
    "    long_task()\n",
    "\n",
    "print(\"End\")"
   ]
  },
  {
   "cell_type": "code",
   "execution_count": null,
   "id": "991bf78f-3c84-44cf-bce2-431d94c1c81b",
   "metadata": {},
   "outputs": [],
   "source": []
  },
  {
   "cell_type": "markdown",
   "id": "0c08396f-fc7b-477c-a172-0de1cf35c22b",
   "metadata": {},
   "source": [
    "# json JSON 데이터를 쉽게 처리하고자 사용하는 모듈"
   ]
  },
  {
   "cell_type": "code",
   "execution_count": 188,
   "id": "951635ba-bf76-4832-a03c-e87c63c0bee9",
   "metadata": {},
   "outputs": [
    {
     "data": {
      "text/plain": [
       "{'name': '홍길동', 'birth': '0525', 'age': 30}"
      ]
     },
     "execution_count": 188,
     "metadata": {},
     "output_type": "execute_result"
    }
   ],
   "source": [
    "import json\n",
    "myinfo = {\n",
    "    \"name\": \"홍길동\",\n",
    "    \"birth\": \"0525\",\n",
    "    \"age\": 30\n",
    "}\n",
    "with open('myinfo.json', 'w') as f:\n",
    "    json.dump(myinfo, f, ensure_ascii=False)\n",
    "\n",
    "with open('myinfo.json') as f:\n",
    "    data = json.load(f)\n",
    "data\n",
    "\n"
   ]
  },
  {
   "cell_type": "markdown",
   "id": "7e914a76-ffd7-4edd-b211-27185c264c4f",
   "metadata": {},
   "source": [
    "# urllib URL을 읽고 분석할 때 사용하는 모듈"
   ]
  },
  {
   "cell_type": "code",
   "execution_count": 191,
   "id": "d1bfa68c-7240-406b-9538-518fff9cae6a",
   "metadata": {},
   "outputs": [],
   "source": [
    "import urllib.request\n",
    "\n",
    "def get_wikidocs(page):\n",
    "    resource = 'https://wikidocs.net/{}'.format(page)\n",
    "    with urllib.request.urlopen(resource) as s:\n",
    "        with open('wikidocs_%s.html' % page, 'wb') as f:\n",
    "            f.write(s.read())\n",
    "\n",
    "get_wikidocs(33)"
   ]
  },
  {
   "cell_type": "markdown",
   "id": "e63781b8-7cb5-43f1-b1cd-7d0abca15f21",
   "metadata": {},
   "source": [
    "# webbrowser 시스템 브라우저를 호출할 때 사용하는 모듈"
   ]
  },
  {
   "cell_type": "code",
   "execution_count": 192,
   "id": "0eb7617c-83ff-47db-9ec8-45ee09f344ac",
   "metadata": {},
   "outputs": [
    {
     "data": {
      "text/plain": [
       "True"
      ]
     },
     "execution_count": 192,
     "metadata": {},
     "output_type": "execute_result"
    }
   ],
   "source": [
    "import webbrowser\n",
    "\n",
    "webbrowser.open_new('http://python.org')"
   ]
  },
  {
   "cell_type": "markdown",
   "id": "5a12effc-839f-4815-a340-5d1e972e9a1a",
   "metadata": {},
   "source": [
    "# Faker 테스트용 가짜 데이터를 생성할 때 사용하는 외부라이브러리"
   ]
  },
  {
   "cell_type": "code",
   "execution_count": 193,
   "id": "05ceb416-1be5-4eaa-b88a-8be1ca566ae3",
   "metadata": {},
   "outputs": [
    {
     "name": "stdout",
     "output_type": "stream",
     "text": [
      "Package                           Version\n",
      "--------------------------------- ------------\n",
      "aiobotocore                       2.7.0\n",
      "aiohttp                           3.9.3\n",
      "aioitertools                      0.7.1\n",
      "aiosignal                         1.2.0\n",
      "alabaster                         0.7.12\n",
      "altair                            5.0.1\n",
      "anaconda-anon-usage               0.4.3\n",
      "anaconda-catalogs                 0.2.0\n",
      "anaconda-client                   1.12.3\n",
      "anaconda-cloud-auth               0.5.1\n",
      "anaconda-navigator                2.6.0\n",
      "anaconda-project                  0.11.1\n",
      "anyio                             4.2.0\n",
      "appdirs                           1.4.4\n",
      "archspec                          0.2.3\n",
      "argon2-cffi                       21.3.0\n",
      "argon2-cffi-bindings              21.2.0\n",
      "arrow                             1.2.3\n",
      "astroid                           2.14.2\n",
      "astropy                           5.3.4\n",
      "asttokens                         2.0.5\n",
      "async-lru                         2.0.4\n",
      "atomicwrites                      1.4.0\n",
      "attrs                             23.1.0\n",
      "Automat                           20.2.0\n",
      "autopep8                          1.6.0\n",
      "Babel                             2.11.0\n",
      "backports.functools-lru-cache     1.6.4\n",
      "backports.tempfile                1.0\n",
      "backports.weakref                 1.0.post1\n",
      "bcrypt                            3.2.0\n",
      "beautifulsoup4                    4.12.2\n",
      "binaryornot                       0.4.4\n",
      "black                             23.11.0\n",
      "bleach                            4.1.0\n",
      "blinker                           1.6.2\n",
      "bokeh                             3.3.4\n",
      "boltons                           23.0.0\n",
      "botocore                          1.31.64\n",
      "Bottleneck                        1.3.7\n",
      "Brotli                            1.0.9\n",
      "cachetools                        4.2.2\n",
      "certifi                           2024.2.2\n",
      "cffi                              1.16.0\n",
      "chardet                           4.0.0\n",
      "charset-normalizer                2.0.4\n",
      "click                             8.1.7\n",
      "cloudpickle                       2.2.1\n",
      "clyent                            1.2.2\n",
      "colorama                          0.4.6\n",
      "colorcet                          3.0.1\n",
      "comm                              0.1.2\n",
      "conda                             24.5.0\n",
      "conda-build                       24.1.2\n",
      "conda-content-trust               0.2.0\n",
      "conda_index                       0.4.0\n",
      "conda-libmamba-solver             24.1.0\n",
      "conda-pack                        0.6.0\n",
      "conda-package-handling            2.2.0\n",
      "conda_package_streaming           0.9.0\n",
      "conda-repo-cli                    1.0.75\n",
      "conda-token                       0.4.0\n",
      "conda-verify                      3.4.2\n",
      "constantly                        23.10.4\n",
      "contourpy                         1.2.0\n",
      "cookiecutter                      2.5.0\n",
      "cryptography                      42.0.2\n",
      "cssselect                         1.2.0\n",
      "cycler                            0.11.0\n",
      "cytoolz                           0.12.2\n",
      "dask                              2023.11.0\n",
      "datashader                        0.16.0\n",
      "debugpy                           1.6.7\n",
      "decorator                         5.1.1\n",
      "defusedxml                        0.7.1\n",
      "diff-match-patch                  20200713\n",
      "dill                              0.3.7\n",
      "distributed                       2023.11.0\n",
      "distro                            1.8.0\n",
      "docstring-to-markdown             0.11\n",
      "docutils                          0.18.1\n",
      "entrypoints                       0.4\n",
      "et-xmlfile                        1.1.0\n",
      "executing                         0.8.3\n",
      "fastjsonschema                    2.16.2\n",
      "filelock                          3.13.1\n",
      "flake8                            6.0.0\n",
      "Flask                             2.2.5\n",
      "fonttools                         4.25.0\n",
      "fqdn                              1.5.1\n",
      "frozendict                        2.4.2\n",
      "frozenlist                        1.4.0\n",
      "fsspec                            2023.10.0\n",
      "future                            0.18.3\n",
      "gensim                            4.3.0\n",
      "gitdb                             4.0.7\n",
      "GitPython                         3.1.37\n",
      "gmpy2                             2.1.2\n",
      "greenlet                          3.0.1\n",
      "h5py                              3.9.0\n",
      "HeapDict                          1.0.1\n",
      "holoviews                         1.18.3\n",
      "hvplot                            0.9.2\n",
      "hyperlink                         21.0.0\n",
      "idna                              3.4\n",
      "imagecodecs                       2023.1.23\n",
      "imageio                           2.33.1\n",
      "imagesize                         1.4.1\n",
      "imbalanced-learn                  0.11.0\n",
      "importlib-metadata                7.0.1\n",
      "incremental                       22.10.0\n",
      "inflection                        0.5.1\n",
      "iniconfig                         1.1.1\n",
      "intake                            0.6.8\n",
      "intervaltree                      3.1.0\n",
      "ipykernel                         6.28.0\n",
      "ipython                           8.20.0\n",
      "ipython-genutils                  0.2.0\n",
      "ipywidgets                        7.6.5\n",
      "isoduration                       20.11.0\n",
      "isort                             5.9.3\n",
      "itemadapter                       0.3.0\n",
      "itemloaders                       1.1.0\n",
      "itsdangerous                      2.0.1\n",
      "jaraco.classes                    3.2.1\n",
      "jedi                              0.18.1\n",
      "jellyfish                         1.0.1\n",
      "Jinja2                            3.1.3\n",
      "jmespath                          1.0.1\n",
      "joblib                            1.2.0\n",
      "json5                             0.9.6\n",
      "jsonpatch                         1.32\n",
      "jsonpointer                       2.1\n",
      "jsonschema                        4.19.2\n",
      "jsonschema-specifications         2023.7.1\n",
      "jupyter                           1.0.0\n",
      "jupyter_client                    8.6.0\n",
      "jupyter-console                   6.6.3\n",
      "jupyter-contrib-core              0.4.2\n",
      "jupyter-contrib-nbextensions      0.7.0\n",
      "jupyter_core                      5.5.0\n",
      "jupyter-events                    0.8.0\n",
      "jupyter-highlight-selected-word   0.2.0\n",
      "jupyter-lsp                       2.2.0\n",
      "jupyter-nbextensions-configurator 0.6.3\n",
      "jupyter_server                    2.10.0\n",
      "jupyter_server_terminals          0.4.4\n",
      "jupyterlab                        4.0.11\n",
      "jupyterlab-pygments               0.1.2\n",
      "jupyterlab_server                 2.25.1\n",
      "jupyterlab-widgets                3.0.9\n",
      "keyring                           23.13.1\n",
      "kiwisolver                        1.4.4\n",
      "lazy_loader                       0.3\n",
      "lazy-object-proxy                 1.6.0\n",
      "lckr_jupyterlab_variableinspector 3.1.0\n",
      "libarchive-c                      2.9\n",
      "libmambapy                        1.5.6\n",
      "linkify-it-py                     2.0.0\n",
      "llvmlite                          0.42.0\n",
      "lmdb                              1.4.1\n",
      "locket                            1.0.0\n",
      "lxml                              4.9.3\n",
      "lz4                               4.3.2\n",
      "Markdown                          3.4.1\n",
      "markdown-it-py                    2.2.0\n",
      "MarkupSafe                        2.1.3\n",
      "matplotlib                        3.8.0\n",
      "matplotlib-inline                 0.1.6\n",
      "mccabe                            0.7.0\n",
      "mdit-py-plugins                   0.3.0\n",
      "mdurl                             0.1.0\n",
      "menuinst                          2.0.2\n",
      "mistune                           2.0.4\n",
      "mkl-fft                           1.3.8\n",
      "mkl-random                        1.2.4\n",
      "mkl-service                       2.4.0\n",
      "more-itertools                    10.1.0\n",
      "mpmath                            1.3.0\n",
      "msgpack                           1.0.3\n",
      "multidict                         6.0.4\n",
      "multipledispatch                  0.6.0\n",
      "munkres                           1.1.4\n",
      "mypy                              1.8.0\n",
      "mypy-extensions                   1.0.0\n",
      "navigator-updater                 0.4.0\n",
      "nbclient                          0.8.0\n",
      "nbconvert                         7.10.0\n",
      "nbformat                          5.9.2\n",
      "nest-asyncio                      1.6.0\n",
      "networkx                          3.1\n",
      "nltk                              3.8.1\n",
      "notebook                          7.0.8\n",
      "notebook_shim                     0.2.3\n",
      "numba                             0.59.0\n",
      "numexpr                           2.8.7\n",
      "numpy                             1.26.4\n",
      "numpydoc                          1.5.0\n",
      "openpyxl                          3.0.10\n",
      "overrides                         7.4.0\n",
      "packaging                         23.1\n",
      "pandas                            2.1.4\n",
      "pandocfilters                     1.5.0\n",
      "panel                             1.3.8\n",
      "param                             2.0.2\n",
      "paramiko                          2.8.1\n",
      "parsel                            1.8.1\n",
      "parso                             0.8.3\n",
      "partd                             1.4.1\n",
      "pathlib                           1.0.1\n",
      "pathspec                          0.10.3\n",
      "patsy                             0.5.3\n",
      "pexpect                           4.8.0\n",
      "pickleshare                       0.7.5\n",
      "pillow                            10.2.0\n",
      "pip                               23.3.1\n",
      "pkce                              1.0.3\n",
      "pkginfo                           1.9.6\n",
      "platformdirs                      3.10.0\n",
      "plotly                            5.9.0\n",
      "pluggy                            1.0.0\n",
      "ply                               3.11\n",
      "prometheus-client                 0.14.1\n",
      "prompt-toolkit                    3.0.43\n",
      "Protego                           0.1.16\n",
      "protobuf                          3.20.3\n",
      "psutil                            5.9.0\n",
      "ptyprocess                        0.7.0\n",
      "pure-eval                         0.2.2\n",
      "py-cpuinfo                        9.0.0\n",
      "pyarrow                           14.0.2\n",
      "pyasn1                            0.4.8\n",
      "pyasn1-modules                    0.2.8\n",
      "pycodestyle                       2.10.0\n",
      "pycosat                           0.6.6\n",
      "pycparser                         2.21\n",
      "pyct                              0.5.0\n",
      "pycurl                            7.45.2\n",
      "pydantic                          1.10.12\n",
      "pydeck                            0.8.0\n",
      "PyDispatcher                      2.0.5\n",
      "pydocstyle                        6.3.0\n",
      "pyerfa                            2.0.0\n",
      "pyflakes                          3.0.1\n",
      "Pygments                          2.15.1\n",
      "PyJWT                             2.4.0\n",
      "pylint                            2.16.2\n",
      "pylint-venv                       2.3.0\n",
      "pyls-spyder                       0.4.0\n",
      "PyNaCl                            1.5.0\n",
      "pyodbc                            5.0.1\n",
      "pyOpenSSL                         24.0.0\n",
      "pyparsing                         3.0.9\n",
      "PyQt5                             5.15.10\n",
      "PyQt5-sip                         12.13.0\n",
      "PyQtWebEngine                     5.15.6\n",
      "PySocks                           1.7.1\n",
      "pytest                            7.4.0\n",
      "python-dateutil                   2.8.2\n",
      "python-dotenv                     0.21.0\n",
      "python-json-logger                2.0.7\n",
      "python-lsp-black                  1.2.1\n",
      "python-lsp-jsonrpc                1.0.0\n",
      "python-lsp-server                 1.7.2\n",
      "python-slugify                    5.0.2\n",
      "python-snappy                     0.6.1\n",
      "pytoolconfig                      1.2.6\n",
      "pytz                              2023.3.post1\n",
      "pyviz_comms                       3.0.0\n",
      "pywavelets                        1.5.0\n",
      "pywin32                           305.1\n",
      "pywin32-ctypes                    0.2.0\n",
      "pywinpty                          2.0.10\n",
      "PyYAML                            6.0.1\n",
      "pyzmq                             25.1.2\n",
      "QDarkStyle                        3.0.2\n",
      "qstylizer                         0.2.2\n",
      "QtAwesome                         1.2.2\n",
      "qtconsole                         5.4.2\n",
      "QtPy                              2.4.1\n",
      "queuelib                          1.6.2\n",
      "referencing                       0.30.2\n",
      "regex                             2023.10.3\n",
      "requests                          2.31.0\n",
      "requests-file                     1.5.1\n",
      "requests-toolbelt                 1.0.0\n",
      "rfc3339-validator                 0.1.4\n",
      "rfc3986-validator                 0.1.1\n",
      "rich                              13.3.5\n",
      "rope                              1.7.0\n",
      "rpds-py                           0.10.6\n",
      "Rtree                             1.0.1\n",
      "ruamel.yaml                       0.17.21\n",
      "ruamel-yaml-conda                 0.17.21\n",
      "s3fs                              2023.10.0\n",
      "scikit-image                      0.22.0\n",
      "scikit-learn                      1.2.2\n",
      "scipy                             1.11.4\n",
      "Scrapy                            2.8.0\n",
      "seaborn                           0.12.2\n",
      "semver                            2.13.0\n",
      "Send2Trash                        1.8.2\n",
      "service-identity                  18.1.0\n",
      "setuptools                        68.2.2\n",
      "sip                               6.7.12\n",
      "six                               1.16.0\n",
      "smart-open                        5.2.1\n",
      "smmap                             4.0.0\n",
      "sniffio                           1.3.0\n",
      "snowballstemmer                   2.2.0\n",
      "sortedcontainers                  2.4.0\n",
      "soupsieve                         2.5\n",
      "Sphinx                            5.0.2\n",
      "sphinxcontrib-applehelp           1.0.2\n",
      "sphinxcontrib-devhelp             1.0.2\n",
      "sphinxcontrib-htmlhelp            2.0.0\n",
      "sphinxcontrib-jsmath              1.0.1\n",
      "sphinxcontrib-qthelp              1.0.3\n",
      "sphinxcontrib-serializinghtml     1.1.5\n",
      "spyder                            5.4.3\n",
      "spyder-kernels                    2.4.4\n",
      "SQLAlchemy                        2.0.25\n",
      "stack-data                        0.2.0\n",
      "statsmodels                       0.14.0\n",
      "streamlit                         1.30.0\n",
      "sympy                             1.12\n",
      "tables                            3.9.2\n",
      "tabulate                          0.9.0\n",
      "tblib                             1.7.0\n",
      "tenacity                          8.2.2\n",
      "terminado                         0.17.1\n",
      "text-unidecode                    1.3\n",
      "textdistance                      4.2.1\n",
      "threadpoolctl                     2.2.0\n",
      "three-merge                       0.1.1\n",
      "tifffile                          2023.4.12\n",
      "tinycss2                          1.2.1\n",
      "tldextract                        3.2.0\n",
      "toml                              0.10.2\n",
      "tomlkit                           0.11.1\n",
      "toolz                             0.12.0\n",
      "tornado                           6.3.3\n",
      "tqdm                              4.65.0\n",
      "traitlets                         5.7.1\n",
      "truststore                        0.8.0\n",
      "Twisted                           23.10.0\n",
      "twisted-iocpsupport               1.0.2\n",
      "typing_extensions                 4.9.0\n",
      "tzdata                            2023.3\n",
      "tzlocal                           2.1\n",
      "uc-micro-py                       1.0.1\n",
      "ujson                             5.4.0\n",
      "Unidecode                         1.2.0\n",
      "uri-template                      1.3.0\n",
      "urllib3                           2.0.7\n",
      "validators                        0.18.2\n",
      "w3lib                             2.1.2\n",
      "watchdog                          2.1.6\n",
      "wcwidth                           0.2.5\n",
      "webcolors                         1.13\n",
      "webencodings                      0.5.1\n",
      "websocket-client                  0.58.0\n",
      "Werkzeug                          2.2.3\n",
      "whatthepatch                      1.0.2\n",
      "wheel                             0.41.2\n",
      "widgetsnbextension                3.5.2\n",
      "win-inet-pton                     1.1.0\n",
      "wrapt                             1.14.1\n",
      "xarray                            2023.6.0\n",
      "xlwings                           0.29.1\n",
      "xyzservices                       2022.9.0\n",
      "yapf                              0.31.0\n",
      "yarl                              1.9.3\n",
      "zict                              3.0.0\n",
      "zipp                              3.17.0\n",
      "zope.interface                    5.4.0\n",
      "zstandard                         0.19.0\n",
      "Note: you may need to restart the kernel to use updated packages.\n"
     ]
    }
   ],
   "source": [
    "pip list"
   ]
  },
  {
   "cell_type": "code",
   "execution_count": 194,
   "id": "300a5c79-9b48-438a-8e54-76053d7d9684",
   "metadata": {},
   "outputs": [
    {
     "name": "stdout",
     "output_type": "stream",
     "text": [
      "Collecting faker\n",
      "  Downloading Faker-25.8.0-py3-none-any.whl.metadata (15 kB)\n",
      "Requirement already satisfied: python-dateutil>=2.4 in c:\\users\\gkdme\\anaconda3\\lib\\site-packages (from faker) (2.8.2)\n",
      "Requirement already satisfied: six>=1.5 in c:\\users\\gkdme\\anaconda3\\lib\\site-packages (from python-dateutil>=2.4->faker) (1.16.0)\n",
      "Downloading Faker-25.8.0-py3-none-any.whl (1.8 MB)\n",
      "   ---------------------------------------- 0.0/1.8 MB ? eta -:--:--\n",
      "    --------------------------------------- 0.0/1.8 MB 660.6 kB/s eta 0:00:03\n",
      "   ------------------------------- -------- 1.4/1.8 MB 18.2 MB/s eta 0:00:01\n",
      "   ---------------------------------------- 1.8/1.8 MB 19.2 MB/s eta 0:00:00\n",
      "Installing collected packages: faker\n",
      "Successfully installed faker-25.8.0\n",
      "Note: you may need to restart the kernel to use updated packages.\n"
     ]
    }
   ],
   "source": [
    "pip install faker"
   ]
  },
  {
   "cell_type": "code",
   "execution_count": 198,
   "id": "21a40a9c-dd09-46d4-bee7-1665fd94c2ce",
   "metadata": {},
   "outputs": [
    {
     "data": {
      "text/plain": [
       "'Tony Rodriguez'"
      ]
     },
     "execution_count": 198,
     "metadata": {},
     "output_type": "execute_result"
    }
   ],
   "source": [
    "from faker import Faker\n",
    "\n",
    "fake = Faker()\n",
    "\n",
    "type(fake), fake\n",
    "\n",
    "fake.name()"
   ]
  },
  {
   "cell_type": "code",
   "execution_count": 199,
   "id": "d909a87a-2828-4585-8e33-999701fbc79f",
   "metadata": {},
   "outputs": [
    {
     "data": {
      "text/plain": [
       "'이서윤'"
      ]
     },
     "execution_count": 199,
     "metadata": {},
     "output_type": "execute_result"
    }
   ],
   "source": [
    "fake = Faker('ko-KR')\n",
    "\n",
    "fake.name()"
   ]
  },
  {
   "cell_type": "code",
   "execution_count": 201,
   "id": "15b5d636-d333-4ead-b75c-9101d24289c9",
   "metadata": {},
   "outputs": [
    {
     "data": {
      "text/plain": [
       "[('김은영', '강원도 용인시 반포대78길'),\n",
       " ('노영수', '강원도 화성시 역삼가 (진호김동)'),\n",
       " ('윤영식', '충청남도 화성시 개포로'),\n",
       " ('김정남', '인천광역시 구로구 서초대146가 (정웅이마을)'),\n",
       " ('박성민', '울산광역시 북구 개포09길'),\n",
       " ('진명숙', '경상남도 파주시 봉은사거리 (영자고리)'),\n",
       " ('장예준', '세종특별자치시 강서구 압구정가 (옥자배김동)'),\n",
       " ('양영환', '강원도 아산시 선릉로'),\n",
       " ('안명자', '광주광역시 광진구 언주길'),\n",
       " ('김예원', '서울특별시 구로구 테헤란로 (서영김면)'),\n",
       " ('홍미경', '전라남도 고양시 일산동구 반포대로 (정자윤박읍)'),\n",
       " ('김준서', '인천광역시 광진구 압구정가'),\n",
       " ('최상철', '인천광역시 금천구 봉은사거리 (순자이마을)'),\n",
       " ('김우진', '전라남도 하남시 봉은사가'),\n",
       " ('박우진', '제주특별자치도 제천시 석촌호수거리 (재호나마을)'),\n",
       " ('조정자', '강원도 고양시 일산서구 강남대거리'),\n",
       " ('장준호', '제주특별자치도 춘천시 테헤란623로 (정숙나마을)'),\n",
       " ('윤준영', '전라북도 부천시 소사구 가락로 (민서최이면)'),\n",
       " ('김영수', '경기도 태안군 오금41가 (도현박배면)'),\n",
       " ('홍은주', '충청남도 수원시 권선구 테헤란5길 (성수김이리)'),\n",
       " ('백동현', '제주특별자치도 춘천시 석촌호수7거리 (지영안읍)'),\n",
       " ('안경수', '광주광역시 동대문구 논현거리 (수빈송마을)'),\n",
       " ('윤예진', '광주광역시 동작구 서초대02길 (준호홍이동)'),\n",
       " ('김미영', '전라남도 광명시 석촌호수50길 (영철김백리)'),\n",
       " ('박동현', '전라남도 부천시 원미구 선릉가 (미숙전리)'),\n",
       " ('김지현', '대구광역시 중랑구 석촌호수14로 (예진김권면)'),\n",
       " ('손민서', '인천광역시 동작구 오금01가 (승민김동)'),\n",
       " ('노광수', '서울특별시 노원구 오금로'),\n",
       " ('김예준', '울산광역시 광진구 삼성거리'),\n",
       " ('김상현', '서울특별시 도봉구 도산대648길')]"
      ]
     },
     "execution_count": 201,
     "metadata": {},
     "output_type": "execute_result"
    }
   ],
   "source": [
    "test_data = [(fake.name(), fake.address()) for i in range(30)]\n",
    "test_data"
   ]
  },
  {
   "cell_type": "code",
   "execution_count": 202,
   "id": "add79bfd-93aa-4dc8-b739-cd71987b9884",
   "metadata": {},
   "outputs": [
    {
     "data": {
      "text/plain": [
       "'1:1 교훈적 생산 능력'"
      ]
     },
     "execution_count": 202,
     "metadata": {},
     "output_type": "execute_result"
    }
   ],
   "source": [
    "fake.catch_phrase() "
   ]
  }
 ],
 "metadata": {
  "kernelspec": {
   "display_name": "Python 3 (ipykernel)",
   "language": "python",
   "name": "python3"
  },
  "language_info": {
   "codemirror_mode": {
    "name": "ipython",
    "version": 3
   },
   "file_extension": ".py",
   "mimetype": "text/x-python",
   "name": "python",
   "nbconvert_exporter": "python",
   "pygments_lexer": "ipython3",
   "version": "3.11.7"
  }
 },
 "nbformat": 4,
 "nbformat_minor": 5
}
