{
 "cells": [
  {
   "cell_type": "markdown",
   "id": "363129a0-c2b1-4b5a-87b7-de628c6ce130",
   "metadata": {},
   "source": [
    "# Class"
   ]
  },
  {
   "cell_type": "code",
   "execution_count": 1,
   "id": "6ebc7027-21f0-425d-bbb9-654aba535dea",
   "metadata": {},
   "outputs": [
    {
     "name": "stdout",
     "output_type": "stream",
     "text": [
      "3\n",
      "7\n"
     ]
    }
   ],
   "source": [
    "# 더하기\n",
    "result = 0\n",
    "\n",
    "def add(num):\n",
    "    global result\n",
    "    result += num  # 결괏값(result)에 입력값(num) 더하기\n",
    "    return result  # 결괏값 리턴\n",
    "\n",
    "print(add(3))\n",
    "print(add(4))"
   ]
  },
  {
   "cell_type": "code",
   "execution_count": 2,
   "id": "892d62e3-c59a-4463-978b-24770a6ed3e8",
   "metadata": {},
   "outputs": [
    {
     "name": "stdout",
     "output_type": "stream",
     "text": [
      "3\n",
      "7\n",
      "3\n",
      "10\n"
     ]
    }
   ],
   "source": [
    "result1 = 0\n",
    "result2 = 0\n",
    "\n",
    "def add1(num):  # 계산기1\n",
    "    global result1\n",
    "    result1 += num\n",
    "    return result1\n",
    "\n",
    "def add2(num):  # 계산기2\n",
    "    global result2\n",
    "    result2 += num\n",
    "    return result2\n",
    "\n",
    "print(add1(3))\n",
    "print(add1(4))\n",
    "print(add2(3))\n",
    "print(add2(7))"
   ]
  },
  {
   "cell_type": "code",
   "execution_count": null,
   "id": "c9570433-e077-4515-89de-b223a82b7a92",
   "metadata": {},
   "outputs": [],
   "source": [
    "class Calculator:\n",
    "    def __init__(self):\n",
    "        self.result = 0\n",
    "\n",
    "    def add(self, num):\n",
    "        self.result += num\n",
    "        return self.result\n",
    "\n",
    "cal1 = Calculator()\n",
    "cal2 = Calculator()\n",
    "\n",
    "print(cal1.add(3))\n",
    "print(cal1.add(4))\n",
    "print(cal2.add(3))\n",
    "print(cal2.add(7))"
   ]
  },
  {
   "cell_type": "markdown",
   "id": "40261603-f21b-4a4f-a51b-2fae6f75e047",
   "metadata": {},
   "source": [
    "# 클레스와 객체"
   ]
  },
  {
   "cell_type": "code",
   "execution_count": 5,
   "id": "7fb21323-47b4-4958-8ce9-01bf31e13ebf",
   "metadata": {},
   "outputs": [
    {
     "data": {
      "text/plain": [
       "__main__.Cookie"
      ]
     },
     "execution_count": 5,
     "metadata": {},
     "output_type": "execute_result"
    }
   ],
   "source": [
    "class Cookie:\n",
    "    pass\n",
    "\n",
    "type(Cookie())"
   ]
  },
  {
   "cell_type": "code",
   "execution_count": 6,
   "id": "dc04f7af-6f44-4cbb-83eb-7a65c958e3c1",
   "metadata": {},
   "outputs": [
    {
     "name": "stdout",
     "output_type": "stream",
     "text": [
      "<__main__.Cookie object at 0x000001E114A75690> <class '__main__.Cookie'>\n"
     ]
    }
   ],
   "source": [
    "a = Cookie()\n",
    "print(a, type(a))"
   ]
  },
  {
   "cell_type": "code",
   "execution_count": null,
   "id": "fd7c5127-7ddb-4c8b-9e9d-3b23b580ada4",
   "metadata": {},
   "outputs": [],
   "source": [
    "# 사칙연산 클래스 만들기"
   ]
  },
  {
   "cell_type": "code",
   "execution_count": 34,
   "id": "95c6a882-14eb-46a0-b22b-8b025bbdee1b",
   "metadata": {},
   "outputs": [],
   "source": [
    "# class\n",
    "class FourCal:\n",
    "    def setdata (self, first, second):\n",
    "        self.first = first\n",
    "        self.second = second\n",
    "    def add (self):\n",
    "        return (self.first + self.second)\n",
    "    def sub (self):\n",
    "        return (self.first - self.second)\n",
    "    def mul (self):\n",
    "        return (self.first * self.second)\n",
    "    def div (self):\n",
    "        return (self.first / self.second)\n",
    "\n",
    "#function\n",
    "def setdata(self, first, second):\n",
    "    self.first = first\n",
    "    self.second = second"
   ]
  },
  {
   "cell_type": "code",
   "execution_count": 9,
   "id": "df718f6d-0a2b-467c-9785-d945c7da2b90",
   "metadata": {},
   "outputs": [],
   "source": [
    "a = FourCal()\n",
    "a.setdata(1, 2)"
   ]
  },
  {
   "cell_type": "code",
   "execution_count": 10,
   "id": "a0f5df24-770f-4218-90d3-a51ae081b120",
   "metadata": {},
   "outputs": [],
   "source": [
    "# 메서드를 호출하는 또다른 방법\n",
    "a = FourCal()\n",
    "FourCal.setdata(a, 4, 2)"
   ]
  },
  {
   "cell_type": "markdown",
   "id": "0abd593b-13d6-40ae-88f0-f9fb45091565",
   "metadata": {},
   "source": [
    "# setdata 매서드의 수행문"
   ]
  },
  {
   "cell_type": "code",
   "execution_count": 11,
   "id": "ce8d3390-0177-4d57-a157-cb787c9f5420",
   "metadata": {},
   "outputs": [
    {
     "data": {
      "text/plain": [
       "4"
      ]
     },
     "execution_count": 11,
     "metadata": {},
     "output_type": "execute_result"
    }
   ],
   "source": [
    "a.first"
   ]
  },
  {
   "cell_type": "code",
   "execution_count": 12,
   "id": "18d12557-abe7-449d-9921-55979a820b13",
   "metadata": {},
   "outputs": [
    {
     "data": {
      "text/plain": [
       "2"
      ]
     },
     "execution_count": 12,
     "metadata": {},
     "output_type": "execute_result"
    }
   ],
   "source": [
    "a.second"
   ]
  },
  {
   "cell_type": "code",
   "execution_count": 13,
   "id": "49f58715-6f14-418f-b729-7d480cdf6dab",
   "metadata": {},
   "outputs": [
    {
     "data": {
      "text/plain": [
       "<bound method FourCal.setdata of <__main__.FourCal object at 0x000001E11618B190>>"
      ]
     },
     "execution_count": 13,
     "metadata": {},
     "output_type": "execute_result"
    }
   ],
   "source": [
    "a.setdata"
   ]
  },
  {
   "cell_type": "code",
   "execution_count": 14,
   "id": "9862f7a7-d33f-45ce-8246-1617e358db0b",
   "metadata": {},
   "outputs": [],
   "source": [
    "a = FourCal()\n",
    "b = FourCal()"
   ]
  },
  {
   "cell_type": "code",
   "execution_count": 16,
   "id": "5d928c1a-d3e0-40ad-9532-00bf6d7151bf",
   "metadata": {},
   "outputs": [
    {
     "data": {
      "text/plain": [
       "(4, 2)"
      ]
     },
     "execution_count": 16,
     "metadata": {},
     "output_type": "execute_result"
    }
   ],
   "source": [
    "a.setdata(4,2)\n",
    "a.first, a.second"
   ]
  },
  {
   "cell_type": "code",
   "execution_count": 17,
   "id": "e90a522e-3ea4-4c96-bc7d-618d59971077",
   "metadata": {},
   "outputs": [
    {
     "data": {
      "text/plain": [
       "(1, 3)"
      ]
     },
     "execution_count": 17,
     "metadata": {},
     "output_type": "execute_result"
    }
   ],
   "source": [
    "b.setdata(1,3)\n",
    "b.first, b.second"
   ]
  },
  {
   "cell_type": "code",
   "execution_count": 35,
   "id": "8dd2d93b-f88a-4b9b-9697-debc41d4901a",
   "metadata": {},
   "outputs": [
    {
     "data": {
      "text/plain": [
       "(4, 2, 6, 2, 8, 2.0)"
      ]
     },
     "execution_count": 35,
     "metadata": {},
     "output_type": "execute_result"
    }
   ],
   "source": [
    "a = FourCal()\n",
    "a.setdata(4,2)\n",
    "\n",
    "a.first, a.second, a.add(), a.sub(), a.mul(), a.div()"
   ]
  },
  {
   "cell_type": "code",
   "execution_count": 43,
   "id": "13e2e7ed-eec9-4e05-99c0-33da2da0d5c4",
   "metadata": {},
   "outputs": [],
   "source": [
    "# class\n",
    "class FourCal:\n",
    "    def __init__ (self, first = 0, second = 0):\n",
    "        self.first = first\n",
    "        self.second = second\n",
    "    # def setdata (self, first, second):\n",
    "    #     self.first = first\n",
    "    #     self.second = second\n",
    "    def add (self):\n",
    "        return (self.first + self.second)\n",
    "    def sub (self):\n",
    "        return (self.first - self.second)\n",
    "    def mul (self):\n",
    "        return (self.first * self.second)\n",
    "    def div (self):\n",
    "        return (self.first / self.second)"
   ]
  },
  {
   "cell_type": "code",
   "execution_count": 46,
   "id": "28b6cd75-86b3-4501-a7b0-c55149d9d860",
   "metadata": {},
   "outputs": [
    {
     "data": {
      "text/plain": [
       "0"
      ]
     },
     "execution_count": 46,
     "metadata": {},
     "output_type": "execute_result"
    }
   ],
   "source": [
    "a = FourCal()\n",
    "a.add()"
   ]
  },
  {
   "cell_type": "markdown",
   "id": "85e99d97-f005-4786-bf4d-2817d0b98462",
   "metadata": {},
   "source": [
    "# 클래스의 상속"
   ]
  },
  {
   "cell_type": "code",
   "execution_count": 51,
   "id": "92651daa-9a12-4ef1-9126-832357c011e2",
   "metadata": {},
   "outputs": [],
   "source": [
    "class MoreFourCal(FourCal):\n",
    "    def pow(self):\n",
    "        return self.first ** self.second"
   ]
  },
  {
   "cell_type": "code",
   "execution_count": 50,
   "id": "d973b0c7-9c1f-40d1-932b-cfa33230a732",
   "metadata": {},
   "outputs": [
    {
     "data": {
      "text/plain": [
       "3"
      ]
     },
     "execution_count": 50,
     "metadata": {},
     "output_type": "execute_result"
    }
   ],
   "source": [
    "a = MoreFourCal(1, 2)\n",
    "a.add()"
   ]
  },
  {
   "cell_type": "code",
   "execution_count": 52,
   "id": "92c89368-9985-40c6-a5cc-d95908227997",
   "metadata": {},
   "outputs": [
    {
     "data": {
      "text/plain": [
       "1"
      ]
     },
     "execution_count": 52,
     "metadata": {},
     "output_type": "execute_result"
    }
   ],
   "source": [
    "a = MoreFourCal(1, 2)\n",
    "a.pow()"
   ]
  },
  {
   "cell_type": "markdown",
   "id": "a368adab-de12-4211-a95c-ae069bd80cd9",
   "metadata": {},
   "source": [
    "# 메서드 오버라이딩"
   ]
  },
  {
   "cell_type": "code",
   "execution_count": 53,
   "id": "6751fa86-b166-4e24-a0a1-4a03dfd59407",
   "metadata": {},
   "outputs": [],
   "source": [
    "class SafeFourCal(FourCal):\n",
    "     def div(self):\n",
    "         if self.second == 0:  # 나누는 값이 0인 경우 0을 리턴하도록 수정\n",
    "             return 0\n",
    "         else:\n",
    "             return self.first / self.second"
   ]
  },
  {
   "cell_type": "code",
   "execution_count": 56,
   "id": "9cf9c9c7-d437-4517-9949-0bab5aefbcc6",
   "metadata": {},
   "outputs": [
    {
     "data": {
      "text/plain": [
       "0"
      ]
     },
     "execution_count": 56,
     "metadata": {},
     "output_type": "execute_result"
    }
   ],
   "source": [
    "a = SafeFourCal(3,0)\n",
    "a.div()"
   ]
  },
  {
   "cell_type": "markdown",
   "id": "f93e123f-188b-4c5c-bfe6-9348d95a4895",
   "metadata": {},
   "source": [
    "# 클래스 변수"
   ]
  },
  {
   "cell_type": "code",
   "execution_count": 59,
   "id": "c67ce8d0-fb95-4eb5-a76a-e348db206e36",
   "metadata": {},
   "outputs": [],
   "source": [
    "class Family:\n",
    "    lastname = \"김\""
   ]
  },
  {
   "cell_type": "code",
   "execution_count": 60,
   "id": "8ef4d4b6-f402-4e2f-b65c-29d1943961c0",
   "metadata": {},
   "outputs": [
    {
     "data": {
      "text/plain": [
       "'김'"
      ]
     },
     "execution_count": 60,
     "metadata": {},
     "output_type": "execute_result"
    }
   ],
   "source": [
    "Family.lastname"
   ]
  },
  {
   "cell_type": "code",
   "execution_count": 61,
   "id": "1408db5e-3601-4c9c-8823-94873eb6c1cc",
   "metadata": {},
   "outputs": [
    {
     "data": {
      "text/plain": [
       "('김', '김')"
      ]
     },
     "execution_count": 61,
     "metadata": {},
     "output_type": "execute_result"
    }
   ],
   "source": [
    "a = Family()\n",
    "b = Family()\n",
    "\n",
    "a.lastname, b.lastname"
   ]
  },
  {
   "cell_type": "code",
   "execution_count": 63,
   "id": "47ca0c6d-4f24-42d3-9f53-5499ec5341f5",
   "metadata": {},
   "outputs": [
    {
     "data": {
      "text/plain": [
       "('박', '박')"
      ]
     },
     "execution_count": 63,
     "metadata": {},
     "output_type": "execute_result"
    }
   ],
   "source": [
    "Family.lastname = \"박\"\n",
    "a = Family()\n",
    "b = Family()\n",
    "\n",
    "a.lastname, b.lastname"
   ]
  },
  {
   "cell_type": "code",
   "execution_count": 64,
   "id": "d6ce8994-b977-4518-bf07-827cc2039ade",
   "metadata": {},
   "outputs": [
    {
     "data": {
      "text/plain": [
       "('최', '박')"
      ]
     },
     "execution_count": 64,
     "metadata": {},
     "output_type": "execute_result"
    }
   ],
   "source": [
    "a.lastname = \"최\"\n",
    "\n",
    "a.lastname, b.lastname"
   ]
  },
  {
   "cell_type": "markdown",
   "id": "45155237-8f71-48a7-94f3-626530290cd9",
   "metadata": {},
   "source": [
    "# 예외처러"
   ]
  },
  {
   "cell_type": "markdown",
   "id": "b1b184f8-4dbb-438f-8a81-2b6d04a6e2ff",
   "metadata": {},
   "source": [
    "# 오류는 언제 발생하는가?"
   ]
  },
  {
   "cell_type": "code",
   "execution_count": null,
   "id": "1dd48a1a-4772-4336-8b13-d5d4b24517f4",
   "metadata": {},
   "outputs": [],
   "source": [
    "f = open(\"a\", 'r')"
   ]
  },
  {
   "cell_type": "code",
   "execution_count": 68,
   "id": "02a38deb-9e58-4a27-be3f-4a21b9ae0493",
   "metadata": {},
   "outputs": [
    {
     "ename": "ZeroDivisionError",
     "evalue": "division by zero",
     "output_type": "error",
     "traceback": [
      "\u001b[1;31m---------------------------------------------------------------------------\u001b[0m",
      "\u001b[1;31mZeroDivisionError\u001b[0m                         Traceback (most recent call last)",
      "Cell \u001b[1;32mIn[68], line 2\u001b[0m\n\u001b[0;32m      1\u001b[0m \u001b[38;5;66;03m# 0나누기\u001b[39;00m\n\u001b[1;32m----> 2\u001b[0m \u001b[38;5;241m3\u001b[39m\u001b[38;5;241m/\u001b[39m\u001b[38;5;241m0\u001b[39m\n",
      "\u001b[1;31mZeroDivisionError\u001b[0m: division by zero"
     ]
    }
   ],
   "source": [
    "# 0나누기\n",
    "3/0"
   ]
  },
  {
   "cell_type": "code",
   "execution_count": 69,
   "id": "0d47a91a-dacd-40de-a3d0-f0763163d780",
   "metadata": {},
   "outputs": [
    {
     "ename": "IndexError",
     "evalue": "list index out of range",
     "output_type": "error",
     "traceback": [
      "\u001b[1;31m---------------------------------------------------------------------------\u001b[0m",
      "\u001b[1;31mIndexError\u001b[0m                                Traceback (most recent call last)",
      "Cell \u001b[1;32mIn[69], line 3\u001b[0m\n\u001b[0;32m      1\u001b[0m \u001b[38;5;66;03m# index 범위를 벗어났을 때\u001b[39;00m\n\u001b[0;32m      2\u001b[0m a \u001b[38;5;241m=\u001b[39m [\u001b[38;5;241m1\u001b[39m,\u001b[38;5;241m2\u001b[39m,\u001b[38;5;241m3\u001b[39m]\n\u001b[1;32m----> 3\u001b[0m a[\u001b[38;5;241m4\u001b[39m]\n",
      "\u001b[1;31mIndexError\u001b[0m: list index out of range"
     ]
    }
   ],
   "source": [
    "# index 범위를 벗어났을 때\n",
    "a = [1,2,3]\n",
    "a[4]"
   ]
  },
  {
   "cell_type": "markdown",
   "id": "dc0c184e-49c0-407d-a40f-202d0318e467",
   "metadata": {},
   "source": [
    "# 오류 예외 처리 기법"
   ]
  },
  {
   "cell_type": "code",
   "execution_count": 70,
   "id": "a13f74b7-1547-42f9-9c3e-21e1c414e325",
   "metadata": {},
   "outputs": [
    {
     "name": "stdout",
     "output_type": "stream",
     "text": [
      "0\n"
     ]
    }
   ],
   "source": [
    "# Try - Except만 쓰는 방법\n",
    "try:\n",
    "    4/0\n",
    "except:\n",
    "    print(0)"
   ]
  },
  {
   "cell_type": "code",
   "execution_count": 72,
   "id": "98c16dff-bb5f-46dd-a741-908517c6b500",
   "metadata": {},
   "outputs": [
    {
     "name": "stdout",
     "output_type": "stream",
     "text": [
      "0\n"
     ]
    }
   ],
   "source": [
    "# 발생 오류만 포함한 except 문\n",
    "try:\n",
    "    4/0\n",
    "except ZeroDivisionError:\n",
    "    print(0)"
   ]
  },
  {
   "cell_type": "code",
   "execution_count": 73,
   "id": "67c6b856-d47a-4811-bf34-5aa1a6003fbd",
   "metadata": {},
   "outputs": [
    {
     "ename": "ZeroDivisionError",
     "evalue": "division by zero",
     "output_type": "error",
     "traceback": [
      "\u001b[1;31m---------------------------------------------------------------------------\u001b[0m",
      "\u001b[1;31mZeroDivisionError\u001b[0m                         Traceback (most recent call last)",
      "Cell \u001b[1;32mIn[73], line 2\u001b[0m\n\u001b[0;32m      1\u001b[0m \u001b[38;5;28;01mtry\u001b[39;00m:\n\u001b[1;32m----> 2\u001b[0m     \u001b[38;5;241m4\u001b[39m\u001b[38;5;241m/\u001b[39m\u001b[38;5;241m0\u001b[39m\n\u001b[0;32m      3\u001b[0m \u001b[38;5;28;01mexcept\u001b[39;00m \u001b[38;5;167;01mFileNotFoundError\u001b[39;00m:\n\u001b[0;32m      4\u001b[0m     \u001b[38;5;28mprint\u001b[39m(\u001b[38;5;241m0\u001b[39m)\n",
      "\u001b[1;31mZeroDivisionError\u001b[0m: division by zero"
     ]
    }
   ],
   "source": [
    "try:\n",
    "    4/0\n",
    "except FileNotFoundError:\n",
    "    print(0)"
   ]
  },
  {
   "cell_type": "code",
   "execution_count": 74,
   "id": "f0cbc113-2f7a-4036-af0f-0f9b33d45f2d",
   "metadata": {},
   "outputs": [
    {
     "name": "stdout",
     "output_type": "stream",
     "text": [
      "division by zero\n"
     ]
    }
   ],
   "source": [
    "try:\n",
    "    4/0\n",
    "except ZeroDivisionError as e:\n",
    "    print(e)"
   ]
  },
  {
   "cell_type": "markdown",
   "id": "cdf9b9fa-5d17-4dc3-b3ec-3665fa93e7a3",
   "metadata": {},
   "source": [
    "# try-finally 문"
   ]
  },
  {
   "cell_type": "code",
   "execution_count": 77,
   "id": "6d16eaf5-be8c-46ed-96d8-ed8dda94eb1d",
   "metadata": {},
   "outputs": [],
   "source": [
    "try:\n",
    "    f = open('foo.txt', 'w')\n",
    "    # 무언가를 수행한다.\n",
    "finally:\n",
    "    f.close()  # 중간에 오류가 발생하더라도 무조건 실행된다."
   ]
  },
  {
   "cell_type": "markdown",
   "id": "50d28c88-73be-435b-b395-0709865e0284",
   "metadata": {},
   "source": [
    "# 여러개의 오류 처리하기"
   ]
  },
  {
   "cell_type": "code",
   "execution_count": 79,
   "id": "2dd46208-666e-46dd-bb31-c73256c1bb30",
   "metadata": {},
   "outputs": [
    {
     "name": "stdout",
     "output_type": "stream",
     "text": [
      "인덱싱 할 수 없습니다.\n"
     ]
    }
   ],
   "source": [
    "try:\n",
    "    a = [1,2]\n",
    "    print(a[3])\n",
    "    4/0\n",
    "except ZeroDivisionError:\n",
    "    print(\"0으로 나눌 수 없습니다.\")\n",
    "except IndexError:\n",
    "    print(\"인덱싱 할 수 없습니다.\")"
   ]
  },
  {
   "cell_type": "code",
   "execution_count": 80,
   "id": "2b2c9266-e771-4242-8280-15e5eae2c367",
   "metadata": {},
   "outputs": [
    {
     "name": "stdout",
     "output_type": "stream",
     "text": [
      "list index out of range\n"
     ]
    }
   ],
   "source": [
    "try:\n",
    "    a = [1,2]\n",
    "    print(a[3])\n",
    "    4/0\n",
    "except ZeroDivisionError as e:\n",
    "    print(e)\n",
    "except IndexError as e:\n",
    "    print(e)"
   ]
  },
  {
   "cell_type": "markdown",
   "id": "5d6aa19b-6ede-4666-b940-8538c155d7a1",
   "metadata": {},
   "source": [
    "# try-else 문"
   ]
  },
  {
   "cell_type": "code",
   "execution_count": 82,
   "id": "1f983a40-6fe2-42fd-99b4-5a8a8e7a6e27",
   "metadata": {},
   "outputs": [
    {
     "name": "stdin",
     "output_type": "stream",
     "text": [
      "나이를 입력하세요:  .\n"
     ]
    },
    {
     "name": "stdout",
     "output_type": "stream",
     "text": [
      "입력이 정확하지 않습니다.\n"
     ]
    }
   ],
   "source": [
    "try:\n",
    "    age=int(input('나이를 입력하세요: '))\n",
    "except:\n",
    "    print('입력이 정확하지 않습니다.')\n",
    "else:\n",
    "    if age <= 18:\n",
    "        print('미성년자는 출입금지입니다.')\n",
    "    else:\n",
    "        print('환영합니다.')"
   ]
  },
  {
   "cell_type": "markdown",
   "id": "b81bc17c-6817-4cb9-a537-f94b17d8f975",
   "metadata": {},
   "source": [
    "# 오류 회피하기"
   ]
  },
  {
   "cell_type": "code",
   "execution_count": 84,
   "id": "439b77b2-1b1a-4fb2-8bd7-45d7cd917c52",
   "metadata": {},
   "outputs": [],
   "source": [
    "try:\n",
    "    f = open(\"나없는파일\", 'r')\n",
    "except FileNotFoundError:\n",
    "    pass"
   ]
  },
  {
   "cell_type": "markdown",
   "id": "ce1f8ec8-feb1-4738-82c3-fb4defaf0f89",
   "metadata": {},
   "source": [
    "# 오류 일부러 발생시키기"
   ]
  },
  {
   "cell_type": "code",
   "execution_count": 85,
   "id": "2036107b-2f11-4463-95ed-598762fa312d",
   "metadata": {},
   "outputs": [],
   "source": [
    "class Bird:\n",
    "    def fly(self):\n",
    "        raise NotImplementedError"
   ]
  },
  {
   "cell_type": "code",
   "execution_count": 86,
   "id": "9036cfeb-ddc4-463b-a4a1-b5304b9bf46b",
   "metadata": {},
   "outputs": [
    {
     "ename": "NotImplementedError",
     "evalue": "",
     "output_type": "error",
     "traceback": [
      "\u001b[1;31m---------------------------------------------------------------------------\u001b[0m",
      "\u001b[1;31mNotImplementedError\u001b[0m                       Traceback (most recent call last)",
      "Cell \u001b[1;32mIn[86], line 5\u001b[0m\n\u001b[0;32m      2\u001b[0m     \u001b[38;5;28;01mpass\u001b[39;00m\n\u001b[0;32m      4\u001b[0m eagle \u001b[38;5;241m=\u001b[39m Eagle()\n\u001b[1;32m----> 5\u001b[0m eagle\u001b[38;5;241m.\u001b[39mfly()\n",
      "Cell \u001b[1;32mIn[85], line 3\u001b[0m, in \u001b[0;36mBird.fly\u001b[1;34m(self)\u001b[0m\n\u001b[0;32m      2\u001b[0m \u001b[38;5;28;01mdef\u001b[39;00m \u001b[38;5;21mfly\u001b[39m(\u001b[38;5;28mself\u001b[39m):\n\u001b[1;32m----> 3\u001b[0m     \u001b[38;5;28;01mraise\u001b[39;00m \u001b[38;5;167;01mNotImplementedError\u001b[39;00m\n",
      "\u001b[1;31mNotImplementedError\u001b[0m: "
     ]
    }
   ],
   "source": [
    "class Eagle(Bird):\n",
    "    pass\n",
    "\n",
    "eagle = Eagle()\n",
    "eagle.fly()"
   ]
  },
  {
   "cell_type": "code",
   "execution_count": 87,
   "id": "2344a82d-97b8-41bd-b74e-873492dab52f",
   "metadata": {},
   "outputs": [
    {
     "name": "stdout",
     "output_type": "stream",
     "text": [
      "very fast\n"
     ]
    }
   ],
   "source": [
    "class Eagle(Bird):\n",
    "    def fly(self):\n",
    "        print(\"very fast\")\n",
    "\n",
    "eagle = Eagle()\n",
    "eagle.fly()"
   ]
  },
  {
   "cell_type": "markdown",
   "id": "3a4ec4af-5993-4471-8be3-38ddc7c4ac78",
   "metadata": {},
   "source": [
    "# 예외 만들기"
   ]
  },
  {
   "cell_type": "code",
   "execution_count": 88,
   "id": "2d7a3be5-cfca-4178-8a3f-e2b6722892d8",
   "metadata": {},
   "outputs": [],
   "source": [
    "class MyError(Exception):\n",
    "    pass"
   ]
  },
  {
   "cell_type": "code",
   "execution_count": 89,
   "id": "77cebaab-0bbe-4c56-8bbc-06401bf899fa",
   "metadata": {},
   "outputs": [],
   "source": [
    "def say_nick(nick):\n",
    "    if nick == '바보':\n",
    "        raise MyError()\n",
    "    print(nick)"
   ]
  },
  {
   "cell_type": "code",
   "execution_count": 90,
   "id": "3a5aa8a3-5d86-43fd-9165-4641c7bac19a",
   "metadata": {},
   "outputs": [
    {
     "name": "stdout",
     "output_type": "stream",
     "text": [
      "천사\n"
     ]
    },
    {
     "ename": "MyError",
     "evalue": "",
     "output_type": "error",
     "traceback": [
      "\u001b[1;31m---------------------------------------------------------------------------\u001b[0m",
      "\u001b[1;31mMyError\u001b[0m                                   Traceback (most recent call last)",
      "Cell \u001b[1;32mIn[90], line 2\u001b[0m\n\u001b[0;32m      1\u001b[0m say_nick(\u001b[38;5;124m\"\u001b[39m\u001b[38;5;124m천사\u001b[39m\u001b[38;5;124m\"\u001b[39m)\n\u001b[1;32m----> 2\u001b[0m say_nick(\u001b[38;5;124m\"\u001b[39m\u001b[38;5;124m바보\u001b[39m\u001b[38;5;124m\"\u001b[39m)\n",
      "Cell \u001b[1;32mIn[89], line 3\u001b[0m, in \u001b[0;36msay_nick\u001b[1;34m(nick)\u001b[0m\n\u001b[0;32m      1\u001b[0m \u001b[38;5;28;01mdef\u001b[39;00m \u001b[38;5;21msay_nick\u001b[39m(nick):\n\u001b[0;32m      2\u001b[0m     \u001b[38;5;28;01mif\u001b[39;00m nick \u001b[38;5;241m==\u001b[39m \u001b[38;5;124m'\u001b[39m\u001b[38;5;124m바보\u001b[39m\u001b[38;5;124m'\u001b[39m:\n\u001b[1;32m----> 3\u001b[0m         \u001b[38;5;28;01mraise\u001b[39;00m MyError()\n\u001b[0;32m      4\u001b[0m     \u001b[38;5;28mprint\u001b[39m(nick)\n",
      "\u001b[1;31mMyError\u001b[0m: "
     ]
    }
   ],
   "source": [
    "say_nick(\"천사\")\n",
    "say_nick(\"바보\")"
   ]
  },
  {
   "cell_type": "code",
   "execution_count": 91,
   "id": "ac7f6683-9313-4cd0-b988-996f80f315a7",
   "metadata": {},
   "outputs": [
    {
     "name": "stdout",
     "output_type": "stream",
     "text": [
      "천사\n",
      "허용되지 않는 별명입니다.\n"
     ]
    }
   ],
   "source": [
    "try:\n",
    "    say_nick(\"천사\")\n",
    "    say_nick(\"바보\")\n",
    "except MyError:\n",
    "    print(\"허용되지 않는 별명입니다.\")"
   ]
  }
 ],
 "metadata": {
  "kernelspec": {
   "display_name": "Python 3 (ipykernel)",
   "language": "python",
   "name": "python3"
  },
  "language_info": {
   "codemirror_mode": {
    "name": "ipython",
    "version": 3
   },
   "file_extension": ".py",
   "mimetype": "text/x-python",
   "name": "python",
   "nbconvert_exporter": "python",
   "pygments_lexer": "ipython3",
   "version": "3.11.7"
  }
 },
 "nbformat": 4,
 "nbformat_minor": 5
}
