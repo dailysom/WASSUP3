{
 "cells": [
  {
   "cell_type": "code",
   "execution_count": null,
   "id": "2f635818-d64d-4eb8-afdc-f19e04b49911",
   "metadata": {},
   "outputs": [],
   "source": []
  },
  {
   "cell_type": "code",
   "execution_count": null,
   "id": "9cb00744-4812-47cd-a8da-1ffcd589a9b2",
   "metadata": {},
   "outputs": [],
   "source": [
    "import requests, time, os, json\n",
    "from html import unescape"
   ]
  },
  {
   "cell_type": "code",
   "execution_count": null,
   "id": "9c9dc677-39bf-4b0a-ac04-adec071b13c5",
   "metadata": {},
   "outputs": [],
   "source": [
    "# input\n",
    "client_id = 'LngkZKOJFh1fUuFMdEKq'\n",
    "client_secret = 'HMHXbsH7W_'"
   ]
  },
  {
   "cell_type": "code",
   "execution_count": null,
   "id": "a6c636a4-3c89-4991-8b06-08b24e2cb92a",
   "metadata": {},
   "outputs": [],
   "source": []
  },
  {
   "cell_type": "code",
   "execution_count": null,
   "id": "ae1e6026-c5cb-484c-9732-70d4eca42508",
   "metadata": {},
   "outputs": [],
   "source": []
  },
  {
   "cell_type": "code",
   "execution_count": null,
   "id": "45fc2452-0862-4dbe-91ad-061165d19d0d",
   "metadata": {},
   "outputs": [],
   "source": []
  },
  {
   "cell_type": "code",
   "execution_count": null,
   "id": "4894624f-1d52-408d-82aa-e5851eed8c47",
   "metadata": {},
   "outputs": [],
   "source": []
  },
  {
   "cell_type": "code",
   "execution_count": null,
   "id": "7f055cce-5ec0-46f7-93bb-f6c3b261c51a",
   "metadata": {},
   "outputs": [],
   "source": []
  },
  {
   "cell_type": "code",
   "execution_count": null,
   "id": "849ae78e-3e79-49fe-8d08-708a24ee2e09",
   "metadata": {},
   "outputs": [],
   "source": []
  },
  {
   "cell_type": "code",
   "execution_count": null,
   "id": "19ed824a-2d37-48c1-90e6-cbb1571d1cc3",
   "metadata": {},
   "outputs": [],
   "source": []
  },
  {
   "cell_type": "code",
   "execution_count": null,
   "id": "87a338cf-d66c-41dc-940b-b92a249c5daa",
   "metadata": {},
   "outputs": [],
   "source": []
  },
  {
   "cell_type": "code",
   "execution_count": null,
   "id": "8b33409f-b667-46da-ac56-b845d0c15ba9",
   "metadata": {},
   "outputs": [],
   "source": []
  },
  {
   "cell_type": "code",
   "execution_count": null,
   "id": "eccee747-5d54-4ae1-86db-dd9020a489d7",
   "metadata": {},
   "outputs": [],
   "source": []
  }
 ],
 "metadata": {
  "kernelspec": {
   "display_name": "Python 3 (ipykernel)",
   "language": "python",
   "name": "python3"
  },
  "language_info": {
   "codemirror_mode": {
    "name": "ipython",
    "version": 3
   },
   "file_extension": ".py",
   "mimetype": "text/x-python",
   "name": "python",
   "nbconvert_exporter": "python",
   "pygments_lexer": "ipython3",
   "version": "3.11.7"
  }
 },
 "nbformat": 4,
 "nbformat_minor": 5
}
